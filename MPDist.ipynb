{
 "cells": [
  {
   "cell_type": "code",
   "execution_count": 1,
   "id": "05cfbc0b-8f9b-4c04-8368-10f359fde2d9",
   "metadata": {},
   "outputs": [],
   "source": [
    "from mpdist import mpdist"
   ]
  },
  {
   "cell_type": "code",
   "execution_count": 7,
   "id": "89fd6d27-c1f9-49e5-a8a4-b86eac16a523",
   "metadata": {},
   "outputs": [],
   "source": [
    "from aeon.datasets import load_italy_power_demand\n",
    "X, y = load_italy_power_demand()\n",
    "from aeon.distances import euclidean_distance, dtw_distance\n",
    "import time"
   ]
  },
  {
   "cell_type": "code",
   "execution_count": 4,
   "id": "2396bdb6-9a91-4b78-9bb5-25a53b5f65dc",
   "metadata": {},
   "outputs": [
    {
     "data": {
      "text/plain": [
       "array([[[-0.71051757, -1.1833204 , -1.3724416 , ...,  0.58181015,\n",
       "          0.1720477 , -0.26923494]],\n",
       "\n",
       "       [[-0.99300935, -1.4267865 , -1.5798843 , ...,  0.69106647,\n",
       "         -0.04890624, -0.38061813]],\n",
       "\n",
       "       [[ 1.3190669 ,  0.56977448,  0.19512825, ...,  2.3493441 ,\n",
       "          2.2556825 ,  1.6000516 ]],\n",
       "\n",
       "       ...,\n",
       "\n",
       "       [[-1.2627064 , -1.4497741 , -1.5199244 , ...,  0.81842084,\n",
       "          0.28060142, -0.14030072]],\n",
       "\n",
       "       [[ 0.71432123,  0.62902914,  0.11727662, ...,  2.420163  ,\n",
       "          2.1642867 ,  1.9084104 ]],\n",
       "\n",
       "       [[-0.58214415, -1.1312408 , -1.4973052 , ...,  0.72958677,\n",
       "          0.21099547, -0.00254212]]])"
      ]
     },
     "execution_count": 4,
     "metadata": {},
     "output_type": "execute_result"
    }
   ],
   "source": [
    "X"
   ]
  },
  {
   "cell_type": "code",
   "execution_count": 5,
   "id": "4a093768-9959-4e20-9da7-084dfed6959b",
   "metadata": {},
   "outputs": [
    {
     "data": {
      "text/plain": [
       "(1096, 1, 24)"
      ]
     },
     "execution_count": 5,
     "metadata": {},
     "output_type": "execute_result"
    }
   ],
   "source": [
    "X.shape"
   ]
  },
  {
   "cell_type": "code",
   "execution_count": 12,
   "id": "09de372b-2d68-4389-8cb4-c069ba2bb381",
   "metadata": {},
   "outputs": [],
   "source": [
    "mp_distance = mpdist(X[0], X[1], m = 6)"
   ]
  },
  {
   "cell_type": "code",
   "execution_count": 13,
   "id": "5612038d-bd66-47c2-b08c-cb2acfa1998c",
   "metadata": {},
   "outputs": [
    {
     "data": {
      "text/plain": [
       "0.39838992655731575"
      ]
     },
     "execution_count": 13,
     "metadata": {},
     "output_type": "execute_result"
    }
   ],
   "source": [
    "mp_distance"
   ]
  },
  {
   "cell_type": "code",
   "execution_count": 15,
   "id": "2a5ece5c-735e-446f-bd5a-bef87c99ca38",
   "metadata": {},
   "outputs": [
    {
     "data": {
      "text/plain": [
       "2.2105998447490136"
      ]
     },
     "execution_count": 15,
     "metadata": {},
     "output_type": "execute_result"
    }
   ],
   "source": [
    "euclidean = euclidean_distance(X[0],X[1])\n",
    "euclidean"
   ]
  },
  {
   "cell_type": "code",
   "execution_count": 16,
   "id": "62078bbc-ad6d-4e71-8441-c110ea16986c",
   "metadata": {},
   "outputs": [
    {
     "data": {
      "text/plain": [
       "2.2562779371935555"
      ]
     },
     "execution_count": 16,
     "metadata": {},
     "output_type": "execute_result"
    }
   ],
   "source": [
    "dtw = dtw_distance(X[0], X[1])\n",
    "dtw"
   ]
  },
  {
   "cell_type": "code",
   "execution_count": 17,
   "id": "2a7b1fee-60f9-4bf7-896a-5cfd76e0ff96",
   "metadata": {},
   "outputs": [
    {
     "name": "stdout",
     "output_type": "stream",
     "text": [
      "Elapsed (with compilation) = 0.008843800000249757s\n",
      "Elapsed (after compilation) = 0.009764800000084506s\n"
     ]
    }
   ],
   "source": [
    "\n",
    "\n",
    "# DO NOT REPORT THIS... COMPILATION TIME IS INCLUDED IN THE EXECUTION TIME!\n",
    "start = time.perf_counter()\n",
    "mp_distance = mpdist(X[3], X[8], m = 8)\n",
    "end = time.perf_counter()\n",
    "print(\"Elapsed (with compilation) = {}s\".format((end - start)))\n",
    "\n",
    "# NOW THE FUNCTION IS COMPILED, RE-TIME IT EXECUTING FROM CACHE\n",
    "start = time.perf_counter()\n",
    "mp_distance = mpdist(X[3], X[8], m = 8)\n",
    "end = time.perf_counter()\n",
    "print(\"Elapsed (after compilation) = {}s\".format((end - start)))"
   ]
  },
  {
   "cell_type": "code",
   "execution_count": 6,
   "id": "5f52c226-1fbc-4d06-ba4f-66d07bd8019f",
   "metadata": {},
   "outputs": [
    {
     "ename": "NameError",
     "evalue": "name 'time' is not defined",
     "output_type": "error",
     "traceback": [
      "\u001b[1;31m---------------------------------------------------------------------------\u001b[0m",
      "\u001b[1;31mNameError\u001b[0m                                 Traceback (most recent call last)",
      "Cell \u001b[1;32mIn[6], line 2\u001b[0m\n\u001b[0;32m      1\u001b[0m \u001b[38;5;66;03m# DO NOT REPORT THIS... COMPILATION TIME IS INCLUDED IN THE EXECUTION TIME!\u001b[39;00m\n\u001b[1;32m----> 2\u001b[0m start \u001b[38;5;241m=\u001b[39m time\u001b[38;5;241m.\u001b[39mperf_counter()\n\u001b[0;32m      3\u001b[0m dtw \u001b[38;5;241m=\u001b[39m dtw_distance(X[\u001b[38;5;241m0\u001b[39m], X[\u001b[38;5;241m1\u001b[39m])\n\u001b[0;32m      4\u001b[0m end \u001b[38;5;241m=\u001b[39m time\u001b[38;5;241m.\u001b[39mperf_counter()\n",
      "\u001b[1;31mNameError\u001b[0m: name 'time' is not defined"
     ]
    }
   ],
   "source": [
    "# DO NOT REPORT THIS... COMPILATION TIME IS INCLUDED IN THE EXECUTION TIME!\n",
    "start = time.perf_counter()\n",
    "dtw = dtw_distance(X[0], X[1])\n",
    "end = time.perf_counter()\n",
    "print(\"Elapsed (with compilation) = {}s\".format((end - start)))\n",
    "\n",
    "# NOW THE FUNCTION IS COMPILED, RE-TIME IT EXECUTING FROM CACHE\n",
    "start = time.perf_counter()\n",
    "dtw = dtw_distance(X[0], X[1])\n",
    "end = time.perf_counter()\n",
    "print(\"Elapsed (after compilation) = {}s\".format((end - start)))"
   ]
  },
  {
   "cell_type": "code",
   "execution_count": 20,
   "id": "89ea82cd-14b4-44aa-8701-b54f673c8e7f",
   "metadata": {},
   "outputs": [
    {
     "name": "stdout",
     "output_type": "stream",
     "text": [
      "Elapsed (with compilation) = 0.00868350000018836s\n",
      "Elapsed (after compilation) = 0.007936599999993632s\n"
     ]
    }
   ],
   "source": [
    "# DO NOT REPORT THIS... COMPILATION TIME IS INCLUDED IN THE EXECUTION TIME!\n",
    "start = time.perf_counter()\n",
    "mp_distance = mpdist(X[3], X[8], m = 8)\n",
    "end = time.perf_counter()\n",
    "print(\"Elapsed (with compilation) = {}s\".format((end - start)))\n",
    "\n",
    "# NOW THE FUNCTION IS COMPILED, RE-TIME IT EXECUTING FROM CACHE\n",
    "start = time.perf_counter()\n",
    "mp_distance = mpdist(X[3], X[8], m = 8)\n",
    "end = time.perf_counter()\n",
    "print(\"Elapsed (after compilation) = {}s\".format((end - start)))"
   ]
  },
  {
   "cell_type": "code",
   "execution_count": null,
   "id": "1b7ffcf2-91df-45e0-8528-2a6956e8d336",
   "metadata": {},
   "outputs": [],
   "source": []
  }
 ],
 "metadata": {
  "kernelspec": {
   "display_name": "Python 3 (ipykernel)",
   "language": "python",
   "name": "python3"
  },
  "language_info": {
   "codemirror_mode": {
    "name": "ipython",
    "version": 3
   },
   "file_extension": ".py",
   "mimetype": "text/x-python",
   "name": "python",
   "nbconvert_exporter": "python",
   "pygments_lexer": "ipython3",
   "version": "3.12.2"
  }
 },
 "nbformat": 4,
 "nbformat_minor": 5
}
