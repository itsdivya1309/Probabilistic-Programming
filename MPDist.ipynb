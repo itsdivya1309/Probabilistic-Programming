{
 "cells": [
  {
   "cell_type": "code",
   "execution_count": 1,
   "id": "3f7f6d40-0d5e-46f4-abb3-03bff9c27403",
   "metadata": {},
   "outputs": [],
   "source": [
    "import numpy as np\n",
    "from aeon.distances import mpdist"
   ]
  },
  {
   "cell_type": "code",
   "execution_count": 19,
   "id": "f2eeb083-a333-4a23-8bf0-5af2129a9902",
   "metadata": {},
   "outputs": [
    {
     "name": "stdout",
     "output_type": "stream",
     "text": [
      "(1, 10)\n",
      "(10,)\n"
     ]
    }
   ],
   "source": [
    "y = np.array([[42, 23, 21, 55, 1, 19, 33, 34, 29, 19]])\n",
    "print(y.shape)\n",
    "if y.ndim == 2 and y.shape[0] > 1:\n",
    "    raise ValueError(\"y must be a 1D array or shape (1,n)\")\n",
    "y = y.squeeze()\n",
    "print(y.shape)"
   ]
  },
  {
   "cell_type": "code",
   "execution_count": 17,
   "id": "909dcb27-5a67-470e-801f-2d1c60586d4c",
   "metadata": {},
   "outputs": [
    {
     "data": {
      "text/plain": [
       "array([42, 23, 21, 55,  1, 19, 33, 34, 29, 19])"
      ]
     },
     "execution_count": 17,
     "metadata": {},
     "output_type": "execute_result"
    }
   ],
   "source": [
    "y"
   ]
  },
  {
   "cell_type": "code",
   "execution_count": 10,
   "id": "5995adae-dd3a-4e6f-8ff6-3399519b5172",
   "metadata": {},
   "outputs": [
    {
     "name": "stdout",
     "output_type": "stream",
     "text": [
      "(3, 4)\n"
     ]
    },
    {
     "ename": "ValueError",
     "evalue": "y must be a 1D array or shape (1,n)",
     "output_type": "error",
     "traceback": [
      "\u001b[1;31m---------------------------------------------------------------------------\u001b[0m",
      "\u001b[1;31mValueError\u001b[0m                                Traceback (most recent call last)",
      "Cell \u001b[1;32mIn[10], line 4\u001b[0m\n\u001b[0;32m      2\u001b[0m \u001b[38;5;28mprint\u001b[39m(y\u001b[38;5;241m.\u001b[39mshape)\n\u001b[0;32m      3\u001b[0m \u001b[38;5;28;01mif\u001b[39;00m y\u001b[38;5;241m.\u001b[39mndim \u001b[38;5;241m==\u001b[39m \u001b[38;5;241m2\u001b[39m \u001b[38;5;129;01mand\u001b[39;00m y\u001b[38;5;241m.\u001b[39mshape[\u001b[38;5;241m0\u001b[39m] \u001b[38;5;241m>\u001b[39m \u001b[38;5;241m1\u001b[39m:\n\u001b[1;32m----> 4\u001b[0m     \u001b[38;5;28;01mraise\u001b[39;00m \u001b[38;5;167;01mValueError\u001b[39;00m(\u001b[38;5;124m\"\u001b[39m\u001b[38;5;124my must be a 1D array or shape (1,n)\u001b[39m\u001b[38;5;124m\"\u001b[39m)\n",
      "\u001b[1;31mValueError\u001b[0m: y must be a 1D array or shape (1,n)"
     ]
    }
   ],
   "source": [
    "y = np.array([[11, 12, 13, 14],[7, 8, 9, 20],[1, 3, 4, 5]])\n",
    "print(y.shape)\n",
    "if y.ndim == 2 and y.shape[0] > 1:\n",
    "    raise ValueError(\"y must be a 1D array or shape (1,n)\")"
   ]
  },
  {
   "cell_type": "code",
   "execution_count": 14,
   "id": "05244d0a-2135-4629-bd98-bbb8e2592f7d",
   "metadata": {},
   "outputs": [
    {
     "name": "stdout",
     "output_type": "stream",
     "text": [
      "(10,)\n",
      "(10,)\n"
     ]
    }
   ],
   "source": [
    "y = np.array([11, 12, 13, 14, 15, 16, 17, 18, 19, 20])\n",
    "print(y.shape)\n",
    "if y.ndim == 2 and y.shape[0] > 1:\n",
    "    raise ValueError(\"y must be a 1D array or shape (1,n)\")\n",
    "y = y.squeeze()\n",
    "print(y.shape)"
   ]
  },
  {
   "cell_type": "code",
   "execution_count": 15,
   "id": "858e9fa1-c904-4201-a428-43206e9a55c8",
   "metadata": {},
   "outputs": [
    {
     "data": {
      "text/plain": [
       "array([11, 12, 13, 14, 15, 16, 17, 18, 19, 20])"
      ]
     },
     "execution_count": 15,
     "metadata": {},
     "output_type": "execute_result"
    }
   ],
   "source": [
    "y"
   ]
  },
  {
   "cell_type": "code",
   "execution_count": 20,
   "id": "9f191361-6ce4-4e2b-9033-f43ccdb078d8",
   "metadata": {},
   "outputs": [],
   "source": [
    "y = np.array([11, 12, 13, 14, 15, 16, 17, 18, 19, 20])"
   ]
  },
  {
   "cell_type": "code",
   "execution_count": 22,
   "id": "dec27ac4-ef21-47fa-9407-89f1582eccb7",
   "metadata": {},
   "outputs": [
    {
     "data": {
      "text/plain": [
       "(1, 10)"
      ]
     },
     "execution_count": 22,
     "metadata": {},
     "output_type": "execute_result"
    }
   ],
   "source": [
    "if y.ndim == 1:\n",
    "    _y = y.reshape((1, y.shape[0]))\n",
    "_y.shape"
   ]
  },
  {
   "cell_type": "code",
   "execution_count": 24,
   "id": "a4cb1a37-c86a-4058-845d-3bb0d2e031f1",
   "metadata": {},
   "outputs": [],
   "source": [
    "x = np.array([1,2,3,5,9])\n",
    "y = np.array([3,7,13,19])\n",
    "m = 2"
   ]
  },
  {
   "cell_type": "code",
   "execution_count": 25,
   "id": "2706ac65-cef7-48d7-bf7e-5be68475d85e",
   "metadata": {},
   "outputs": [
    {
     "data": {
      "text/plain": [
       "5"
      ]
     },
     "execution_count": 25,
     "metadata": {},
     "output_type": "execute_result"
    }
   ],
   "source": [
    "len(x)"
   ]
  },
  {
   "cell_type": "code",
   "execution_count": 26,
   "id": "1f978148-68f4-486b-ae3a-3a724239039c",
   "metadata": {},
   "outputs": [],
   "source": [
    "n_x_subs = len(x) - m + 1\n",
    "n_y_subs = len(y) - m + 1"
   ]
  },
  {
   "cell_type": "code",
   "execution_count": 27,
   "id": "99a3da79-578a-4772-806f-3583f8028794",
   "metadata": {},
   "outputs": [
    {
     "data": {
      "text/plain": [
       "[1.5, 2.5, 4.0, 7.0]"
      ]
     },
     "execution_count": 27,
     "metadata": {},
     "output_type": "execute_result"
    }
   ],
   "source": [
    "x_mean = [np.mean(x[i : i + m]) for i in range(0, n_x_subs)]\n",
    "x_mean"
   ]
  },
  {
   "cell_type": "code",
   "execution_count": 29,
   "id": "b8a1dac5-087a-4ed0-a3da-ed31377343c6",
   "metadata": {},
   "outputs": [],
   "source": [
    "# Compute the mean and standard deviation\n",
    "x_mean = [np.mean(x[i : i + m]) for i in range(0, n_x_subs)]\n",
    "x_std = [np.std(x[i : i + m]) for i in range(0, n_x_subs)]\n",
    "\n",
    "y_mean = [np.mean(y[i : i + m]) for i in range(0, n_y_subs)]\n",
    "y_std = [np.std(y[i : i + m]) for i in range(0, n_y_subs)]"
   ]
  },
  {
   "cell_type": "code",
   "execution_count": 31,
   "id": "a0fb83f7-d4f2-4a2d-8bb0-60c15a9fcd58",
   "metadata": {},
   "outputs": [
    {
     "name": "stdout",
     "output_type": "stream",
     "text": [
      "[1.5, 2.5, 4.0, 7.0]\n",
      "[0.5, 0.5, 1.0, 2.0]\n",
      "[5.0, 10.0, 16.0]\n",
      "[2.0, 3.0, 3.0]\n"
     ]
    }
   ],
   "source": [
    "print(x_mean)\n",
    "print(x_std)\n",
    "print(y_mean)\n",
    "print(y_std)"
   ]
  },
  {
   "cell_type": "code",
   "execution_count": null,
   "id": "ca84a6e4-2b7c-4935-9f2c-81d6ef51ddde",
   "metadata": {},
   "outputs": [],
   "source": []
  }
 ],
 "metadata": {
  "kernelspec": {
   "display_name": "Python 3 (ipykernel)",
   "language": "python",
   "name": "python3"
  },
  "language_info": {
   "codemirror_mode": {
    "name": "ipython",
    "version": 3
   },
   "file_extension": ".py",
   "mimetype": "text/x-python",
   "name": "python",
   "nbconvert_exporter": "python",
   "pygments_lexer": "ipython3",
   "version": "3.12.2"
  }
 },
 "nbformat": 4,
 "nbformat_minor": 5
}
