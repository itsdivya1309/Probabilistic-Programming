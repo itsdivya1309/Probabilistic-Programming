{
 "cells": [
  {
   "cell_type": "code",
   "execution_count": 1,
   "id": "05cfbc0b-8f9b-4c04-8368-10f359fde2d9",
   "metadata": {},
   "outputs": [],
   "source": [
    "from mpdist import mpdist\n",
    "import numpy as np"
   ]
  },
  {
   "cell_type": "code",
   "execution_count": 2,
   "id": "89fd6d27-c1f9-49e5-a8a4-b86eac16a523",
   "metadata": {},
   "outputs": [],
   "source": [
    "from aeon.datasets import load_italy_power_demand\n",
    "X, y = load_italy_power_demand()\n",
    "from aeon.distances import euclidean_distance, dtw_distance\n",
    "import time"
   ]
  },
  {
   "cell_type": "code",
   "execution_count": 3,
   "id": "2396bdb6-9a91-4b78-9bb5-25a53b5f65dc",
   "metadata": {},
   "outputs": [
    {
     "data": {
      "text/plain": [
       "array([[[-0.71051757, -1.1833204 , -1.3724416 , ...,  0.58181015,\n",
       "          0.1720477 , -0.26923494]],\n",
       "\n",
       "       [[-0.99300935, -1.4267865 , -1.5798843 , ...,  0.69106647,\n",
       "         -0.04890624, -0.38061813]],\n",
       "\n",
       "       [[ 1.3190669 ,  0.56977448,  0.19512825, ...,  2.3493441 ,\n",
       "          2.2556825 ,  1.6000516 ]],\n",
       "\n",
       "       ...,\n",
       "\n",
       "       [[-1.2627064 , -1.4497741 , -1.5199244 , ...,  0.81842084,\n",
       "          0.28060142, -0.14030072]],\n",
       "\n",
       "       [[ 0.71432123,  0.62902914,  0.11727662, ...,  2.420163  ,\n",
       "          2.1642867 ,  1.9084104 ]],\n",
       "\n",
       "       [[-0.58214415, -1.1312408 , -1.4973052 , ...,  0.72958677,\n",
       "          0.21099547, -0.00254212]]])"
      ]
     },
     "execution_count": 3,
     "metadata": {},
     "output_type": "execute_result"
    }
   ],
   "source": [
    "X"
   ]
  },
  {
   "cell_type": "code",
   "execution_count": 4,
   "id": "4a093768-9959-4e20-9da7-084dfed6959b",
   "metadata": {},
   "outputs": [
    {
     "data": {
      "text/plain": [
       "(1096, 1, 24)"
      ]
     },
     "execution_count": 4,
     "metadata": {},
     "output_type": "execute_result"
    }
   ],
   "source": [
    "X.shape"
   ]
  },
  {
   "cell_type": "code",
   "execution_count": 5,
   "id": "09de372b-2d68-4389-8cb4-c069ba2bb381",
   "metadata": {},
   "outputs": [
    {
     "ename": "TypingError",
     "evalue": "Failed in nopython mode pipeline (step: nopython frontend)\n\u001b[1mNameError: name 'len1' is not defined\u001b[0m",
     "output_type": "error",
     "traceback": [
      "\u001b[1;31m---------------------------------------------------------------------------\u001b[0m",
      "\u001b[1;31mTypingError\u001b[0m                               Traceback (most recent call last)",
      "Cell \u001b[1;32mIn[5], line 1\u001b[0m\n\u001b[1;32m----> 1\u001b[0m mp_distance \u001b[38;5;241m=\u001b[39m mpdist(X[\u001b[38;5;241m0\u001b[39m], X[\u001b[38;5;241m1\u001b[39m], m \u001b[38;5;241m=\u001b[39m \u001b[38;5;241m6\u001b[39m)\n",
      "File \u001b[1;32m~\\anaconda3\\envs\\aeon-env\\Lib\\site-packages\\numba\\core\\dispatcher.py:468\u001b[0m, in \u001b[0;36m_DispatcherBase._compile_for_args\u001b[1;34m(self, *args, **kws)\u001b[0m\n\u001b[0;32m    464\u001b[0m         msg \u001b[38;5;241m=\u001b[39m (\u001b[38;5;124mf\u001b[39m\u001b[38;5;124m\"\u001b[39m\u001b[38;5;132;01m{\u001b[39;00m\u001b[38;5;28mstr\u001b[39m(e)\u001b[38;5;241m.\u001b[39mrstrip()\u001b[38;5;132;01m}\u001b[39;00m\u001b[38;5;124m \u001b[39m\u001b[38;5;130;01m\\n\u001b[39;00m\u001b[38;5;130;01m\\n\u001b[39;00m\u001b[38;5;124mThis error may have been caused \u001b[39m\u001b[38;5;124m\"\u001b[39m\n\u001b[0;32m    465\u001b[0m                \u001b[38;5;124mf\u001b[39m\u001b[38;5;124m\"\u001b[39m\u001b[38;5;124mby the following argument(s):\u001b[39m\u001b[38;5;130;01m\\n\u001b[39;00m\u001b[38;5;132;01m{\u001b[39;00margs_str\u001b[38;5;132;01m}\u001b[39;00m\u001b[38;5;130;01m\\n\u001b[39;00m\u001b[38;5;124m\"\u001b[39m)\n\u001b[0;32m    466\u001b[0m         e\u001b[38;5;241m.\u001b[39mpatch_message(msg)\n\u001b[1;32m--> 468\u001b[0m     error_rewrite(e, \u001b[38;5;124m'\u001b[39m\u001b[38;5;124mtyping\u001b[39m\u001b[38;5;124m'\u001b[39m)\n\u001b[0;32m    469\u001b[0m \u001b[38;5;28;01mexcept\u001b[39;00m errors\u001b[38;5;241m.\u001b[39mUnsupportedError \u001b[38;5;28;01mas\u001b[39;00m e:\n\u001b[0;32m    470\u001b[0m     \u001b[38;5;66;03m# Something unsupported is present in the user code, add help info\u001b[39;00m\n\u001b[0;32m    471\u001b[0m     error_rewrite(e, \u001b[38;5;124m'\u001b[39m\u001b[38;5;124munsupported_error\u001b[39m\u001b[38;5;124m'\u001b[39m)\n",
      "File \u001b[1;32m~\\anaconda3\\envs\\aeon-env\\Lib\\site-packages\\numba\\core\\dispatcher.py:409\u001b[0m, in \u001b[0;36m_DispatcherBase._compile_for_args.<locals>.error_rewrite\u001b[1;34m(e, issue_type)\u001b[0m\n\u001b[0;32m    407\u001b[0m     \u001b[38;5;28;01mraise\u001b[39;00m e\n\u001b[0;32m    408\u001b[0m \u001b[38;5;28;01melse\u001b[39;00m:\n\u001b[1;32m--> 409\u001b[0m     \u001b[38;5;28;01mraise\u001b[39;00m e\u001b[38;5;241m.\u001b[39mwith_traceback(\u001b[38;5;28;01mNone\u001b[39;00m)\n",
      "\u001b[1;31mTypingError\u001b[0m: Failed in nopython mode pipeline (step: nopython frontend)\n\u001b[1mNameError: name 'len1' is not defined\u001b[0m"
     ]
    }
   ],
   "source": [
    "mp_distance = mpdist(X[0], X[1], m = 6)"
   ]
  },
  {
   "cell_type": "code",
   "execution_count": 13,
   "id": "5612038d-bd66-47c2-b08c-cb2acfa1998c",
   "metadata": {},
   "outputs": [
    {
     "data": {
      "text/plain": [
       "0.39838992655731575"
      ]
     },
     "execution_count": 13,
     "metadata": {},
     "output_type": "execute_result"
    }
   ],
   "source": [
    "mp_distance"
   ]
  },
  {
   "cell_type": "code",
   "execution_count": 15,
   "id": "2a5ece5c-735e-446f-bd5a-bef87c99ca38",
   "metadata": {},
   "outputs": [
    {
     "data": {
      "text/plain": [
       "2.2105998447490136"
      ]
     },
     "execution_count": 15,
     "metadata": {},
     "output_type": "execute_result"
    }
   ],
   "source": [
    "euclidean = euclidean_distance(X[0],X[1])\n",
    "euclidean"
   ]
  },
  {
   "cell_type": "code",
   "execution_count": 16,
   "id": "62078bbc-ad6d-4e71-8441-c110ea16986c",
   "metadata": {},
   "outputs": [
    {
     "data": {
      "text/plain": [
       "2.2562779371935555"
      ]
     },
     "execution_count": 16,
     "metadata": {},
     "output_type": "execute_result"
    }
   ],
   "source": [
    "dtw = dtw_distance(X[0], X[1])\n",
    "dtw"
   ]
  },
  {
   "cell_type": "code",
   "execution_count": 17,
   "id": "2a7b1fee-60f9-4bf7-896a-5cfd76e0ff96",
   "metadata": {},
   "outputs": [
    {
     "name": "stdout",
     "output_type": "stream",
     "text": [
      "Elapsed (with compilation) = 0.008843800000249757s\n",
      "Elapsed (after compilation) = 0.009764800000084506s\n"
     ]
    }
   ],
   "source": [
    "\n",
    "\n",
    "# DO NOT REPORT THIS... COMPILATION TIME IS INCLUDED IN THE EXECUTION TIME!\n",
    "start = time.perf_counter()\n",
    "mp_distance = mpdist(X[3], X[8], m = 8)\n",
    "end = time.perf_counter()\n",
    "print(\"Elapsed (with compilation) = {}s\".format((end - start)))\n",
    "\n",
    "# NOW THE FUNCTION IS COMPILED, RE-TIME IT EXECUTING FROM CACHE\n",
    "start = time.perf_counter()\n",
    "mp_distance = mpdist(X[3], X[8], m = 8)\n",
    "end = time.perf_counter()\n",
    "print(\"Elapsed (after compilation) = {}s\".format((end - start)))"
   ]
  },
  {
   "cell_type": "code",
   "execution_count": 8,
   "id": "5f52c226-1fbc-4d06-ba4f-66d07bd8019f",
   "metadata": {},
   "outputs": [
    {
     "name": "stdout",
     "output_type": "stream",
     "text": [
      "Elapsed (with compilation) = 0.7887432999996236s\n",
      "Elapsed (after compilation) = 0.0003375000005689799s\n"
     ]
    }
   ],
   "source": [
    "# DO NOT REPORT THIS... COMPILATION TIME IS INCLUDED IN THE EXECUTION TIME!\n",
    "start = time.perf_counter()\n",
    "dtw = dtw_distance(X[0], X[1])\n",
    "end = time.perf_counter()\n",
    "print(\"Elapsed (with compilation) = {}s\".format((end - start)))\n",
    "\n",
    "# NOW THE FUNCTION IS COMPILED, RE-TIME IT EXECUTING FROM CACHE\n",
    "start = time.perf_counter()\n",
    "dtw = dtw_distance(X[0], X[1])\n",
    "end = time.perf_counter()\n",
    "print(\"Elapsed (after compilation) = {}s\".format((end - start)))"
   ]
  },
  {
   "cell_type": "code",
   "execution_count": 9,
   "id": "89ea82cd-14b4-44aa-8701-b54f673c8e7f",
   "metadata": {},
   "outputs": [
    {
     "ename": "TypingError",
     "evalue": "Failed in nopython mode pipeline (step: nopython frontend)\n\u001b[1m\u001b[1mUnknown attribute 'squeeze' of type array(float64, 2d, C)\n\u001b[1m\nFile \"mpdist.py\", line 79:\u001b[0m\n\u001b[1mdef mpdist(\n    <source elided>\n        raise ValueError(\"y must be a 1D array or shape (1,n)\")\n\u001b[1m    x = x.squeeze()\n\u001b[0m    \u001b[1m^\u001b[0m\u001b[0m\n\u001b[0m\n\u001b[0m\u001b[1mDuring: typing of get attribute at D:\\Python\\Project\\Aeon\\Probabilistic-Programming\\mpdist.py (79)\u001b[0m\n\u001b[1m\nFile \"mpdist.py\", line 79:\u001b[0m\n\u001b[1mdef mpdist(\n    <source elided>\n        raise ValueError(\"y must be a 1D array or shape (1,n)\")\n\u001b[1m    x = x.squeeze()\n\u001b[0m    \u001b[1m^\u001b[0m\u001b[0m\n",
     "output_type": "error",
     "traceback": [
      "\u001b[1;31m---------------------------------------------------------------------------\u001b[0m",
      "\u001b[1;31mTypingError\u001b[0m                               Traceback (most recent call last)",
      "Cell \u001b[1;32mIn[9], line 3\u001b[0m\n\u001b[0;32m      1\u001b[0m \u001b[38;5;66;03m# DO NOT REPORT THIS... COMPILATION TIME IS INCLUDED IN THE EXECUTION TIME!\u001b[39;00m\n\u001b[0;32m      2\u001b[0m start \u001b[38;5;241m=\u001b[39m time\u001b[38;5;241m.\u001b[39mperf_counter()\n\u001b[1;32m----> 3\u001b[0m mp_distance \u001b[38;5;241m=\u001b[39m mpdist(X[\u001b[38;5;241m3\u001b[39m], X[\u001b[38;5;241m8\u001b[39m], m \u001b[38;5;241m=\u001b[39m \u001b[38;5;241m8\u001b[39m)\n\u001b[0;32m      4\u001b[0m end \u001b[38;5;241m=\u001b[39m time\u001b[38;5;241m.\u001b[39mperf_counter()\n\u001b[0;32m      5\u001b[0m \u001b[38;5;28mprint\u001b[39m(\u001b[38;5;124m\"\u001b[39m\u001b[38;5;124mElapsed (with compilation) = \u001b[39m\u001b[38;5;132;01m{}\u001b[39;00m\u001b[38;5;124ms\u001b[39m\u001b[38;5;124m\"\u001b[39m\u001b[38;5;241m.\u001b[39mformat((end \u001b[38;5;241m-\u001b[39m start)))\n",
      "File \u001b[1;32m~\\anaconda3\\envs\\aeon-env\\Lib\\site-packages\\numba\\core\\dispatcher.py:468\u001b[0m, in \u001b[0;36m_DispatcherBase._compile_for_args\u001b[1;34m(self, *args, **kws)\u001b[0m\n\u001b[0;32m    464\u001b[0m         msg \u001b[38;5;241m=\u001b[39m (\u001b[38;5;124mf\u001b[39m\u001b[38;5;124m\"\u001b[39m\u001b[38;5;132;01m{\u001b[39;00m\u001b[38;5;28mstr\u001b[39m(e)\u001b[38;5;241m.\u001b[39mrstrip()\u001b[38;5;132;01m}\u001b[39;00m\u001b[38;5;124m \u001b[39m\u001b[38;5;130;01m\\n\u001b[39;00m\u001b[38;5;130;01m\\n\u001b[39;00m\u001b[38;5;124mThis error may have been caused \u001b[39m\u001b[38;5;124m\"\u001b[39m\n\u001b[0;32m    465\u001b[0m                \u001b[38;5;124mf\u001b[39m\u001b[38;5;124m\"\u001b[39m\u001b[38;5;124mby the following argument(s):\u001b[39m\u001b[38;5;130;01m\\n\u001b[39;00m\u001b[38;5;132;01m{\u001b[39;00margs_str\u001b[38;5;132;01m}\u001b[39;00m\u001b[38;5;130;01m\\n\u001b[39;00m\u001b[38;5;124m\"\u001b[39m)\n\u001b[0;32m    466\u001b[0m         e\u001b[38;5;241m.\u001b[39mpatch_message(msg)\n\u001b[1;32m--> 468\u001b[0m     error_rewrite(e, \u001b[38;5;124m'\u001b[39m\u001b[38;5;124mtyping\u001b[39m\u001b[38;5;124m'\u001b[39m)\n\u001b[0;32m    469\u001b[0m \u001b[38;5;28;01mexcept\u001b[39;00m errors\u001b[38;5;241m.\u001b[39mUnsupportedError \u001b[38;5;28;01mas\u001b[39;00m e:\n\u001b[0;32m    470\u001b[0m     \u001b[38;5;66;03m# Something unsupported is present in the user code, add help info\u001b[39;00m\n\u001b[0;32m    471\u001b[0m     error_rewrite(e, \u001b[38;5;124m'\u001b[39m\u001b[38;5;124munsupported_error\u001b[39m\u001b[38;5;124m'\u001b[39m)\n",
      "File \u001b[1;32m~\\anaconda3\\envs\\aeon-env\\Lib\\site-packages\\numba\\core\\dispatcher.py:409\u001b[0m, in \u001b[0;36m_DispatcherBase._compile_for_args.<locals>.error_rewrite\u001b[1;34m(e, issue_type)\u001b[0m\n\u001b[0;32m    407\u001b[0m     \u001b[38;5;28;01mraise\u001b[39;00m e\n\u001b[0;32m    408\u001b[0m \u001b[38;5;28;01melse\u001b[39;00m:\n\u001b[1;32m--> 409\u001b[0m     \u001b[38;5;28;01mraise\u001b[39;00m e\u001b[38;5;241m.\u001b[39mwith_traceback(\u001b[38;5;28;01mNone\u001b[39;00m)\n",
      "\u001b[1;31mTypingError\u001b[0m: Failed in nopython mode pipeline (step: nopython frontend)\n\u001b[1m\u001b[1mUnknown attribute 'squeeze' of type array(float64, 2d, C)\n\u001b[1m\nFile \"mpdist.py\", line 79:\u001b[0m\n\u001b[1mdef mpdist(\n    <source elided>\n        raise ValueError(\"y must be a 1D array or shape (1,n)\")\n\u001b[1m    x = x.squeeze()\n\u001b[0m    \u001b[1m^\u001b[0m\u001b[0m\n\u001b[0m\n\u001b[0m\u001b[1mDuring: typing of get attribute at D:\\Python\\Project\\Aeon\\Probabilistic-Programming\\mpdist.py (79)\u001b[0m\n\u001b[1m\nFile \"mpdist.py\", line 79:\u001b[0m\n\u001b[1mdef mpdist(\n    <source elided>\n        raise ValueError(\"y must be a 1D array or shape (1,n)\")\n\u001b[1m    x = x.squeeze()\n\u001b[0m    \u001b[1m^\u001b[0m\u001b[0m\n"
     ]
    }
   ],
   "source": [
    "# DO NOT REPORT THIS... COMPILATION TIME IS INCLUDED IN THE EXECUTION TIME!\n",
    "start = time.perf_counter()\n",
    "mp_distance = mpdist(X[3], X[8], m = 8)\n",
    "end = time.perf_counter()\n",
    "print(\"Elapsed (with compilation) = {}s\".format((end - start)))\n",
    "\n",
    "# NOW THE FUNCTION IS COMPILED, RE-TIME IT EXECUTING FROM CACHE\n",
    "start = time.perf_counter()\n",
    "mp_distance = mpdist(X[3], X[8], m = 8)\n",
    "end = time.perf_counter()\n",
    "print(\"Elapsed (after compilation) = {}s\".format((end - start)))"
   ]
  },
  {
   "cell_type": "markdown",
   "id": "5cc5b49e-c335-484a-8c18-22c9cf67850c",
   "metadata": {},
   "source": [
    "## MPDist\n",
    "\n",
    "import numpy as np\n",
    "from numba import njit\n",
    "\n",
    "\n",
    "@njit(cache=True, fastmath=True)\r\n",
    "def mpdist(\r\n",
    "    x: np.ndarray,\r\n",
    "    y: np.ndarray,\r\n",
    "    m: int = 0\r\n",
    ") -> float:\r\n",
    "    r\"\"\"Compute the Matrix Profile distance between two time series.\r\n",
    "\r\n",
    "    Parameters\r\n",
    "    ----------\r\n",
    "    x : np.ndarray\r\n",
    "        First time series, either univariate, shape ``(n_timepoints,)``, or\r\n",
    "        multivariate, shape ``(n_channels, n_timepoints)``.\r\n",
    "    y : np.ndarray\r\n",
    "        Second time series, either univariate, shape ``(n_timepoints,)``, or\r\n",
    "        multivariate, shape ``(n_channels, n_timepoints)``.\r\n",
    "    m : int\r\n",
    "        Length of the subsequence.\r\n",
    "\r\n",
    "    Returns\r\n",
    "    -------\r\n",
    "    float\r\n",
    "        Matrix Profile distance between x and y, minimum value 0.\r\n",
    "\r\n",
    "    Raises\r\n",
    "    ------\r\n",
    "    ValueError\r\n",
    "        If x and y are not 1D or 2D arrays.\r\n",
    "\r\n",
    "    References\r\n",
    "    ----------\r\n",
    "    .. [1] Ratanamahatana C and Keogh E.: Three myths about dynamic time warping data\r\n",
    "    mining, Proceedings of 5th SIAM International Conference on Data Mining, 2005.\r\n",
    "\r\n",
    "    .. [2] Sakoe H. and Chiba S.: Dynamic programming algorithm optimization for\r\n",
    "    spoken word recognition. IEEE Transactions on Acoustics, Speech, and Signal\r\n",
    "    Processing 26(1):43–49, 1978.\r\n",
    "\r\n",
    "    Examples\r\n",
    "    --------\r\n",
    "    >>> import numpy as np\r\n",
    "    >>> from aeon.distances import mpdist\r\n",
    "    >>> x = np.array([1, 2, 3, 4, 5, 6, 7, 8, 9, 10])\r\n",
    "    >>> y = np.array([11, 12, 13, 14, 15, 16, 17, 18, 19, 20])\r\n",
    "    >>> mpdist(x, y) # 1D series\r\n",
    "    768.0\r\n",
    "    >>> x = np.array([[1, 2, 3, 4, 5], [6, 7, 8, 9, 10], [0, 1, 0, 2, 0]])\r\n",
    "    >>> y = np.array([[11, 12, 13, 14],[7, 8, 9, 20],[1, 3, 4, 5]] )\r\n",
    "    >>> mpdist(x, y) # 2D series wi\n",
    "    if (x.ndim == 2 and x.shape[0] > 1) or (y.ndim == 2 and y.shape[0] > 1):\n",
    "        raise ValueError(\"xand y must be a 1D array or shape (1,n)\")\n",
    "\n",
    "    return _mpdistance(x,y,m)\n",
    "\n",
    "def _mpdist(x: np.ndarray, y: np.ndarray, m: int) -> float:\n",
    "    if m == 0:\n",
    "        if len(x)>len(y):\n",
    "            m = int(len(x)/4)th 3 channels, unequal length\r\n",
    "    564.0\r\n",
    "    \"\"\"\n"
   ]
  },
  {
   "cell_type": "code",
   "execution_count": 23,
   "id": "1b7ffcf2-91df-45e0-8528-2a6956e8d336",
   "metadata": {},
   "outputs": [
    {
     "name": "stdout",
     "output_type": "stream",
     "text": [
      "1\n"
     ]
    }
   ],
   "source": [
    "x = np.array([1,3,5,13,15])\n",
    "y = np.array([2,4,8,12,18])\n",
    "print(y.ndim)"
   ]
  },
  {
   "cell_type": "code",
   "execution_count": 24,
   "id": "6ebe5098-d96b-49c4-9b1d-8c2c18b61e9c",
   "metadata": {},
   "outputs": [
    {
     "data": {
      "text/plain": [
       "array([ 1,  3,  5, 13, 15])"
      ]
     },
     "execution_count": 24,
     "metadata": {},
     "output_type": "execute_result"
    }
   ],
   "source": [
    "x"
   ]
  },
  {
   "cell_type": "code",
   "execution_count": 30,
   "id": "34a245d8-461e-4328-adb7-406542108f69",
   "metadata": {},
   "outputs": [
    {
     "data": {
      "text/plain": [
       "(1, 5)"
      ]
     },
     "execution_count": 30,
     "metadata": {},
     "output_type": "execute_result"
    }
   ],
   "source": [
    "x = x.reshape((1,5))\n",
    "x.shape"
   ]
  },
  {
   "cell_type": "code",
   "execution_count": 31,
   "id": "05c4d9b4-45ff-4aa5-84dd-98e8b11556e5",
   "metadata": {},
   "outputs": [
    {
     "data": {
      "text/plain": [
       "array([ 1,  3,  5, 13, 15])"
      ]
     },
     "execution_count": 31,
     "metadata": {},
     "output_type": "execute_result"
    }
   ],
   "source": [
    "x = x.squeeze()\n",
    "x"
   ]
  },
  {
   "cell_type": "code",
   "execution_count": 32,
   "id": "f06a0d2d-4033-429b-8325-fb61c9dfbf19",
   "metadata": {},
   "outputs": [
    {
     "data": {
      "text/plain": [
       "(5,)"
      ]
     },
     "execution_count": 32,
     "metadata": {},
     "output_type": "execute_result"
    }
   ],
   "source": [
    "x.shape"
   ]
  }
 ],
 "metadata": {
  "kernelspec": {
   "display_name": "Python 3 (ipykernel)",
   "language": "python",
   "name": "python3"
  },
  "language_info": {
   "codemirror_mode": {
    "name": "ipython",
    "version": 3
   },
   "file_extension": ".py",
   "mimetype": "text/x-python",
   "name": "python",
   "nbconvert_exporter": "python",
   "pygments_lexer": "ipython3",
   "version": "3.12.2"
  }
 },
 "nbformat": 4,
 "nbformat_minor": 5
}
