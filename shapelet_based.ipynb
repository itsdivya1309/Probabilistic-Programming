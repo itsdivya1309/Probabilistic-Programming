{
 "cells": [
  {
   "cell_type": "markdown",
   "metadata": {
    "collapsed": false,
    "jupyter": {
     "outputs_hidden": false
    }
   },
   "source": [
    "# Shapelet based time series machine learning\n",
    "\n",
    "Shapelets a subsections of times series taken from the train data that are a useful for time series machine learning. They were first proposed ia primitive for machine learning [1][2] and were embedded in a decision tree for classification. The Shapelet Transform Classifier (STC)[3,4] is a pipeline classifier which searches the training data for shapelets, transforms series to vectors of distances to a filtered set of selected shapelets based on information gain, then builds a classifier on the latter.\n",
    "\n",
    "Finding shapelets involves selecting and evaluating shapelets. The original shapelet tree and STC performed a full enumeration of all possible shapelets before keeping the best ones. This is computationally inefficient, and modern shapelet based machine learning algorithms randomise the search."
   ]
  },
  {
   "cell_type": "code",
   "execution_count": 1,
   "metadata": {
    "collapsed": false,
    "jupyter": {
     "outputs_hidden": false
    }
   },
   "outputs": [
    {
     "name": "stderr",
     "output_type": "stream",
     "text": [
      "C:\\Users\\Divya Tiwari\\anaconda3\\envs\\aeon-dev\\Lib\\site-packages\\dask\\dataframe\\_pyarrow_compat.py:23: UserWarning: You are using pyarrow version 11.0.0 which is known to be insecure. See https://www.cve.org/CVERecord?id=CVE-2023-47248 for further details. Please upgrade to pyarrow>=14.0.1 or install pyarrow-hotfix to patch your current version.\n",
      "  warnings.warn(\n"
     ]
    },
    {
     "data": {
      "text/plain": [
       "[('LearningShapeletClassifier',\n",
       "  aeon.classification.shapelet_based._ls.LearningShapeletClassifier),\n",
       " ('MrSQMClassifier',\n",
       "  aeon.classification.shapelet_based._mrsqm.MrSQMClassifier),\n",
       " ('RDSTClassifier', aeon.classification.shapelet_based._rdst.RDSTClassifier),\n",
       " ('ShapeletTransformClassifier',\n",
       "  aeon.classification.shapelet_based._stc.ShapeletTransformClassifier)]"
      ]
     },
     "execution_count": 1,
     "metadata": {},
     "output_type": "execute_result"
    }
   ],
   "source": [
    "import warnings\n",
    "\n",
    "from sklearn.ensemble import RandomForestClassifier\n",
    "from sklearn.metrics import accuracy_score\n",
    "\n",
    "from aeon.datasets import load_basic_motions\n",
    "from aeon.registry import all_estimators\n",
    "from aeon.transformations.collection.shapelet_based import RandomShapeletTransform\n",
    "\n",
    "warnings.filterwarnings(\"ignore\")\n",
    "all_estimators(\"classifier\", filter_tags={\"algorithm_type\": \"shapelet\"})"
   ]
  },
  {
   "cell_type": "markdown",
   "metadata": {
    "collapsed": false,
    "jupyter": {
     "outputs_hidden": false
    }
   },
   "source": [
    "### Shapelet Transform for Classification\n",
    "\n",
    "The `RandomShapeletTransform` transformer takes a set of labelled training time series in the `fit` function, randomly samples `n_shapelet_samples`  shapelets, keeping the best  `max_shapelets`. The resulting shapelets are used in the `transform` function to create a new tabular dataset, where each row represents a time series instance, and each column stores the distance from a time series to a shapelet. The resulting tabular data can be used by any scikit learn compatible classifier. In this notebook we will explain these terms and describe how the algorithm works. But first we show it in action. We will use the BasicMotions data as an example. This data set contains time series of motion traces for the activities \"running\", \"walking\", \"standing\" and \"badminton\". The learning problem is to predict the activity given the time series. Each time series has six channels: x, y, z position and x, y, z accelerometer of the wrist. Data was recorded on a smart watch."
   ]
  },
  {
   "cell_type": "code",
   "execution_count": 2,
   "metadata": {
    "collapsed": false,
    "jupyter": {
     "outputs_hidden": false
    }
   },
   "outputs": [
    {
     "name": "stdout",
     "output_type": "stream",
     "text": [
      " Shape of transformed data =  (40, 8)\n",
      " Distance of second series to third shapelet =  1.302772121165026\n",
      " Shapelets + random forest acc =  0.95\n"
     ]
    }
   ],
   "source": [
    "X, y = load_basic_motions(split=\"train\")\n",
    "rst = RandomShapeletTransform(n_shapelet_samples=100, max_shapelets=10, random_state=42)\n",
    "st = rst.fit_transform(X, y)\n",
    "print(\" Shape of transformed data = \", st.shape)\n",
    "print(\" Distance of second series to third shapelet = \", st[1][2])\n",
    "testX, testy = load_basic_motions(split=\"test\")\n",
    "tr_test = rst.transform(testX)\n",
    "rf = RandomForestClassifier(random_state=10)\n",
    "rf.fit(st, y)\n",
    "preds = rf.predict(tr_test)\n",
    "print(\" Shapelets + random forest acc = \", accuracy_score(preds, testy))"
   ]
  },
  {
   "cell_type": "markdown",
   "metadata": {
    "collapsed": false,
    "jupyter": {
     "outputs_hidden": false
    }
   },
   "source": [
    "### Visualising Shapelets\n",
    "The first column of the transformed data represents the distance from the first shapelet to each time series. The shapelets are sorted, so the first shapelet is the one we estimate is the best (using the calculation described below). You can recover the shapelets from the transform. Each shapelet is a 7-tuple, storing the following information:"
   ]
  },
  {
   "cell_type": "code",
   "execution_count": 3,
   "metadata": {
    "collapsed": false,
    "jupyter": {
     "outputs_hidden": false
    }
   },
   "outputs": [
    {
     "name": "stdout",
     "output_type": "stream",
     "text": [
      "Quality =  0.81127812\n",
      "Length =  39\n",
      "position =  55\n",
      "Channel =  0\n",
      "Origin Instance Index =  11\n",
      "Class label =  running\n",
      "Shapelet =  [-0.85667017 -1.88711152 -0.8751295   0.80633757  1.10838333  0.69810992\n",
      "  0.85713394  1.23190921  0.01801365 -1.29683966 -1.94694259 -0.37487726\n",
      " -0.37487726  1.39471462  0.74922685  0.74922685  0.22343376  0.22343376\n",
      " -0.7730703  -1.37591995 -0.80376393  1.32758071  0.99778845  0.6013481\n",
      "  0.83711118  0.93684593  0.93684593 -1.30429475 -1.64522057 -0.56312308\n",
      "  0.96855713  0.56796251  0.35714242  0.62066541  0.65135287 -0.80531237\n",
      " -1.49170075 -1.18512797  0.69685753]\n"
     ]
    }
   ],
   "source": [
    "running_shapelet = rst.shapelets[0]\n",
    "print(\"Quality = \", running_shapelet[0])\n",
    "print(\"Length = \", running_shapelet[1])\n",
    "print(\"position = \", running_shapelet[2])\n",
    "print(\"Channel = \", running_shapelet[3])\n",
    "print(\"Origin Instance Index = \", running_shapelet[4])\n",
    "print(\"Class label = \", running_shapelet[5])\n",
    "print(\"Shapelet = \", running_shapelet[6])"
   ]
  },
  {
   "cell_type": "markdown",
   "metadata": {
    "collapsed": false,
    "jupyter": {
     "outputs_hidden": false
    }
   },
   "source": [
    "We can directly extract shapelets and inspect them. These are the the two shapelets that are best at discriminating badminton and running against other activities. All shapelets are normalised to provide scale invariance."
   ]
  },
  {
   "cell_type": "code",
   "execution_count": 4,
   "metadata": {
    "collapsed": false,
    "jupyter": {
     "outputs_hidden": false
    }
   },
   "outputs": [
    {
     "name": "stdout",
     "output_type": "stream",
     "text": [
      " Badminton shapelet from channel 0 (x-dimension) (0.65194393, 74, 7, 1, 1, 'standing', array([-5.27667376, -0.94911454,  0.90433173,  1.26316864,  2.34760078,\n",
      "        1.84408   ,  0.9192852 ,  0.9192852 , -1.29868372, -1.29868372,\n",
      "       -1.5476774 , -1.03000413,  0.27593674, -0.70184658,  0.37460295,\n",
      "        1.27398121,  1.02881837,  0.64543662, -0.0669839 , -0.54373096,\n",
      "       -0.55716134, -0.56605101, -0.08611633,  0.31270572,  0.25642625,\n",
      "        0.5512744 ,  0.78929504,  0.73385326,  0.73385326, -0.26777726,\n",
      "       -0.63967737, -0.63967737, -0.5539071 , -0.5539071 ,  0.3867047 ,\n",
      "        0.3867047 ,  0.88832979,  0.85074214,  0.46901267,  0.0925433 ,\n",
      "       -0.34444436, -0.72498936, -0.83763127, -0.53034818, -0.05869122,\n",
      "        0.46600593,  1.02537238,  0.81800526,  0.51709059,  0.17497366,\n",
      "       -0.31072836, -0.64876695, -0.89102368, -0.60834799, -0.0627886 ,\n",
      "        0.42532723,  0.95696668,  0.91077086,  0.77491818,  0.14283377,\n",
      "        0.14283377, -1.08722874, -1.08722874, -0.65706914, -0.65706914,\n",
      "        0.28210933,  0.74159654,  0.8064869 ,  0.8064869 ,  0.19889294,\n",
      "       -0.16601048, -0.78706337, -0.76364317, -0.63789726]))\n"
     ]
    },
    {
     "data": {
      "text/plain": [
       "<matplotlib.legend.Legend at 0x2c184e3b650>"
      ]
     },
     "execution_count": 4,
     "metadata": {},
     "output_type": "execute_result"
    },
    {
     "data": {
      "image/png": "[encoded data removed]",
      "text/plain": [
       "<Figure size 640x480 with 1 Axes>"
      ]
     },
     "metadata": {},
     "output_type": "display_data"
    }
   ],
   "source": [
    "import matplotlib.pyplot as plt\n",
    "\n",
    "badminton_shapelet = rst.shapelets[4]\n",
    "print(\" Badminton shapelet from channel 0 (x-dimension)\", badminton_shapelet)\n",
    "plt.title(\"Best shapelets for running and badminton\")\n",
    "plt.plot(badminton_shapelet[6], label=\"Badminton\")\n",
    "plt.plot(running_shapelet[6], label=\"Running\")\n",
    "plt.legend()"
   ]
  },
  {
   "cell_type": "markdown",
   "metadata": {
    "collapsed": false,
    "jupyter": {
     "outputs_hidden": false
    }
   },
   "source": [
    "Both shapelets are in the x-axis, so represent side to side motion. Badminton is characterised by sa single large peak in one direction, capturing the drawing of the hand back and quickly hittig the shuttlcock. Running is chaaracterised by a longer repetition of side to side motions, with a sharper peak representing bringing the arm forward accross the body in a running motion."
   ]
  },
  {
   "cell_type": "markdown",
   "metadata": {
    "collapsed": false,
    "jupyter": {
     "outputs_hidden": false
    }
   },
   "source": [
    "## Performance on the UCR univariate datasets\n",
    "\n",
    "You can find the interval based classifiers as follows."
   ]
  },
  {
   "cell_type": "code",
   "execution_count": 5,
   "metadata": {
    "collapsed": false,
    "jupyter": {
     "outputs_hidden": false
    }
   },
   "outputs": [
    {
     "name": "stdout",
     "output_type": "stream",
     "text": [
      "('LearningShapeletClassifier', <class 'aeon.classification.shapelet_based._ls.LearningShapeletClassifier'>)\n",
      "('MrSQMClassifier', <class 'aeon.classification.shapelet_based._mrsqm.MrSQMClassifier'>)\n",
      "('RDSTClassifier', <class 'aeon.classification.shapelet_based._rdst.RDSTClassifier'>)\n",
      "('ShapeletTransformClassifier', <class 'aeon.classification.shapelet_based._stc.ShapeletTransformClassifier'>)\n"
     ]
    }
   ],
   "source": [
    "from aeon.registry import all_estimators\n",
    "\n",
    "est = all_estimators(\"classifier\", filter_tags={\"algorithm_type\": \"shapelet\"})\n",
    "for c in est:\n",
    "    print(c)"
   ]
  },
  {
   "cell_type": "code",
   "execution_count": 6,
   "metadata": {
    "collapsed": false,
    "jupyter": {
     "outputs_hidden": false
    }
   },
   "outputs": [
    {
     "ename": "KeyError",
     "evalue": "'Resamples:'",
     "output_type": "error",
     "traceback": [
      "\u001b[1;31m---------------------------------------------------------------------------\u001b[0m",
      "\u001b[1;31mKeyError\u001b[0m                                  Traceback (most recent call last)",
      "File \u001b[1;32m~\\anaconda3\\envs\\aeon-dev\\Lib\\site-packages\\pandas\\core\\indexes\\base.py:3653\u001b[0m, in \u001b[0;36mIndex.get_loc\u001b[1;34m(self, key)\u001b[0m\n\u001b[0;32m   3652\u001b[0m \u001b[38;5;28;01mtry\u001b[39;00m:\n\u001b[1;32m-> 3653\u001b[0m     \u001b[38;5;28;01mreturn\u001b[39;00m \u001b[38;5;28mself\u001b[39m\u001b[38;5;241m.\u001b[39m_engine\u001b[38;5;241m.\u001b[39mget_loc(casted_key)\n\u001b[0;32m   3654\u001b[0m \u001b[38;5;28;01mexcept\u001b[39;00m \u001b[38;5;167;01mKeyError\u001b[39;00m \u001b[38;5;28;01mas\u001b[39;00m err:\n",
      "File \u001b[1;32m~\\anaconda3\\envs\\aeon-dev\\Lib\\site-packages\\pandas\\_libs\\index.pyx:147\u001b[0m, in \u001b[0;36mpandas._libs.index.IndexEngine.get_loc\u001b[1;34m()\u001b[0m\n",
      "File \u001b[1;32m~\\anaconda3\\envs\\aeon-dev\\Lib\\site-packages\\pandas\\_libs\\index.pyx:176\u001b[0m, in \u001b[0;36mpandas._libs.index.IndexEngine.get_loc\u001b[1;34m()\u001b[0m\n",
      "File \u001b[1;32mpandas\\_libs\\hashtable_class_helper.pxi:7080\u001b[0m, in \u001b[0;36mpandas._libs.hashtable.PyObjectHashTable.get_item\u001b[1;34m()\u001b[0m\n",
      "File \u001b[1;32mpandas\\_libs\\hashtable_class_helper.pxi:7088\u001b[0m, in \u001b[0;36mpandas._libs.hashtable.PyObjectHashTable.get_item\u001b[1;34m()\u001b[0m\n",
      "\u001b[1;31mKeyError\u001b[0m: 'Resamples:'",
      "\nThe above exception was the direct cause of the following exception:\n",
      "\u001b[1;31mKeyError\u001b[0m                                  Traceback (most recent call last)",
      "Cell \u001b[1;32mIn[6], line 5\u001b[0m\n\u001b[0;32m      2\u001b[0m \u001b[38;5;28;01mfrom\u001b[39;00m \u001b[38;5;21;01maeon\u001b[39;00m\u001b[38;5;21;01m.\u001b[39;00m\u001b[38;5;21;01mdatasets\u001b[39;00m\u001b[38;5;21;01m.\u001b[39;00m\u001b[38;5;21;01mtsc_data_lists\u001b[39;00m \u001b[38;5;28;01mimport\u001b[39;00m univariate\n\u001b[0;32m      4\u001b[0m names \u001b[38;5;241m=\u001b[39m [t[\u001b[38;5;241m0\u001b[39m]\u001b[38;5;241m.\u001b[39mreplace(\u001b[38;5;124m\"\u001b[39m\u001b[38;5;124mClassifier\u001b[39m\u001b[38;5;124m\"\u001b[39m, \u001b[38;5;124m\"\u001b[39m\u001b[38;5;124m\"\u001b[39m) \u001b[38;5;28;01mfor\u001b[39;00m t \u001b[38;5;129;01min\u001b[39;00m est]\n\u001b[1;32m----> 5\u001b[0m results, present_names \u001b[38;5;241m=\u001b[39m get_estimator_results_as_array(\n\u001b[0;32m      6\u001b[0m     names, univariate, include_missing\u001b[38;5;241m=\u001b[39m\u001b[38;5;28;01mFalse\u001b[39;00m\n\u001b[0;32m      7\u001b[0m )\n\u001b[0;32m      8\u001b[0m results\u001b[38;5;241m.\u001b[39mshape\n",
      "File \u001b[1;32mD:\\Python\\Project\\Aeon\\aeon\\aeon\\benchmarking\\results_loaders.py:383\u001b[0m, in \u001b[0;36mget_estimator_results_as_array\u001b[1;34m(estimators, datasets, default_only, task, measure, include_missing, path)\u001b[0m\n\u001b[0;32m    337\u001b[0m \u001b[38;5;28;01mdef\u001b[39;00m \u001b[38;5;21mget_estimator_results_as_array\u001b[39m(\n\u001b[0;32m    338\u001b[0m     estimators: \u001b[38;5;28mlist\u001b[39m,\n\u001b[0;32m    339\u001b[0m     datasets\u001b[38;5;241m=\u001b[39mUCR,\n\u001b[1;32m   (...)\u001b[0m\n\u001b[0;32m    344\u001b[0m     path\u001b[38;5;241m=\u001b[39m\u001b[38;5;124m\"\u001b[39m\u001b[38;5;124mhttps://timeseriesclassification.com/results/ReferenceResults\u001b[39m\u001b[38;5;124m\"\u001b[39m,\n\u001b[0;32m    345\u001b[0m ):\n\u001b[0;32m    346\u001b[0m \u001b[38;5;250m    \u001b[39m\u001b[38;5;124;03m\"\"\"Look for results for given estimators for a list of datasets.\u001b[39;00m\n\u001b[0;32m    347\u001b[0m \n\u001b[0;32m    348\u001b[0m \u001b[38;5;124;03m    This function pulls down a CSV of results, scans it for datasets and returns any\u001b[39;00m\n\u001b[1;32m   (...)\u001b[0m\n\u001b[0;32m    381\u001b[0m \u001b[38;5;124;03m           [0.81074169, 0.84143223]]), ['Chinatown', 'Adiac'])\u001b[39;00m\n\u001b[0;32m    382\u001b[0m \u001b[38;5;124;03m    \"\"\"\u001b[39;00m\n\u001b[1;32m--> 383\u001b[0m     res_dicts \u001b[38;5;241m=\u001b[39m get_estimator_results(\n\u001b[0;32m    384\u001b[0m         estimators\u001b[38;5;241m=\u001b[39mestimators,\n\u001b[0;32m    385\u001b[0m         datasets\u001b[38;5;241m=\u001b[39mdatasets,\n\u001b[0;32m    386\u001b[0m         default_only\u001b[38;5;241m=\u001b[39mdefault_only,\n\u001b[0;32m    387\u001b[0m         task\u001b[38;5;241m=\u001b[39mtask,\n\u001b[0;32m    388\u001b[0m         measure\u001b[38;5;241m=\u001b[39mmeasure,\n\u001b[0;32m    389\u001b[0m         path\u001b[38;5;241m=\u001b[39mpath,\n\u001b[0;32m    390\u001b[0m     )\n\u001b[0;32m    392\u001b[0m     all_res \u001b[38;5;241m=\u001b[39m []\n\u001b[0;32m    393\u001b[0m     names \u001b[38;5;241m=\u001b[39m []\n",
      "File \u001b[1;32mD:\\Python\\Project\\Aeon\\aeon\\aeon\\benchmarking\\results_loaders.py:325\u001b[0m, in \u001b[0;36mget_estimator_results\u001b[1;34m(estimators, datasets, default_only, task, measure, path)\u001b[0m\n\u001b[0;32m    322\u001b[0m suffix \u001b[38;5;241m=\u001b[39m \u001b[38;5;124m\"\u001b[39m\u001b[38;5;124m_\u001b[39m\u001b[38;5;124m\"\u001b[39m \u001b[38;5;241m+\u001b[39m measure \u001b[38;5;241m+\u001b[39m \u001b[38;5;124m\"\u001b[39m\u001b[38;5;124m.csv\u001b[39m\u001b[38;5;124m\"\u001b[39m\n\u001b[0;32m    323\u001b[0m probs_names \u001b[38;5;241m=\u001b[39m \u001b[38;5;124m\"\u001b[39m\u001b[38;5;124mResamples:\u001b[39m\u001b[38;5;124m\"\u001b[39m\n\u001b[1;32m--> 325\u001b[0m \u001b[38;5;28;01mreturn\u001b[39;00m _load_results(\n\u001b[0;32m    326\u001b[0m     estimators\u001b[38;5;241m=\u001b[39mestimators,\n\u001b[0;32m    327\u001b[0m     datasets\u001b[38;5;241m=\u001b[39mdatasets,\n\u001b[0;32m    328\u001b[0m     default_only\u001b[38;5;241m=\u001b[39mdefault_only,\n\u001b[0;32m    329\u001b[0m     path\u001b[38;5;241m=\u001b[39mpath,\n\u001b[0;32m    330\u001b[0m     suffix\u001b[38;5;241m=\u001b[39msuffix,\n\u001b[0;32m    331\u001b[0m     probs_names\u001b[38;5;241m=\u001b[39mprobs_names,\n\u001b[0;32m    332\u001b[0m     task\u001b[38;5;241m=\u001b[39mtask,\n\u001b[0;32m    333\u001b[0m     measure\u001b[38;5;241m=\u001b[39mmeasure,\n\u001b[0;32m    334\u001b[0m )\n",
      "File \u001b[1;32mD:\\Python\\Project\\Aeon\\aeon\\aeon\\benchmarking\\results_loaders.py:253\u001b[0m, in \u001b[0;36m_load_results\u001b[1;34m(estimators, datasets, default_only, path, suffix, probs_names, task, measure)\u001b[0m\n\u001b[0;32m    249\u001b[0m     \u001b[38;5;28;01mraise\u001b[39;00m \u001b[38;5;167;01mValueError\u001b[39;00m(\n\u001b[0;32m    250\u001b[0m         \u001b[38;5;124mf\u001b[39m\u001b[38;5;124m\"\u001b[39m\u001b[38;5;124mCannot connect to \u001b[39m\u001b[38;5;132;01m{\u001b[39;00murl\u001b[38;5;132;01m}\u001b[39;00m\u001b[38;5;124m website down or results not present\u001b[39m\u001b[38;5;124m\"\u001b[39m\n\u001b[0;32m    251\u001b[0m     )\n\u001b[0;32m    252\u001b[0m cls_results \u001b[38;5;241m=\u001b[39m {}\n\u001b[1;32m--> 253\u001b[0m problems \u001b[38;5;241m=\u001b[39m data[probs_names]\u001b[38;5;241m.\u001b[39mstr\u001b[38;5;241m.\u001b[39mreplace(\u001b[38;5;124mr\u001b[39m\u001b[38;5;124m\"\u001b[39m\u001b[38;5;124m_.*\u001b[39m\u001b[38;5;124m\"\u001b[39m, \u001b[38;5;124m\"\u001b[39m\u001b[38;5;124m\"\u001b[39m, regex\u001b[38;5;241m=\u001b[39m\u001b[38;5;28;01mTrue\u001b[39;00m)\n\u001b[0;32m    254\u001b[0m results \u001b[38;5;241m=\u001b[39m data\u001b[38;5;241m.\u001b[39miloc[:, \u001b[38;5;241m1\u001b[39m:]\u001b[38;5;241m.\u001b[39mto_numpy()\n\u001b[0;32m    255\u001b[0m p \u001b[38;5;241m=\u001b[39m \u001b[38;5;28mlist\u001b[39m(problems)\n",
      "File \u001b[1;32m~\\anaconda3\\envs\\aeon-dev\\Lib\\site-packages\\pandas\\core\\frame.py:3761\u001b[0m, in \u001b[0;36mDataFrame.__getitem__\u001b[1;34m(self, key)\u001b[0m\n\u001b[0;32m   3759\u001b[0m \u001b[38;5;28;01mif\u001b[39;00m \u001b[38;5;28mself\u001b[39m\u001b[38;5;241m.\u001b[39mcolumns\u001b[38;5;241m.\u001b[39mnlevels \u001b[38;5;241m>\u001b[39m \u001b[38;5;241m1\u001b[39m:\n\u001b[0;32m   3760\u001b[0m     \u001b[38;5;28;01mreturn\u001b[39;00m \u001b[38;5;28mself\u001b[39m\u001b[38;5;241m.\u001b[39m_getitem_multilevel(key)\n\u001b[1;32m-> 3761\u001b[0m indexer \u001b[38;5;241m=\u001b[39m \u001b[38;5;28mself\u001b[39m\u001b[38;5;241m.\u001b[39mcolumns\u001b[38;5;241m.\u001b[39mget_loc(key)\n\u001b[0;32m   3762\u001b[0m \u001b[38;5;28;01mif\u001b[39;00m is_integer(indexer):\n\u001b[0;32m   3763\u001b[0m     indexer \u001b[38;5;241m=\u001b[39m [indexer]\n",
      "File \u001b[1;32m~\\anaconda3\\envs\\aeon-dev\\Lib\\site-packages\\pandas\\core\\indexes\\base.py:3655\u001b[0m, in \u001b[0;36mIndex.get_loc\u001b[1;34m(self, key)\u001b[0m\n\u001b[0;32m   3653\u001b[0m     \u001b[38;5;28;01mreturn\u001b[39;00m \u001b[38;5;28mself\u001b[39m\u001b[38;5;241m.\u001b[39m_engine\u001b[38;5;241m.\u001b[39mget_loc(casted_key)\n\u001b[0;32m   3654\u001b[0m \u001b[38;5;28;01mexcept\u001b[39;00m \u001b[38;5;167;01mKeyError\u001b[39;00m \u001b[38;5;28;01mas\u001b[39;00m err:\n\u001b[1;32m-> 3655\u001b[0m     \u001b[38;5;28;01mraise\u001b[39;00m \u001b[38;5;167;01mKeyError\u001b[39;00m(key) \u001b[38;5;28;01mfrom\u001b[39;00m \u001b[38;5;21;01merr\u001b[39;00m\n\u001b[0;32m   3656\u001b[0m \u001b[38;5;28;01mexcept\u001b[39;00m \u001b[38;5;167;01mTypeError\u001b[39;00m:\n\u001b[0;32m   3657\u001b[0m     \u001b[38;5;66;03m# If we have a listlike key, _check_indexing_error will raise\u001b[39;00m\n\u001b[0;32m   3658\u001b[0m     \u001b[38;5;66;03m#  InvalidIndexError. Otherwise we fall through and re-raise\u001b[39;00m\n\u001b[0;32m   3659\u001b[0m     \u001b[38;5;66;03m#  the TypeError.\u001b[39;00m\n\u001b[0;32m   3660\u001b[0m     \u001b[38;5;28mself\u001b[39m\u001b[38;5;241m.\u001b[39m_check_indexing_error(key)\n",
      "\u001b[1;31mKeyError\u001b[0m: 'Resamples:'"
     ]
    }
   ],
   "source": [
    "from aeon.benchmarking import get_estimator_results_as_array\n",
    "from aeon.datasets.tsc_data_lists import univariate\n",
    "\n",
    "names = [t[0].replace(\"Classifier\", \"\") for t in est]\n",
    "results, present_names = get_estimator_results_as_array(\n",
    "    names, univariate, include_missing=False\n",
    ")\n",
    "results.shape"
   ]
  },
  {
   "cell_type": "code",
   "execution_count": null,
   "metadata": {
    "collapsed": false,
    "jupyter": {
     "outputs_hidden": false
    }
   },
   "outputs": [],
   "source": [
    "from aeon.visualisation import plot_boxplot_median, plot_critical_difference\n",
    "\n",
    "plot_critical_difference(results, names)"
   ]
  },
  {
   "cell_type": "code",
   "execution_count": null,
   "metadata": {
    "collapsed": false,
    "jupyter": {
     "outputs_hidden": false
    }
   },
   "outputs": [],
   "source": [
    "plot_boxplot_median(results, names)"
   ]
  },
  {
   "cell_type": "code",
   "execution_count": null,
   "metadata": {
    "collapsed": false,
    "jupyter": {
     "outputs_hidden": false
    }
   },
   "outputs": [],
   "source": []
  }
 ],
 "metadata": {
  "kernelspec": {
   "display_name": "Python 3 (ipykernel)",
   "language": "python",
   "name": "python3"
  },
  "language_info": {
   "codemirror_mode": {
    "name": "ipython",
    "version": 3
   },
   "file_extension": ".py",
   "mimetype": "text/x-python",
   "name": "python",
   "nbconvert_exporter": "python",
   "pygments_lexer": "ipython3",
   "version": "3.11.7"
  }
 },
 "nbformat": 4,
 "nbformat_minor": 4
}
