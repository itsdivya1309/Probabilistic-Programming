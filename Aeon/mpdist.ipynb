{
 "cells": [
  {
   "cell_type": "markdown",
   "id": "e0f48f5a-c4cb-4912-b57b-6d4a2ea77e9e",
   "metadata": {},
   "source": [
    "## Upgraded version of MPDist"
   ]
  },
  {
   "cell_type": "code",
   "execution_count": 1,
   "id": "dc9154a2-11cb-486a-a343-27bee2ef41ee",
   "metadata": {},
   "outputs": [],
   "source": [
    "import numpy as np\n",
    "from numba import njit"
   ]
  },
  {
   "cell_type": "code",
   "execution_count": 2,
   "id": "cccaf853-318c-4822-bec7-f86eb9051c85",
   "metadata": {},
   "outputs": [],
   "source": [
    "# @njit(cache=True, fastmath=True)\n",
    "def mpdist(\n",
    "    x: np.ndarray,\n",
    "    y: np.ndarray,\n",
    "    m: int = 0\n",
    ") -> float:\n",
    "    \"\"\"\n",
    "    Matrix Profile Distance\n",
    "    \n",
    "    Parameters\n",
    "    ----------\n",
    "    x : np.ndarray\n",
    "        First time series, univariate, shape ``(n_timepoints,)``\n",
    "    y : np.ndarray\n",
    "        Second time series, univariate, shape ``(n_timepoints,)``\n",
    "    m : int (default = 0)\n",
    "        Length of the subsequence\n",
    "\n",
    "    Returns\n",
    "    -------\n",
    "    float\n",
    "        Matrix Profile distance between x and y\n",
    "\n",
    "    Raises\n",
    "    ------\n",
    "    ValueError\n",
    "        If x and y are not 1D arrays\n",
    "\n",
    "    Examples\n",
    "    --------\n",
    "    >>> import numpy as np\n",
    "    >>> from aeon.distances import euclidean_distance\n",
    "    >>> x = np.array([1, 2, 3, 4, 5, 6, 7, 8, 9, 10])\n",
    "    >>> y = np.array([11, 12, 13, 14, 15, 16, 17, 18, 19, 20])\n",
    "    >>> mpdist(x, y)\n",
    "    31.622776601683793\n",
    "    \"\"\"\n",
    "    x = x.squeeze()\n",
    "    y = y.squeeze()\n",
    "    \n",
    "    if x.ndim == 1 and y.ndim == 1:\n",
    "        return _mpdist(x,y,m)\n",
    "    raise ValueError(\"x and y must be a 1D array of shape (n_timepoints,)\")"
   ]
  },
  {
   "cell_type": "code",
   "execution_count": 3,
   "id": "e711b5c0-0cd0-4457-84cf-b130eff95791",
   "metadata": {},
   "outputs": [],
   "source": [
    "# @njit(cache=True, fastmath=True)\n",
    "def _mpdist(\n",
    "    x: np.ndarray,\n",
    "    y: np.ndarray,\n",
    "    m: int\n",
    ")-> float:\n",
    "    threshold = 0.05\n",
    "    len_x = len(x)\n",
    "    len_y = len(y)\n",
    "    \n",
    "    first_dot_prod_ab = _sliding_dot_products(y[0:m], x, m, len_x)\n",
    "    dot_prod_ab = _sliding_dot_products(x[0:m], y, m, len_y)\n",
    "    mp_ab, ip_ab = _stomp_ab(x,y,m,first_dot_prod_ab, dot_prod_ab)  # AB Matrix profile\n",
    "\n",
    "    first_dot_prod_ba = _sliding_dot_products(x[0:m], y, m, len_y)\n",
    "    dot_prod_ba = _sliding_dot_products(y[0:m], x, m, len_x)\n",
    "    mp_ba, ip_ba = _stomp_ab(y,x,m, first_dot_prod_ba, dot_prod_ba)  # BA Matrix profile\n",
    "    \n",
    "    join_mp = np.concatenate([mp_ab, mp_ba])\n",
    "\n",
    "    k = int(np.ceil(threshold * (len(x) + len(y))))\n",
    "\n",
    "    sorted_mp = np.sort(join_mp)\n",
    "\n",
    "    if len(sorted_mp) > k:\n",
    "        dist = sorted_mp[k]\n",
    "    else:\n",
    "        dist = sorted_mp[len(sorted_mp) - 1]\n",
    "\n",
    "    return dist"
   ]
  },
  {
   "cell_type": "code",
   "execution_count": 4,
   "id": "4e9c24e4-61ea-46fe-835b-873b78b802d8",
   "metadata": {},
   "outputs": [],
   "source": [
    "# @njit(cache=True, fastmath=True)\n",
    "def _sliding_dot_products(q, t, len_q, len_t):\n",
    "    \"\"\"\n",
    "    Compute the sliding dot products between a query and a time series.\n",
    "\n",
    "    Parameters\n",
    "    ----------\n",
    "        q: numpy.array\n",
    "            Query.\n",
    "        t: numpy.array\n",
    "            Time series.\n",
    "        len_q: int\n",
    "            Length of the query.\n",
    "        len_t: int\n",
    "            Length of the time series.\n",
    "\n",
    "    Output\n",
    "    ------\n",
    "        dot_prod: numpy.array\n",
    "             Sliding dot products between q and t.\n",
    "    \"\"\"\n",
    "    # Reversing query and padding both query and time series\n",
    "    padded_t = np.pad(t, (0, len_t))\n",
    "    reversed_q = np.flipud(q)\n",
    "    padded_reversed_q = np.pad(reversed_q, (0, 2 * len_t - len_q))\n",
    "\n",
    "    # Applying FFT to both query and time series\n",
    "    fft_t = np.fft.fft(padded_t)\n",
    "    fft_q = np.fft.fft(padded_reversed_q)\n",
    "\n",
    "    # Applying inverse FFT to obtain the convolution of the time series by\n",
    "    # the query\n",
    "    element_wise_mult = np.multiply(fft_t, fft_q)\n",
    "    inverse_fft = np.fft.ifft(element_wise_mult)\n",
    "\n",
    "    # Returns only the valid dot products from inverse_fft\n",
    "    dot_prod = inverse_fft[len_q - 1 : len_t].real\n",
    "\n",
    "    return dot_prod"
   ]
  },
  {
   "cell_type": "code",
   "execution_count": 5,
   "id": "6e6ed949-cfc4-4768-816d-492fe4e54e09",
   "metadata": {},
   "outputs": [],
   "source": [
    "@njit(cache=True, fastmath=True)\n",
    "def _stomp_ab(x: np.ndarray, \n",
    "              y: np.ndarray, \n",
    "              m: int, \n",
    "             first_dot_prod: np.ndarray,\n",
    "             dot_prod: np.ndarray):\n",
    "    \"\"\"\n",
    "    STOMP implementation for AB similarity join.\n",
    "\n",
    "    Parameters\n",
    "    ----------\n",
    "        x: numpy.array\n",
    "            First time series.\n",
    "        y: numpy.array\n",
    "            Second time series.\n",
    "        m: int\n",
    "            Length of the subsequences.\n",
    "        first_dot_prod: np.ndarray\n",
    "            The distance profile for the first y subsequence.\n",
    "        dot_prod: np.ndarray\n",
    "            the distance profile for the first x subsequence.\n",
    "\n",
    "    Output\n",
    "    ------\n",
    "        mp: numpy.array\n",
    "            Array with the distance between every subsequence from x\n",
    "            to the nearest subsequence with same length from y.\n",
    "        ip: numpy.array\n",
    "            Array with the index of the nearest neighbor of x in y.\n",
    "    \"\"\"\n",
    "    len_x = len(x)\n",
    "    len_y = len(y)\n",
    "    if m == 0:\n",
    "        if len_x > len_y:\n",
    "            m = int(len_x / 4)\n",
    "        else:\n",
    "            m = int(len_y / 4)\n",
    "\n",
    "    # Number of subsequences\n",
    "    subs_x = len_x - m + 1\n",
    "    subs_y = len_y - m + 1\n",
    "\n",
    "    # Compute the mean and standard deviation\n",
    "    x_mean = []\n",
    "    x_std = []\n",
    "    y_mean = []\n",
    "    y_std = []\n",
    "\n",
    "    for i in range(subs_x):\n",
    "        x_mean.append(np.mean(x[i : i + m]))\n",
    "        x_std.append(np.std(x[i : i + m]))\n",
    "\n",
    "    for i in range(subs_y):\n",
    "        y_mean.append(np.mean(y[i : i + m]))\n",
    "        y_std.append(np.std(y[i : i + m]))\n",
    "\n",
    "    # Initialization\n",
    "    mp = np.full(subs_x, np.inf)  # matrix profile\n",
    "    ip = np.zeros(subs_x)  # index profile\n",
    "\n",
    "    dp = _calculate_distance_profile(\n",
    "        dot_prod, x_mean[0], x_std[0], y_mean, y_std, m, subs_y\n",
    "    )\n",
    "\n",
    "    # Update the matrix profile\n",
    "    mp[0] = np.amin(dp)\n",
    "    ip[0] = np.argmin(dp)\n",
    "\n",
    "    for i in range(1, subs_x):\n",
    "        for j in range(subs_y - 1, 0, -1):\n",
    "            dot_prod[j] = (\n",
    "                dot_prod[j - 1] - y[j - 1] * x[i - 1] + y[j - 1 + m] * x[i - 1 + m]\n",
    "            )\n",
    "        # Compute the next dot products using previous ones\n",
    "        dot_prod[0] = first_dot_prod[i]\n",
    "        dp = _calculate_distance_profile(\n",
    "            dot_prod, x_mean[i], x_std[i], y_mean, y_std, m, subs_y\n",
    "        )\n",
    "        mp[i] = np.amin(dp)\n",
    "        ip[i] = np.argmin(dp)\n",
    "\n",
    "    return mp, ip"
   ]
  },
  {
   "cell_type": "code",
   "execution_count": 6,
   "id": "7bbf02f3-e53a-4fd1-a86f-9135a03e27b0",
   "metadata": {},
   "outputs": [],
   "source": [
    "@njit(cache=True, fastmath=True)\n",
    "def _calculate_distance_profile(\n",
    "    dot_prod, q_mean, q_std, t_mean, t_std, q_len, n_t_subs\n",
    ")-> np.ndarray:\n",
    "    \"\"\"\n",
    "    Calculate the distance profile for the given query.\n",
    "\n",
    "    Parameters\n",
    "    ----------\n",
    "        dot_prod: numpy.array\n",
    "            Sliding dot products between the time series and the query.\n",
    "        q_mean: float\n",
    "            Mean of the elements of the query.\n",
    "        q_std: float\n",
    "            Standard deviation of elements of the query.\n",
    "        t_mean: numpy.array\n",
    "            Array with the mean of the elements from each subsequence of\n",
    "            length(query) from the time series.\n",
    "        t_std: numpy.array\n",
    "            Array with the standard deviation of the elements from each\n",
    "            subsequence of length(query) from the time series.\n",
    "        q_len: int\n",
    "            Length of the query.\n",
    "        n_t_subs: int\n",
    "            Number of subsequences in the time series.\n",
    "\n",
    "    Output\n",
    "    ------\n",
    "        d: numpy.array\n",
    "            Distance profile of query q.\n",
    "    \"\"\"\n",
    "    d = np.empty(n_t_subs)\n",
    "    for i in range(n_t_subs):\n",
    "        d[i] = 2 * q_len * (1 - ((dot_prod[i] - q_len * q_mean * t_mean[i]) / (q_len * q_std * t_std[i])))\n",
    "\n",
    "    d = np.absolute(d)\n",
    "    d = np.sqrt(d)\n",
    "\n",
    "    return d"
   ]
  },
  {
   "cell_type": "markdown",
   "id": "94d3063d-bab5-47c6-8aaf-5812f9704d95",
   "metadata": {},
   "source": [
    "## Analysing the code"
   ]
  },
  {
   "cell_type": "code",
   "execution_count": 7,
   "id": "edfcf1aa-04e8-4179-b235-475187069eb6",
   "metadata": {},
   "outputs": [],
   "source": [
    "import time"
   ]
  },
  {
   "cell_type": "code",
   "execution_count": 8,
   "id": "81d40cd9-5b71-490a-9720-e15ce61065d1",
   "metadata": {},
   "outputs": [],
   "source": [
    "x = np.array([5, 9, 16, 23, 19, 13, 7])\n",
    "y = np.array([3, 7, 13, 19, 23, 31, 36, 40, 48, 55, 63])\n",
    "m = 3"
   ]
  },
  {
   "cell_type": "code",
   "execution_count": 9,
   "id": "3e2715e8-5bcb-46cc-9e41-31a6e3f65817",
   "metadata": {},
   "outputs": [
    {
     "name": "stdout",
     "output_type": "stream",
     "text": [
      "3.854496446637726\n",
      "Elapsed (with compilation) = 0.4979159999638796s\n"
     ]
    }
   ],
   "source": [
    "start = time.perf_counter()\n",
    "mp_dist = mpdist(x,y)\n",
    "print(mp_dist)\n",
    "end = time.perf_counter()\n",
    "print(\"Elapsed (with compilation) = {}s\".format((end - start)))"
   ]
  },
  {
   "cell_type": "code",
   "execution_count": 10,
   "id": "8ae952c2-b574-4d97-a133-2b6fab647ab1",
   "metadata": {},
   "outputs": [
    {
     "name": "stdout",
     "output_type": "stream",
     "text": [
      "3.854496446637726\n",
      "Elapsed (after compilation) = 0.0008786000544205308s\n"
     ]
    }
   ],
   "source": [
    "start = time.perf_counter()\n",
    "mp_dist = mpdist(x,y)\n",
    "print(mp_dist)\n",
    "end = time.perf_counter()\n",
    "print(\"Elapsed (after compilation) = {}s\".format((end - start)))"
   ]
  },
  {
   "cell_type": "code",
   "execution_count": 11,
   "id": "32bca0b8-b285-44ae-84e1-4208c2b81e5f",
   "metadata": {},
   "outputs": [
    {
     "data": {
      "text/plain": [
       "16.73320053068151"
      ]
     },
     "execution_count": 11,
     "metadata": {},
     "output_type": "execute_result"
    }
   ],
   "source": [
    "import numpy as np\n",
    "from aeon.distances import mpdist\n",
    "x = np.array([1, 2, 3, 4, 5, 6, 7, 8, 9, 10])\n",
    "y = np.array([11, 12, 13, 14, 15, 16, 17, 18, 19, 20])\n",
    "mpdist(x, y)"
   ]
  },
  {
   "cell_type": "code",
   "execution_count": 12,
   "id": "fe47d9c5-203c-49b7-a7dc-9f7f851f890a",
   "metadata": {},
   "outputs": [
    {
     "data": {
      "text/plain": [
       "16.73320053068151"
      ]
     },
     "execution_count": 12,
     "metadata": {},
     "output_type": "execute_result"
    }
   ],
   "source": [
    "x = np.array([1, 2, 3, 4, 5, 6, 7, 8, 9, 10])\n",
    "y = np.array([11, 12, 13, 14, 15, 16, 17, 18, 19, 20])\n",
    "mpdist(x, y)"
   ]
  },
  {
   "cell_type": "markdown",
   "id": "7dcc007e-29dd-4026-a74b-561ba12ed70d",
   "metadata": {},
   "source": [
    "## Pairwise distance"
   ]
  },
  {
   "cell_type": "code",
   "execution_count": 13,
   "id": "aef3615c-1e3e-44e9-8729-7e8fa1bd636b",
   "metadata": {},
   "outputs": [],
   "source": [
    "from numba.typed import List as NumbaList\n",
    "from typing import List, Optional, Union\n",
    "from aeon.distances._utils import _convert_to_list\n",
    "\n",
    "def mpdist_pairwise_distance(\n",
    "    X: Union[np.ndarray, List[np.ndarray]],\n",
    "    y: Optional[Union[np.ndarray, List[np.ndarray]]] = None,\n",
    "    m: int = 0\n",
    ") -> np.ndarray:\n",
    "    \"\"\"Compute the mpdist pairwise distance between a set of time series.\n",
    "\n",
    "    Parameters\n",
    "    ----------\n",
    "    X : np.ndarray or List of np.ndarray\n",
    "        A collection of time series instances  of shape ``(n_cases, n_timepoints)``.\n",
    "    y : np.ndarray or List of np.ndarray or None, default=None\n",
    "        A single series or a collection of time series of shape ``(m_timepoints,)`` or\n",
    "        ``(m_cases, m_timepoints)``.\n",
    "        If None, then the mpdist pairwise distance between the instances of X is\n",
    "        calculated.\n",
    "    m : int (default = 0)\n",
    "        Length of the subsequence\n",
    "\n",
    "    Returns\n",
    "    -------\n",
    "    np.ndarray (n_cases, n_cases)\n",
    "        mpdist pairwise matrix between the instances of X if only X is given\n",
    "        else mpdist pairwise matrix between the instances of X and y.\n",
    "\n",
    "    Raises\n",
    "    ------\n",
    "    ValueError\n",
    "        If X is not 2D or 3D array when only passing X.\n",
    "        If X and y are not 1D, 2D arrays when passing both X and y.\n",
    "\n",
    "    Examples #To be done at last\n",
    "    --------\n",
    "    >>> import numpy as np\n",
    "    >>> from aeon.distances import mpdist_pairwise_distance\n",
    "    >>> # Distance between each time series in a collection of time series\n",
    "    >>> X = np.array([[[1, 2, 3]],[[4, 5, 6]], [[7, 8, 9]]])\n",
    "    >>> msm_pairwise_distance(X)\n",
    "    array([[ 0.,  8., 12.],\n",
    "           [ 8.,  0.,  8.],\n",
    "           [12.,  8.,  0.]])\n",
    "\n",
    "    >>> # Distance between two collections of time series\n",
    "    >>> X = np.array([[[1, 2, 3]],[[4, 5, 6]], [[7, 8, 9]]])\n",
    "    >>> y = np.array([[[11, 12, 13]],[[14, 15, 16]], [[17, 18, 19]]])\n",
    "    >>> msm_pairwise_distance(X, y)\n",
    "    array([[16., 19., 22.],\n",
    "           [13., 16., 19.],\n",
    "           [10., 13., 16.]])\n",
    "\n",
    "    >>> X = np.array([[[1, 2, 3]],[[4, 5, 6]], [[7, 8, 9]]])\n",
    "    >>> y_univariate = np.array([11, 12, 13])\n",
    "    >>> msm_pairwise_distance(X, y_univariate)\n",
    "    array([[16.],\n",
    "           [13.],\n",
    "           [10.]])\n",
    "\n",
    "    >>> # Distance between each TS in a collection of unequal-length time series\n",
    "    >>> X = [np.array([1, 2, 3]), np.array([4, 5, 6, 7]), np.array([8, 9, 10, 11, 12])]\n",
    "    >>> msm_pairwise_distance(X)\n",
    "    array([[ 0., 10., 17.],\n",
    "           [10.,  0., 14.],\n",
    "           [17., 14.,  0.]])\n",
    "    \"\"\"\n",
    "    if X.ndim == 3 and X.shape[1] == 1:\n",
    "        X = np.squeeze(X)\n",
    "\n",
    "    if m == 0:\n",
    "        m = int(X.shape[1] / 4)\n",
    "        \n",
    "    #_X = _convert_to_list(X, \"X\")\n",
    "\n",
    "    if y is None:\n",
    "        # To self\n",
    "        return _mpdist_pairwise_distance_single(X, m)\n",
    "\n",
    "    if y.ndim == 3 and y.shape[1] == 1:\n",
    "        y = np.squeeze(y)\n",
    "    #_y = _convert_to_list(y, \"y\")\n",
    "    return _mpdist_pairwise_distance(X, y, m)"
   ]
  },
  {
   "cell_type": "code",
   "execution_count": 14,
   "id": "12677c78-ef85-4cb1-9847-de3214a74333",
   "metadata": {},
   "outputs": [],
   "source": [
    "#@njit(cache=True, fastmath=True)\n",
    "def _mpdist_pairwise_distance_single(\n",
    "    x: NumbaList[np.ndarray], m: int\n",
    ") -> np.ndarray:\n",
    "    n_cases = len(x)\n",
    "    distances = np.zeros((n_cases, n_cases))\n",
    "\n",
    "    for i in range(n_cases):\n",
    "        for j in range(i + 1, n_cases):\n",
    "            distances[i, j] = mpdist(x[i], x[j], m)\n",
    "            distances[j, i] = distances[i, j]\n",
    "\n",
    "    return distances"
   ]
  },
  {
   "cell_type": "code",
   "execution_count": 22,
   "id": "64c0f91a-c0d3-4943-9c44-f5018e35cb12",
   "metadata": {},
   "outputs": [],
   "source": [
    "# @njit(cache=True, fastmath=True)\n",
    "def _mpdist_pairwise_distance(\n",
    "    x: NumbaList[np.ndarray], y: NumbaList[np.ndarray], m: int\n",
    ") -> np.ndarray:\n",
    "    n_cases = len(x)\n",
    "\n",
    "    if y.ndim == 1:\n",
    "        m_cases = 1\n",
    "    else:\n",
    "        m_cases = len(y)\n",
    "\n",
    "    distances = np.zeros((n_cases, m_cases))\n",
    "\n",
    "    for i in range(n_cases):\n",
    "        for j in range(m_cases):\n",
    "            distances[i, j] = mpdist(x[i], y[j], m)\n",
    "    return distances"
   ]
  },
  {
   "cell_type": "code",
   "execution_count": 16,
   "id": "890ee791-6721-4e73-a512-7e041e00d72f",
   "metadata": {},
   "outputs": [
    {
     "data": {
      "text/plain": [
       "(3, 1, 6)"
      ]
     },
     "execution_count": 16,
     "metadata": {},
     "output_type": "execute_result"
    }
   ],
   "source": [
    "X = np.array([[[1, 2, 3, 7, 9, 6]],[[4, 5, 6, 20, 26, 30]], [[7, 8, 9, 19, 15, 7]]])\n",
    "X.shape"
   ]
  },
  {
   "cell_type": "code",
   "execution_count": 17,
   "id": "1007cd0a-9790-4519-b5d7-35dc027da656",
   "metadata": {},
   "outputs": [
    {
     "data": {
      "text/plain": [
       "array([[0.00000000e+00, 3.65002415e-08, 3.65002415e-08],\n",
       "       [3.65002415e-08, 0.00000000e+00, 3.65002415e-08],\n",
       "       [3.65002415e-08, 3.65002415e-08, 0.00000000e+00]])"
      ]
     },
     "execution_count": 17,
     "metadata": {},
     "output_type": "execute_result"
    }
   ],
   "source": [
    "mpdist_pairwise_distance(X, m = 3)"
   ]
  },
  {
   "cell_type": "code",
   "execution_count": 18,
   "id": "217cda9a-fa98-4ea9-822a-e003e87b8a6a",
   "metadata": {},
   "outputs": [
    {
     "data": {
      "text/plain": [
       "(3, 1, 3)"
      ]
     },
     "execution_count": 18,
     "metadata": {},
     "output_type": "execute_result"
    }
   ],
   "source": [
    "X = np.array([[[1, 2, 3]],[[4, 5, 6]], [[7, 8, 9]]])\n",
    "y = np.array([[[21, 13, 9]],[[19, 14, 5]], [[17, 11, 6]]])\n",
    "X.shape"
   ]
  },
  {
   "cell_type": "code",
   "execution_count": 19,
   "id": "e475936c-0f76-4dab-84b0-66be1edf7371",
   "metadata": {},
   "outputs": [
    {
     "data": {
      "text/plain": [
       "array([[2.82842712, 2.82842712, 2.82842712],\n",
       "       [2.82842712, 2.82842712, 2.82842712],\n",
       "       [2.82842712, 2.82842712, 2.82842712]])"
      ]
     },
     "execution_count": 19,
     "metadata": {},
     "output_type": "execute_result"
    }
   ],
   "source": [
    "mpdist_pairwise_distance(X,y, m=2)"
   ]
  },
  {
   "cell_type": "code",
   "execution_count": 24,
   "id": "a52bf63b-f78d-4795-bce1-96ac9000fb2a",
   "metadata": {},
   "outputs": [],
   "source": [
    "X = np.array([[[1, 2, 3]],[[4, 5, 6]], [[7, 8, 9]]])\n",
    "y_univariate = np.array([[22, 18, 12]])"
   ]
  },
  {
   "cell_type": "code",
   "execution_count": 25,
   "id": "814c9d4e-929e-4c44-87cb-d1480b7983de",
   "metadata": {},
   "outputs": [
    {
     "data": {
      "text/plain": [
       "array([[2.82842712],\n",
       "       [2.82842712],\n",
       "       [2.82842712]])"
      ]
     },
     "execution_count": 25,
     "metadata": {},
     "output_type": "execute_result"
    }
   ],
   "source": [
    "mpdist_pairwise_distance(X, y_univariate, m = 2)"
   ]
  },
  {
   "cell_type": "code",
   "execution_count": 27,
   "id": "ae81dd13-492e-4fc7-9208-b884e8514dbf",
   "metadata": {},
   "outputs": [
    {
     "data": {
      "text/plain": [
       "0.05663764013361034"
      ]
     },
     "execution_count": 27,
     "metadata": {},
     "output_type": "execute_result"
    }
   ],
   "source": [
    "x = np.array([5, 9, 16, 23, 19, 13, 7])\n",
    "y = np.array([3, 7, 13, 19, 23, 31, 36, 40, 48, 55, 63])\n",
    "m = 4\n",
    "mpdist(x, y, m)"
   ]
  },
  {
   "cell_type": "code",
   "execution_count": 28,
   "id": "6532c704-fd6a-459e-ad3b-c29fdac3d417",
   "metadata": {},
   "outputs": [
    {
     "data": {
      "text/plain": [
       "array([[0.        , 1.56786235],\n",
       "       [1.56786235, 0.        ]])"
      ]
     },
     "execution_count": 28,
     "metadata": {},
     "output_type": "execute_result"
    }
   ],
   "source": [
    "X = np.array([[16, 23, 19, 13],[48, 55, 63, 67]])\n",
    "mpdist_pairwise_distance(X, m = 3)"
   ]
  },
  {
   "cell_type": "code",
   "execution_count": null,
   "id": "9703fa6b-b720-4a5a-bff2-e6b8ddcc42c6",
   "metadata": {},
   "outputs": [],
   "source": []
  }
 ],
 "metadata": {
  "kernelspec": {
   "display_name": "Python 3 (ipykernel)",
   "language": "python",
   "name": "python3"
  },
  "language_info": {
   "codemirror_mode": {
    "name": "ipython",
    "version": 3
   },
   "file_extension": ".py",
   "mimetype": "text/x-python",
   "name": "python",
   "nbconvert_exporter": "python",
   "pygments_lexer": "ipython3",
   "version": "3.12.2"
  }
 },
 "nbformat": 4,
 "nbformat_minor": 5
}
