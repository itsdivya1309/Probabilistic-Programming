{
 "cells": [
  {
   "cell_type": "code",
   "execution_count": 1,
   "id": "7e3ae7f4-5c25-406e-a890-870826850c15",
   "metadata": {},
   "outputs": [],
   "source": [
    "from aeon.distances import mpdist_pairwise_distance\n",
    "import numpy as np"
   ]
  },
  {
   "cell_type": "code",
   "execution_count": 2,
   "id": "b724aa8d-148a-4cdf-9b7a-ae8ee5d301b3",
   "metadata": {},
   "outputs": [
    {
     "data": {
      "text/plain": [
       "array([[0.        , 1.56786235],\n",
       "       [1.56786235, 0.        ]])"
      ]
     },
     "execution_count": 2,
     "metadata": {},
     "output_type": "execute_result"
    }
   ],
   "source": [
    "X = np.array([[16, 23, 19, 13],[48, 55, 63, 67]])\n",
    "mpdist_pairwise_distance(X, m = 3)"
   ]
  },
  {
   "cell_type": "code",
   "execution_count": 3,
   "id": "137d890d-a715-4bfc-8345-a6a96b531855",
   "metadata": {},
   "outputs": [
    {
     "data": {
      "text/plain": [
       "array([[2.82842712, 2.82842712, 2.82842712],\n",
       "       [2.82842712, 2.82842712, 2.82842712],\n",
       "       [2.82842712, 2.82842712, 2.82842712]])"
      ]
     },
     "execution_count": 3,
     "metadata": {},
     "output_type": "execute_result"
    }
   ],
   "source": [
    "X = np.array([[[1, 2, 3]],[[4, 5, 6]], [[7, 8, 9]]])\n",
    "y = np.array([[[21, 13, 9]],[[19, 14, 5]], [[17, 11, 6]]])\n",
    "mpdist_pairwise_distance(X, y, m = 2)"
   ]
  },
  {
   "cell_type": "code",
   "execution_count": 11,
   "id": "3f3f61a3-ca23-4358-9c5c-1e8867032650",
   "metadata": {},
   "outputs": [
    {
     "data": {
      "text/plain": [
       "array([[0.],\n",
       "       [0.],\n",
       "       [0.]])"
      ]
     },
     "execution_count": 11,
     "metadata": {},
     "output_type": "execute_result"
    }
   ],
   "source": [
    "X = np.array([[[11, 42, 3]],[[75, 66, 95]], [[7, 8, 17]]])\n",
    "y_univariate = np.array([[4, 13, 2]])\n",
    "mpdist_pairwise_distance(X, y_univariate, m = 2)"
   ]
  },
  {
   "cell_type": "code",
   "execution_count": 5,
   "id": "6d0c8c06-11a9-42ba-a2b8-a9efcfa55c4d",
   "metadata": {},
   "outputs": [
    {
     "data": {
      "text/plain": [
       "(3,)"
      ]
     },
     "execution_count": 5,
     "metadata": {},
     "output_type": "execute_result"
    }
   ],
   "source": [
    "y_univariate = np.array([22, 18, 12])\n",
    "y_univariate.shape"
   ]
  },
  {
   "cell_type": "code",
   "execution_count": 9,
   "id": "2b3b6ea4-cd19-4f87-bb1f-4461367f6683",
   "metadata": {},
   "outputs": [
    {
     "data": {
      "text/plain": [
       "1"
      ]
     },
     "execution_count": 9,
     "metadata": {},
     "output_type": "execute_result"
    }
   ],
   "source": [
    "y_univariate.ndim"
   ]
  },
  {
   "cell_type": "code",
   "execution_count": 11,
   "id": "c7bf063c-b8c0-45c6-a09b-9f63b2ea2869",
   "metadata": {},
   "outputs": [
    {
     "data": {
      "text/plain": [
       "3"
      ]
     },
     "execution_count": 11,
     "metadata": {},
     "output_type": "execute_result"
    }
   ],
   "source": [
    "y_univariate.shape[0]"
   ]
  },
  {
   "cell_type": "code",
   "execution_count": 12,
   "id": "25f91462-4707-4111-b373-1a8f3aa70e34",
   "metadata": {},
   "outputs": [
    {
     "data": {
      "text/plain": [
       "1"
      ]
     },
     "execution_count": 12,
     "metadata": {},
     "output_type": "execute_result"
    }
   ],
   "source": [
    "X.shape[1]"
   ]
  },
  {
   "cell_type": "code",
   "execution_count": 12,
   "id": "22ff4090-0038-4178-821b-287f56177f3b",
   "metadata": {},
   "outputs": [
    {
     "data": {
      "text/plain": [
       "array([[1, 2, 3]])"
      ]
     },
     "execution_count": 12,
     "metadata": {},
     "output_type": "execute_result"
    }
   ],
   "source": [
    "X[0]"
   ]
  },
  {
   "cell_type": "code",
   "execution_count": 13,
   "id": "36de2a8f-aae1-41a8-9d46-68175f46dad1",
   "metadata": {},
   "outputs": [
    {
     "data": {
      "text/plain": [
       "22"
      ]
     },
     "execution_count": 13,
     "metadata": {},
     "output_type": "execute_result"
    }
   ],
   "source": [
    "y_univariate[0]"
   ]
  },
  {
   "cell_type": "code",
   "execution_count": null,
   "id": "d15860b6-364e-45a0-8fb6-8221a31dad69",
   "metadata": {},
   "outputs": [],
   "source": []
  }
 ],
 "metadata": {
  "kernelspec": {
   "display_name": "Python 3 (ipykernel)",
   "language": "python",
   "name": "python3"
  },
  "language_info": {
   "codemirror_mode": {
    "name": "ipython",
    "version": 3
   },
   "file_extension": ".py",
   "mimetype": "text/x-python",
   "name": "python",
   "nbconvert_exporter": "python",
   "pygments_lexer": "ipython3",
   "version": "3.12.2"
  }
 },
 "nbformat": 4,
 "nbformat_minor": 5
}
