{
 "cells": [
  {
   "cell_type": "code",
   "execution_count": 1,
   "id": "6e00b621-08b4-4640-b8d9-5ba951ebfd35",
   "metadata": {},
   "outputs": [
    {
     "name": "stdout",
     "output_type": "stream",
     "text": [
      "defaultdict(<class 'set'>, {'Class-V': {1}, 'Class-VI': {2}, 'Class-VII': {2}, 'Class-VIII': {3}})\n"
     ]
    }
   ],
   "source": [
    "from collections import defaultdict\n",
    "\n",
    "def create_dict(list1, list2):\n",
    "    result = defaultdict(set)\n",
    "    for key, value in zip(list1, list2):\n",
    "        result[key].add(value)\n",
    "    return result\n",
    "\n",
    "# Sample lists\n",
    "list1 = ['Class-V', 'Class-VI', 'Class-VII', 'Class-VIII']\n",
    "list2 = [1, 2, 2, 3]\n",
    "\n",
    "# Create the dictionary\n",
    "result_dict = create_dict(list1, list2)\n",
    "print(result_dict)"
   ]
  },
  {
   "cell_type": "code",
   "execution_count": 2,
   "id": "5ab0e44d-aa4a-47dd-a5aa-3d43796fd5f4",
   "metadata": {},
   "outputs": [
    {
     "name": "stdout",
     "output_type": "stream",
     "text": [
      "{'id': 1, 'subject': 'math', 'V+VI': 76.0}\n",
      "{'id': 2, 'subject': 'math', 'V+VI': 73.5}\n",
      "{'id': 3, 'subject': 'math', 'V+VI': 80.5}\n"
     ]
    }
   ],
   "source": [
    "def replace_with_sum(input_list):\n",
    "    output_list = []\n",
    "    for d in input_list:\n",
    "        v_vi_sum = (d['V'] + d['VI']) / 2\n",
    "        new_dict = {'id': d['id'], 'subject': d['subject'], 'V+VI': v_vi_sum}\n",
    "        output_list.append(new_dict)\n",
    "    return output_list\n",
    "\n",
    "# Input list of dictionaries\n",
    "input_list = [\n",
    "    {'id': 1, 'subject': 'math', 'V': 70, 'VI': 82},\n",
    "    {'id': 2, 'subject': 'math', 'V': 73, 'VI': 74},\n",
    "    {'id': 3, 'subject': 'math', 'V': 75, 'VI': 86}\n",
    "]\n",
    "\n",
    "# Generate the output list\n",
    "output_list = replace_with_sum(input_list)\n",
    "\n",
    "# Print the output list\n",
    "for item in output_list:\n",
    "    print(item)"
   ]
  },
  {
   "cell_type": "code",
   "execution_count": 3,
   "id": "6bb6e5e2-170d-40c6-b39e-30fbdd751d8d",
   "metadata": {},
   "outputs": [
    {
     "name": "stdout",
     "output_type": "stream",
     "text": [
      "[('item3', '24.5'), ('item2', '15.10'), ('item1', '12.20')]\n"
     ]
    }
   ],
   "source": [
    "def sort_tuple_by_float(tuple_list):\n",
    "    # Define a custom sorting key function to extract the float value\n",
    "    def get_float_value(item):\n",
    "        return float(item[1])\n",
    "\n",
    "    # Sort the tuple list using the custom key function\n",
    "    sorted_tuple_list = sorted(tuple_list, key=get_float_value, reverse=True)\n",
    "    return sorted_tuple_list\n",
    "\n",
    "# Sample data\n",
    "sample_data = [('item1', '12.20'), ('item2', '15.10'), ('item3', '24.5')]\n",
    "\n",
    "# Sort the tuple by its float element\n",
    "sorted_data = sort_tuple_by_float(sample_data)\n",
    "\n",
    "# Print the sorted tuple\n",
    "print(sorted_data)\n"
   ]
  },
  {
   "cell_type": "code",
   "execution_count": 4,
   "id": "ce51f3d2-aa8e-42a1-b8c6-adc9599e7d59",
   "metadata": {},
   "outputs": [
    {
     "name": "stdout",
     "output_type": "stream",
     "text": [
      "[('',), ('a', 'b'), ('a', 'b', 'c'), 'd']\n"
     ]
    }
   ],
   "source": [
    "def remove_empty_tuples(tuple_list):\n",
    "    return [t for t in tuple_list if t]\n",
    "\n",
    "# Sample data\n",
    "sample_data = [(), (), ('',), ('a', 'b'), ('a', 'b', 'c'), ('d')]\n",
    "\n",
    "# Remove empty tuples\n",
    "result = remove_empty_tuples(sample_data)\n",
    "\n",
    "# Print the result\n",
    "print(result)\n"
   ]
  },
  {
   "cell_type": "code",
   "execution_count": 5,
   "id": "79e28c27-5e11-4135-b0a5-12b235f6a936",
   "metadata": {},
   "outputs": [
    {
     "name": "stdout",
     "output_type": "stream",
     "text": [
      "{'w': 2, 'r': 3}\n"
     ]
    }
   ],
   "source": [
    "def tuples_to_dict(tuple_list):\n",
    "    return {value: key for key, value in tuple_list}\n",
    "\n",
    "# Sample input\n",
    "input_tuples = [(2, \"w\"), (3, \"r\")]\n",
    "\n",
    "# Convert the list of tuples to a dictionary\n",
    "output_dict = tuples_to_dict(input_tuples)\n",
    "\n",
    "# Print the resulting dictionary\n",
    "print(output_dict)\n"
   ]
  },
  {
   "cell_type": "code",
   "execution_count": 7,
   "id": "5d6a7e4d-a97b-4520-b3c9-e388c7ee7a06",
   "metadata": {},
   "outputs": [
    {
     "name": "stdout",
     "output_type": "stream",
     "text": [
      "3\n"
     ]
    }
   ],
   "source": [
    "def count_till_tuples(lst):\n",
    "    count = 0\n",
    "    for ele in lst:\n",
    "        if isinstance(ele,tuple):\n",
    "            return count\n",
    "        count+=1\n",
    "    return count\n",
    "\n",
    "#Sample case\n",
    "lst =  [10,20,30,(10,20),40]\n",
    "output = count_till_tuples(lst)\n",
    "print(output)"
   ]
  },
  {
   "cell_type": "code",
   "execution_count": 8,
   "id": "4e683ebd-d539-43c9-b85e-2a80c6d967d9",
   "metadata": {},
   "outputs": [
    {
     "name": "stdout",
     "output_type": "stream",
     "text": [
      "Maximum value: 20, Minimum value: 2\n"
     ]
    }
   ],
   "source": [
    "def max_min_set(input_set):\n",
    "    max_value = max(input_set)\n",
    "    min_value = min(input_set)\n",
    "    return max_value, min_value\n",
    "\n",
    "# Sample case\n",
    "in_set = ([5, 10, 3, 15, 2, 20])\n",
    "max_val, min_val = max_min_set(in_set)\n",
    "print(f'Maximum value: {max_val}, Minimum value: {min_val}')"
   ]
  },
  {
   "cell_type": "code",
   "execution_count": 9,
   "id": "5b88335a-f2dd-4ba9-83be-4b4ad462e38b",
   "metadata": {},
   "outputs": [
    {
     "name": "stdout",
     "output_type": "stream",
     "text": [
      "Difference: ({'green'}, {'yellow'})\n",
      "Union: {'green', 'blue', 'yellow'}\n",
      "Intersection: {'blue'}\n"
     ]
    }
   ],
   "source": [
    "def set_operations(set1, set2):\n",
    "    set_diff = set1.difference(set2), set2.difference(set1)\n",
    "    set_union = set1.union(set2)\n",
    "    set_intersection = set1.intersection(set2)\n",
    "    return set_diff, set_union, set_intersection\n",
    "\n",
    "# Test the function\n",
    "set1 = {\"green\", \"blue\"}\n",
    "set2 = {\"blue\", \"yellow\"}\n",
    "difference, union, intersection = set_operations(set1, set2)\n",
    "\n",
    "print(\"Difference:\", difference)\n",
    "print(\"Union:\", union)\n",
    "print(\"Intersection:\", intersection)\n"
   ]
  },
  {
   "cell_type": "code",
   "execution_count": 10,
   "id": "23e46d37-d954-419e-a701-ce329052f063",
   "metadata": {},
   "outputs": [
    {
     "name": "stdout",
     "output_type": "stream",
     "text": [
      "Output: <b><i><u>hello world</u></i></b>\n"
     ]
    }
   ],
   "source": [
    "def bold(func):\n",
    "    def wrapper(text):\n",
    "        return \"<b>\" + func(text) + \"</b>\"\n",
    "    return wrapper\n",
    "\n",
    "def italic(func):\n",
    "    def wrapper(text):\n",
    "        return \"<i>\" + func(text) + \"</i>\"\n",
    "    return wrapper\n",
    "\n",
    "def underline(func):\n",
    "    def wrapper(text):\n",
    "        return \"<u>\" + func(text) + \"</u>\"\n",
    "    return wrapper\n",
    "\n",
    "@bold\n",
    "@italic\n",
    "@underline\n",
    "def format_text(text):\n",
    "    return text\n",
    "\n",
    "# Test the function\n",
    "input_text = \"hello world\"\n",
    "output_text = format_text(input_text)\n",
    "print(\"Output:\", output_text)\n"
   ]
  },
  {
   "cell_type": "code",
   "execution_count": 11,
   "id": "cb859a53-178a-4c0e-a1cb-3464ef796b9a",
   "metadata": {},
   "outputs": [
    {
     "name": "stdin",
     "output_type": "stream",
     "text": [
      "Enter a positive integer:  3\n"
     ]
    },
    {
     "name": "stdout",
     "output_type": "stream",
     "text": [
      "Harmonic sum: 1.8333333333333333\n"
     ]
    }
   ],
   "source": [
    "def harmonic_sum(n):\n",
    "    if n < 2:\n",
    "        return 1 if n == 1 else 0\n",
    "    else:\n",
    "        return 1 / n + harmonic_sum(n - 1)\n",
    "\n",
    "n = int(input(\"Enter a positive integer: \"))\n",
    "print(\"Harmonic sum:\", harmonic_sum(n))\n"
   ]
  },
  {
   "cell_type": "code",
   "execution_count": 12,
   "id": "e19e5c6e-6105-4811-a1bb-1359a54f1afd",
   "metadata": {},
   "outputs": [
    {
     "name": "stdout",
     "output_type": "stream",
     "text": [
      "Expected Result: 21\n"
     ]
    }
   ],
   "source": [
    "def recursive_list_sum(lst):\n",
    "    total = 0\n",
    "    for element in lst:\n",
    "        if isinstance(element, list):\n",
    "            total += recursive_list_sum(element)\n",
    "        else:\n",
    "            total += element\n",
    "    return total\n",
    "\n",
    "# Test the function\n",
    "test_data = [1, 2, [3, 4], [5, 6]]\n",
    "result = recursive_list_sum(test_data)\n",
    "print( result)\n"
   ]
  },
  {
   "cell_type": "code",
   "execution_count": null,
   "id": "98c3220f-354b-40c5-8776-badbcea6e624",
   "metadata": {},
   "outputs": [],
   "source": []
  }
 ],
 "metadata": {
  "kernelspec": {
   "display_name": "Python 3 (ipykernel)",
   "language": "python",
   "name": "python3"
  },
  "language_info": {
   "codemirror_mode": {
    "name": "ipython",
    "version": 3
   },
   "file_extension": ".py",
   "mimetype": "text/x-python",
   "name": "python",
   "nbconvert_exporter": "python",
   "pygments_lexer": "ipython3",
   "version": "3.12.2"
  }
 },
 "nbformat": 4,
 "nbformat_minor": 5
}
