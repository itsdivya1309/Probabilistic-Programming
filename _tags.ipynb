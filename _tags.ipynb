{
 "cells": [
  {
   "cell_type": "code",
   "execution_count": 1,
   "id": "a1d2b5d3-d8aa-463e-ba57-7ccbe49997e5",
   "metadata": {},
   "outputs": [],
   "source": [
    "from aeon.registry import all_tags"
   ]
  },
  {
   "cell_type": "code",
   "execution_count": 2,
   "id": "b90a41a2-a9c4-4476-8087-52e985a43812",
   "metadata": {},
   "outputs": [
    {
     "data": {
      "text/html": [
       "<div>\n",
       "<style scoped>\n",
       "    .dataframe tbody tr th:only-of-type {\n",
       "        vertical-align: middle;\n",
       "    }\n",
       "\n",
       "    .dataframe tbody tr th {\n",
       "        vertical-align: top;\n",
       "    }\n",
       "\n",
       "    .dataframe thead th {\n",
       "        text-align: right;\n",
       "    }\n",
       "</style>\n",
       "<table border=\"1\" class=\"dataframe\">\n",
       "  <thead>\n",
       "    <tr style=\"text-align: right;\">\n",
       "      <th></th>\n",
       "      <th>name</th>\n",
       "      <th>scitype</th>\n",
       "      <th>type</th>\n",
       "      <th>description</th>\n",
       "    </tr>\n",
       "  </thead>\n",
       "  <tbody>\n",
       "    <tr>\n",
       "      <th>0</th>\n",
       "      <td>X_inner_type</td>\n",
       "      <td>[forecaster, classifier, regressor, transforme...</td>\n",
       "      <td>(list, [pd.Series, pd.DataFrame, np.ndarray, n...</td>\n",
       "      <td>which data structure is the internal _fit/_pre...</td>\n",
       "    </tr>\n",
       "    <tr>\n",
       "      <th>1</th>\n",
       "      <td>capability:inverse_transform</td>\n",
       "      <td>transformer</td>\n",
       "      <td>bool</td>\n",
       "      <td>is the transformer capable of carrying out an ...</td>\n",
       "    </tr>\n",
       "    <tr>\n",
       "      <th>2</th>\n",
       "      <td>capability:missing_values:removes</td>\n",
       "      <td>transformer</td>\n",
       "      <td>bool</td>\n",
       "      <td>is the transformer result guaranteed to have n...</td>\n",
       "    </tr>\n",
       "    <tr>\n",
       "      <th>3</th>\n",
       "      <td>capability:multivariate</td>\n",
       "      <td>[classifier, clusterer, early_classifier, regr...</td>\n",
       "      <td>bool</td>\n",
       "      <td>can the estimator deal with series with two or...</td>\n",
       "    </tr>\n",
       "    <tr>\n",
       "      <th>4</th>\n",
       "      <td>capability:unequal_length</td>\n",
       "      <td>[classifier, clusterer, early_classifier, regr...</td>\n",
       "      <td>bool</td>\n",
       "      <td>can the estimator handle unequal length time s...</td>\n",
       "    </tr>\n",
       "    <tr>\n",
       "      <th>5</th>\n",
       "      <td>capability:unequal_length:removes</td>\n",
       "      <td>transformer</td>\n",
       "      <td>bool</td>\n",
       "      <td>is the transformer result guaranteed to be equ...</td>\n",
       "    </tr>\n",
       "    <tr>\n",
       "      <th>6</th>\n",
       "      <td>input_data_type</td>\n",
       "      <td>transformer</td>\n",
       "      <td>(list, [Series, Collection, Panel])</td>\n",
       "      <td>The input abstract data type of the transforme...</td>\n",
       "    </tr>\n",
       "    <tr>\n",
       "      <th>7</th>\n",
       "      <td>instancewise</td>\n",
       "      <td>transformer</td>\n",
       "      <td>bool</td>\n",
       "      <td>Does the transformer transform instances indep...</td>\n",
       "    </tr>\n",
       "    <tr>\n",
       "      <th>8</th>\n",
       "      <td>output_data_type</td>\n",
       "      <td>transformer</td>\n",
       "      <td>(list, [Tabular, Series, Collection, Primitive...</td>\n",
       "      <td>The output abstract data type of the transform...</td>\n",
       "    </tr>\n",
       "    <tr>\n",
       "      <th>9</th>\n",
       "      <td>remember_data</td>\n",
       "      <td>[forecaster, transformer]</td>\n",
       "      <td>bool</td>\n",
       "      <td>whether estimator remembers all data seen as s...</td>\n",
       "    </tr>\n",
       "    <tr>\n",
       "      <th>10</th>\n",
       "      <td>requires_y</td>\n",
       "      <td>transformer</td>\n",
       "      <td>bool</td>\n",
       "      <td>does this transformer require y to be passed i...</td>\n",
       "    </tr>\n",
       "    <tr>\n",
       "      <th>11</th>\n",
       "      <td>skip-inverse-transform</td>\n",
       "      <td>transformer</td>\n",
       "      <td>bool</td>\n",
       "      <td>behaviour flag: skips inverse_transform when c...</td>\n",
       "    </tr>\n",
       "    <tr>\n",
       "      <th>12</th>\n",
       "      <td>transform-returns-same-time-index</td>\n",
       "      <td>transformer</td>\n",
       "      <td>bool</td>\n",
       "      <td>does transform return same time index as input?</td>\n",
       "    </tr>\n",
       "    <tr>\n",
       "      <th>13</th>\n",
       "      <td>transform_labels</td>\n",
       "      <td>transformer</td>\n",
       "      <td>(list, [None, Series, Primitives, Panel])</td>\n",
       "      <td>What is the type of y: None (not needed), Prim...</td>\n",
       "    </tr>\n",
       "    <tr>\n",
       "      <th>14</th>\n",
       "      <td>y_inner_type</td>\n",
       "      <td>[forecaster, transformer]</td>\n",
       "      <td>(list, [pd.Series, pd.DataFrame, np.ndarray, n...</td>\n",
       "      <td>which data structure is the internal _fit/_pre...</td>\n",
       "    </tr>\n",
       "  </tbody>\n",
       "</table>\n",
       "</div>"
      ],
      "text/plain": [
       "                                 name  \\\n",
       "0                        X_inner_type   \n",
       "1        capability:inverse_transform   \n",
       "2   capability:missing_values:removes   \n",
       "3             capability:multivariate   \n",
       "4           capability:unequal_length   \n",
       "5   capability:unequal_length:removes   \n",
       "6                     input_data_type   \n",
       "7                        instancewise   \n",
       "8                    output_data_type   \n",
       "9                       remember_data   \n",
       "10                         requires_y   \n",
       "11             skip-inverse-transform   \n",
       "12  transform-returns-same-time-index   \n",
       "13                   transform_labels   \n",
       "14                       y_inner_type   \n",
       "\n",
       "                                              scitype  \\\n",
       "0   [forecaster, classifier, regressor, transforme...   \n",
       "1                                         transformer   \n",
       "2                                         transformer   \n",
       "3   [classifier, clusterer, early_classifier, regr...   \n",
       "4   [classifier, clusterer, early_classifier, regr...   \n",
       "5                                         transformer   \n",
       "6                                         transformer   \n",
       "7                                         transformer   \n",
       "8                                         transformer   \n",
       "9                           [forecaster, transformer]   \n",
       "10                                        transformer   \n",
       "11                                        transformer   \n",
       "12                                        transformer   \n",
       "13                                        transformer   \n",
       "14                          [forecaster, transformer]   \n",
       "\n",
       "                                                 type  \\\n",
       "0   (list, [pd.Series, pd.DataFrame, np.ndarray, n...   \n",
       "1                                                bool   \n",
       "2                                                bool   \n",
       "3                                                bool   \n",
       "4                                                bool   \n",
       "5                                                bool   \n",
       "6                 (list, [Series, Collection, Panel])   \n",
       "7                                                bool   \n",
       "8   (list, [Tabular, Series, Collection, Primitive...   \n",
       "9                                                bool   \n",
       "10                                               bool   \n",
       "11                                               bool   \n",
       "12                                               bool   \n",
       "13          (list, [None, Series, Primitives, Panel])   \n",
       "14  (list, [pd.Series, pd.DataFrame, np.ndarray, n...   \n",
       "\n",
       "                                          description  \n",
       "0   which data structure is the internal _fit/_pre...  \n",
       "1   is the transformer capable of carrying out an ...  \n",
       "2   is the transformer result guaranteed to have n...  \n",
       "3   can the estimator deal with series with two or...  \n",
       "4   can the estimator handle unequal length time s...  \n",
       "5   is the transformer result guaranteed to be equ...  \n",
       "6   The input abstract data type of the transforme...  \n",
       "7   Does the transformer transform instances indep...  \n",
       "8   The output abstract data type of the transform...  \n",
       "9   whether estimator remembers all data seen as s...  \n",
       "10  does this transformer require y to be passed i...  \n",
       "11  behaviour flag: skips inverse_transform when c...  \n",
       "12    does transform return same time index as input?  \n",
       "13  What is the type of y: None (not needed), Prim...  \n",
       "14  which data structure is the internal _fit/_pre...  "
      ]
     },
     "execution_count": 2,
     "metadata": {},
     "output_type": "execute_result"
    }
   ],
   "source": [
    "data = all_tags(estimator_types=\"transformer\", as_dataframe=True)\n",
    "data"
   ]
  },
  {
   "cell_type": "markdown",
   "id": "63a5be67-5781-4164-b63e-1d50d0def494",
   "metadata": {},
   "source": [
    "## Transformer FeatureSelection"
   ]
  },
  {
   "cell_type": "code",
   "execution_count": 3,
   "id": "dd8707ad-6ba9-44b7-a835-d311e71b3eba",
   "metadata": {},
   "outputs": [],
   "source": [
    "from aeon.datasets import load_longley\n",
    "from aeon.transformations.feature_selection import FeatureSelection\n",
    "from aeon.forecasting.model_selection import temporal_train_test_split"
   ]
  },
  {
   "cell_type": "code",
   "execution_count": 4,
   "id": "86d61dad-f1f9-43e1-bedd-31148acb2c53",
   "metadata": {},
   "outputs": [],
   "source": [
    "y, X = load_longley()\n",
    "y_train, y_test, X_train, X_test = temporal_train_test_split(y, X, test_size=3)"
   ]
  },
  {
   "cell_type": "code",
   "execution_count": 3,
   "id": "816ef785-6372-47d8-a4af-6d03626a9998",
   "metadata": {},
   "outputs": [
    {
     "data": {
      "text/plain": [
       "(16, 5)"
      ]
     },
     "execution_count": 3,
     "metadata": {},
     "output_type": "execute_result"
    }
   ],
   "source": [
    "X.shape"
   ]
  },
  {
   "cell_type": "code",
   "execution_count": 4,
   "id": "9c83fe02-99d4-463c-b304-ceccb2cc6d11",
   "metadata": {},
   "outputs": [
    {
     "data": {
      "text/plain": [
       "(16,)"
      ]
     },
     "execution_count": 4,
     "metadata": {},
     "output_type": "execute_result"
    }
   ],
   "source": [
    "y.shape"
   ]
  },
  {
   "cell_type": "code",
   "execution_count": 5,
   "id": "c636549d-eab0-43a2-aae1-10a008823e80",
   "metadata": {},
   "outputs": [
    {
     "data": {
      "text/plain": [
       "pandas.core.frame.DataFrame"
      ]
     },
     "execution_count": 5,
     "metadata": {},
     "output_type": "execute_result"
    }
   ],
   "source": [
    "type(X)"
   ]
  },
  {
   "cell_type": "code",
   "execution_count": 6,
   "id": "cabf83ae-d2fd-4b8d-9c62-6e7f27d79045",
   "metadata": {},
   "outputs": [
    {
     "data": {
      "text/plain": [
       "pandas.core.series.Series"
      ]
     },
     "execution_count": 6,
     "metadata": {},
     "output_type": "execute_result"
    }
   ],
   "source": [
    "type(y)"
   ]
  },
  {
   "cell_type": "code",
   "execution_count": 7,
   "id": "d5c96ba2-016f-439d-a785-4acb757a0439",
   "metadata": {},
   "outputs": [
    {
     "data": {
      "text/html": [
       "<div>\n",
       "<style scoped>\n",
       "    .dataframe tbody tr th:only-of-type {\n",
       "        vertical-align: middle;\n",
       "    }\n",
       "\n",
       "    .dataframe tbody tr th {\n",
       "        vertical-align: top;\n",
       "    }\n",
       "\n",
       "    .dataframe thead th {\n",
       "        text-align: right;\n",
       "    }\n",
       "</style>\n",
       "<table border=\"1\" class=\"dataframe\">\n",
       "  <thead>\n",
       "    <tr style=\"text-align: right;\">\n",
       "      <th></th>\n",
       "      <th>GNPDEFL</th>\n",
       "      <th>GNP</th>\n",
       "      <th>UNEMP</th>\n",
       "      <th>ARMED</th>\n",
       "      <th>POP</th>\n",
       "    </tr>\n",
       "    <tr>\n",
       "      <th>Period</th>\n",
       "      <th></th>\n",
       "      <th></th>\n",
       "      <th></th>\n",
       "      <th></th>\n",
       "      <th></th>\n",
       "    </tr>\n",
       "  </thead>\n",
       "  <tbody>\n",
       "    <tr>\n",
       "      <th>1947</th>\n",
       "      <td>83.0</td>\n",
       "      <td>234289.0</td>\n",
       "      <td>2356.0</td>\n",
       "      <td>1590.0</td>\n",
       "      <td>107608.0</td>\n",
       "    </tr>\n",
       "    <tr>\n",
       "      <th>1948</th>\n",
       "      <td>88.5</td>\n",
       "      <td>259426.0</td>\n",
       "      <td>2325.0</td>\n",
       "      <td>1456.0</td>\n",
       "      <td>108632.0</td>\n",
       "    </tr>\n",
       "    <tr>\n",
       "      <th>1949</th>\n",
       "      <td>88.2</td>\n",
       "      <td>258054.0</td>\n",
       "      <td>3682.0</td>\n",
       "      <td>1616.0</td>\n",
       "      <td>109773.0</td>\n",
       "    </tr>\n",
       "    <tr>\n",
       "      <th>1950</th>\n",
       "      <td>89.5</td>\n",
       "      <td>284599.0</td>\n",
       "      <td>3351.0</td>\n",
       "      <td>1650.0</td>\n",
       "      <td>110929.0</td>\n",
       "    </tr>\n",
       "    <tr>\n",
       "      <th>1951</th>\n",
       "      <td>96.2</td>\n",
       "      <td>328975.0</td>\n",
       "      <td>2099.0</td>\n",
       "      <td>3099.0</td>\n",
       "      <td>112075.0</td>\n",
       "    </tr>\n",
       "  </tbody>\n",
       "</table>\n",
       "</div>"
      ],
      "text/plain": [
       "        GNPDEFL       GNP   UNEMP   ARMED       POP\n",
       "Period                                             \n",
       "1947       83.0  234289.0  2356.0  1590.0  107608.0\n",
       "1948       88.5  259426.0  2325.0  1456.0  108632.0\n",
       "1949       88.2  258054.0  3682.0  1616.0  109773.0\n",
       "1950       89.5  284599.0  3351.0  1650.0  110929.0\n",
       "1951       96.2  328975.0  2099.0  3099.0  112075.0"
      ]
     },
     "execution_count": 7,
     "metadata": {},
     "output_type": "execute_result"
    }
   ],
   "source": [
    "X.head()"
   ]
  },
  {
   "cell_type": "code",
   "execution_count": 8,
   "id": "27e8f50d-aef5-45b9-aab2-365e417e2332",
   "metadata": {},
   "outputs": [
    {
     "data": {
      "text/plain": [
       "Period\n",
       "1947    60323.0\n",
       "1948    61122.0\n",
       "1949    60171.0\n",
       "1950    61187.0\n",
       "1951    63221.0\n",
       "Freq: A-DEC, Name: TOTEMP, dtype: float64"
      ]
     },
     "execution_count": 8,
     "metadata": {},
     "output_type": "execute_result"
    }
   ],
   "source": [
    "y.head()"
   ]
  },
  {
   "cell_type": "code",
   "execution_count": 9,
   "id": "a06b191c-934d-423b-a219-60f6842428ac",
   "metadata": {},
   "outputs": [
    {
     "data": {
      "text/plain": [
       "(13, 5)"
      ]
     },
     "execution_count": 9,
     "metadata": {},
     "output_type": "execute_result"
    }
   ],
   "source": [
    "X_train.shape"
   ]
  },
  {
   "cell_type": "code",
   "execution_count": 6,
   "id": "939b63b3-9875-45ce-a178-7017459acfdb",
   "metadata": {},
   "outputs": [],
   "source": [
    "transformer = FeatureSelection(method=\"random\", columns=None, n_columns=2, random_state=None)\n",
    "transformer.fit(X=X_train, y=y_train)\n",
    "X_hat = transformer.transform(X=X_test, y=y_test)"
   ]
  },
  {
   "cell_type": "code",
   "execution_count": 11,
   "id": "fa86bc29-45aa-4e6c-9f97-d8b906c4f6ef",
   "metadata": {},
   "outputs": [
    {
     "data": {
      "text/plain": [
       "pandas.core.frame.DataFrame"
      ]
     },
     "execution_count": 11,
     "metadata": {},
     "output_type": "execute_result"
    }
   ],
   "source": [
    "type(X_hat)"
   ]
  },
  {
   "cell_type": "code",
   "execution_count": 12,
   "id": "3f30ab08-7537-41f6-a9fb-d489cd64ea40",
   "metadata": {},
   "outputs": [
    {
     "data": {
      "text/plain": [
       "(3, 2)"
      ]
     },
     "execution_count": 12,
     "metadata": {},
     "output_type": "execute_result"
    }
   ],
   "source": [
    "X_hat.shape"
   ]
  },
  {
   "cell_type": "code",
   "execution_count": 13,
   "id": "2975ff7c-46a9-4ea1-8686-a8f3b0cbefe6",
   "metadata": {},
   "outputs": [
    {
     "data": {
      "text/html": [
       "<div>\n",
       "<style scoped>\n",
       "    .dataframe tbody tr th:only-of-type {\n",
       "        vertical-align: middle;\n",
       "    }\n",
       "\n",
       "    .dataframe tbody tr th {\n",
       "        vertical-align: top;\n",
       "    }\n",
       "\n",
       "    .dataframe thead th {\n",
       "        text-align: right;\n",
       "    }\n",
       "</style>\n",
       "<table border=\"1\" class=\"dataframe\">\n",
       "  <thead>\n",
       "    <tr style=\"text-align: right;\">\n",
       "      <th></th>\n",
       "      <th>GNPDEFL</th>\n",
       "      <th>GNP</th>\n",
       "      <th>UNEMP</th>\n",
       "      <th>ARMED</th>\n",
       "      <th>POP</th>\n",
       "    </tr>\n",
       "    <tr>\n",
       "      <th>Period</th>\n",
       "      <th></th>\n",
       "      <th></th>\n",
       "      <th></th>\n",
       "      <th></th>\n",
       "      <th></th>\n",
       "    </tr>\n",
       "  </thead>\n",
       "  <tbody>\n",
       "    <tr>\n",
       "      <th>1960</th>\n",
       "      <td>114.2</td>\n",
       "      <td>502601.0</td>\n",
       "      <td>3931.0</td>\n",
       "      <td>2514.0</td>\n",
       "      <td>125368.0</td>\n",
       "    </tr>\n",
       "    <tr>\n",
       "      <th>1961</th>\n",
       "      <td>115.7</td>\n",
       "      <td>518173.0</td>\n",
       "      <td>4806.0</td>\n",
       "      <td>2572.0</td>\n",
       "      <td>127852.0</td>\n",
       "    </tr>\n",
       "    <tr>\n",
       "      <th>1962</th>\n",
       "      <td>116.9</td>\n",
       "      <td>554894.0</td>\n",
       "      <td>4007.0</td>\n",
       "      <td>2827.0</td>\n",
       "      <td>130081.0</td>\n",
       "    </tr>\n",
       "  </tbody>\n",
       "</table>\n",
       "</div>"
      ],
      "text/plain": [
       "        GNPDEFL       GNP   UNEMP   ARMED       POP\n",
       "Period                                             \n",
       "1960      114.2  502601.0  3931.0  2514.0  125368.0\n",
       "1961      115.7  518173.0  4806.0  2572.0  127852.0\n",
       "1962      116.9  554894.0  4007.0  2827.0  130081.0"
      ]
     },
     "execution_count": 13,
     "metadata": {},
     "output_type": "execute_result"
    }
   ],
   "source": [
    "X_test"
   ]
  },
  {
   "cell_type": "code",
   "execution_count": 14,
   "id": "fe0aad41-b27d-45a6-beba-05717853d10a",
   "metadata": {},
   "outputs": [
    {
     "data": {
      "text/html": [
       "<div>\n",
       "<style scoped>\n",
       "    .dataframe tbody tr th:only-of-type {\n",
       "        vertical-align: middle;\n",
       "    }\n",
       "\n",
       "    .dataframe tbody tr th {\n",
       "        vertical-align: top;\n",
       "    }\n",
       "\n",
       "    .dataframe thead th {\n",
       "        text-align: right;\n",
       "    }\n",
       "</style>\n",
       "<table border=\"1\" class=\"dataframe\">\n",
       "  <thead>\n",
       "    <tr style=\"text-align: right;\">\n",
       "      <th></th>\n",
       "      <th>ARMED</th>\n",
       "      <th>GNP</th>\n",
       "    </tr>\n",
       "    <tr>\n",
       "      <th>Period</th>\n",
       "      <th></th>\n",
       "      <th></th>\n",
       "    </tr>\n",
       "  </thead>\n",
       "  <tbody>\n",
       "    <tr>\n",
       "      <th>1960</th>\n",
       "      <td>2514.0</td>\n",
       "      <td>502601.0</td>\n",
       "    </tr>\n",
       "    <tr>\n",
       "      <th>1961</th>\n",
       "      <td>2572.0</td>\n",
       "      <td>518173.0</td>\n",
       "    </tr>\n",
       "    <tr>\n",
       "      <th>1962</th>\n",
       "      <td>2827.0</td>\n",
       "      <td>554894.0</td>\n",
       "    </tr>\n",
       "  </tbody>\n",
       "</table>\n",
       "</div>"
      ],
      "text/plain": [
       "         ARMED       GNP\n",
       "Period                  \n",
       "1960    2514.0  502601.0\n",
       "1961    2572.0  518173.0\n",
       "1962    2827.0  554894.0"
      ]
     },
     "execution_count": 14,
     "metadata": {},
     "output_type": "execute_result"
    }
   ],
   "source": [
    "X_hat"
   ]
  },
  {
   "cell_type": "markdown",
   "id": "5fcec270-3ccb-4901-a688-1e37ce83f8c8",
   "metadata": {},
   "source": [
    "## Test"
   ]
  },
  {
   "cell_type": "code",
   "execution_count": 16,
   "id": "877a3bb7-594e-4fe1-9610-55c2308fef70",
   "metadata": {},
   "outputs": [],
   "source": [
    "from aeon.datasets import load_basic_motions, load_unit_test\n",
    "from aeon.testing.expected_results.expected_transform_outputs import (\n",
    "    basic_motions_result,\n",
    "    unit_test_result,\n",
    ")"
   ]
  },
  {
   "cell_type": "code",
   "execution_count": 17,
   "id": "a28d58e7-479c-45ef-b15b-c2501a3dc102",
   "metadata": {},
   "outputs": [
    {
     "name": "stderr",
     "output_type": "stream",
     "text": [
      "D:\\Python\\Project\\Aeon\\aeon\\aeon\\datasets\\_single_problem_loaders.py:1017: UserWarning: \n",
      "                    Error detected using API. Check connection, input arguments, and\n",
      "                    API status here https://www.solar.sheffield.ac.uk/pvlive/api/.\n",
      "                    Loading stored sample data instead.\n",
      "                    \n",
      "  warn(\n"
     ]
    }
   ],
   "source": [
    "from aeon.transformations.clear_sky import ClearSky  \n",
    "from aeon.datasets import load_solar  \n",
    "X = load_solar()  "
   ]
  },
  {
   "cell_type": "code",
   "execution_count": 18,
   "id": "84889054-4154-4b53-982a-f43a956a502b",
   "metadata": {},
   "outputs": [
    {
     "data": {
      "text/plain": [
       "(289,)"
      ]
     },
     "execution_count": 18,
     "metadata": {},
     "output_type": "execute_result"
    }
   ],
   "source": [
    "X.shape"
   ]
  },
  {
   "cell_type": "code",
   "execution_count": 19,
   "id": "42432c77-3175-4f8c-b59a-457f0191323e",
   "metadata": {},
   "outputs": [],
   "source": [
    "transformer = ClearSky() "
   ]
  },
  {
   "cell_type": "code",
   "execution_count": 20,
   "id": "888b1879-5496-4c46-a824-276cb11225a4",
   "metadata": {},
   "outputs": [],
   "source": [
    "X_trafo = transformer.fit_transform(X) "
   ]
  },
  {
   "cell_type": "code",
   "execution_count": 21,
   "id": "bdb0ea2e-7d55-4cf5-abee-176aa61a471e",
   "metadata": {},
   "outputs": [
    {
     "data": {
      "text/plain": [
       "(289,)"
      ]
     },
     "execution_count": 21,
     "metadata": {},
     "output_type": "execute_result"
    }
   ],
   "source": [
    "X_trafo.shape"
   ]
  },
  {
   "cell_type": "code",
   "execution_count": 22,
   "id": "2e9f384c-1e65-4dc1-8af6-d7f0d7b6cdab",
   "metadata": {},
   "outputs": [
    {
     "data": {
      "text/plain": [
       "datetime_gmt\n",
       "2021-05-01 00:00:00+00:00    0.0\n",
       "2021-05-01 00:30:00+00:00    0.0\n",
       "2021-05-01 01:00:00+00:00    0.0\n",
       "2021-05-01 01:30:00+00:00    0.0\n",
       "2021-05-01 02:00:00+00:00    0.0\n",
       "Freq: 30T, Name: solar_gen, dtype: float64"
      ]
     },
     "execution_count": 22,
     "metadata": {},
     "output_type": "execute_result"
    }
   ],
   "source": [
    "X.head()"
   ]
  },
  {
   "cell_type": "code",
   "execution_count": 23,
   "id": "82515273-3b52-497e-8ed8-35c35c4981d1",
   "metadata": {},
   "outputs": [
    {
     "data": {
      "text/plain": [
       "datetime_gmt\n",
       "2021-05-01 00:00:00+00:00    0.0\n",
       "2021-05-01 00:30:00+00:00    0.0\n",
       "2021-05-01 01:00:00+00:00    0.0\n",
       "2021-05-01 01:30:00+00:00    0.0\n",
       "2021-05-01 02:00:00+00:00    0.0\n",
       "Freq: 30T, dtype: float64"
      ]
     },
     "execution_count": 23,
     "metadata": {},
     "output_type": "execute_result"
    }
   ],
   "source": [
    "X_trafo.head()"
   ]
  },
  {
   "cell_type": "code",
   "execution_count": 24,
   "id": "887a6639-9b52-4c2f-bb35-5cb144b0e676",
   "metadata": {},
   "outputs": [],
   "source": [
    "Xi = transformer.inverse_transform(X_trafo)"
   ]
  },
  {
   "cell_type": "code",
   "execution_count": 25,
   "id": "a2ee89c1-f6e4-45bf-ac2e-b58483e56e79",
   "metadata": {},
   "outputs": [
    {
     "data": {
      "text/plain": [
       "datetime_gmt\n",
       "2021-05-01 00:00:00+00:00    0.0\n",
       "2021-05-01 00:30:00+00:00    0.0\n",
       "2021-05-01 01:00:00+00:00    0.0\n",
       "2021-05-01 01:30:00+00:00    0.0\n",
       "2021-05-01 02:00:00+00:00    0.0\n",
       "Freq: 30T, dtype: float64"
      ]
     },
     "execution_count": 25,
     "metadata": {},
     "output_type": "execute_result"
    }
   ],
   "source": [
    "Xi.head()"
   ]
  },
  {
   "cell_type": "code",
   "execution_count": 27,
   "id": "1d5cb281-5de1-4d33-97c3-a7ffab333a78",
   "metadata": {},
   "outputs": [],
   "source": [
    "from aeon.testing.utils.estimator_checks import _assert_array_almost_equal\n",
    "y = _assert_array_almost_equal(X,Xi)"
   ]
  },
  {
   "cell_type": "code",
   "execution_count": 29,
   "id": "34a9a51f-3c0c-48d9-bd69-7af5dc703cf9",
   "metadata": {},
   "outputs": [
    {
     "data": {
      "text/plain": [
       "NoneType"
      ]
     },
     "execution_count": 29,
     "metadata": {},
     "output_type": "execute_result"
    }
   ],
   "source": [
    "type(y)"
   ]
  },
  {
   "cell_type": "code",
   "execution_count": 9,
   "id": "ed5ad9d5-c9e8-42d5-bb11-36c669ee7653",
   "metadata": {},
   "outputs": [
    {
     "data": {
      "text/plain": [
       "False"
      ]
     },
     "execution_count": 9,
     "metadata": {},
     "output_type": "execute_result"
    }
   ],
   "source": [
    "not transformer.get_tag(\"capability:multivariate\")"
   ]
  },
  {
   "cell_type": "code",
   "execution_count": null,
   "id": "a80e8f6b-66e7-41c6-8a30-8506c21b250b",
   "metadata": {},
   "outputs": [],
   "source": []
  }
 ],
 "metadata": {
  "kernelspec": {
   "display_name": "Python 3 (ipykernel)",
   "language": "python",
   "name": "python3"
  },
  "language_info": {
   "codemirror_mode": {
    "name": "ipython",
    "version": 3
   },
   "file_extension": ".py",
   "mimetype": "text/x-python",
   "name": "python",
   "nbconvert_exporter": "python",
   "pygments_lexer": "ipython3",
   "version": "3.12.2"
  }
 },
 "nbformat": 4,
 "nbformat_minor": 5
}
