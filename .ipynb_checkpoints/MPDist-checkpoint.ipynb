{
 "cells": [
  {
   "cell_type": "markdown",
   "id": "ab0c3333-06a6-47d3-8ba4-981612da9b0f",
   "metadata": {},
   "source": [
    "## MPDist implementation of aeon"
   ]
  },
  {
   "cell_type": "code",
   "execution_count": 1,
   "id": "37d27bc9-3fa1-4a56-989e-76e580191074",
   "metadata": {},
   "outputs": [],
   "source": [
    "import numpy as np"
   ]
  },
  {
   "cell_type": "code",
   "execution_count": 2,
   "id": "9c8d69be-0c9b-4f9b-af38-9943102c36d5",
   "metadata": {},
   "outputs": [],
   "source": [
    "def _sliding_dot_products(q, t, q_len, t_len):\n",
    "    \"\"\"\n",
    "    Compute the sliding dot products between a query and a time series.\n",
    "\n",
    "    Parameters\n",
    "    ----------\n",
    "        q: numpy.array\n",
    "            Query.\n",
    "        t: numpy.array\n",
    "            Time series.\n",
    "        q_len: int\n",
    "            Length of the query.\n",
    "        t_len: int\n",
    "            Length of the time series.\n",
    "\n",
    "    Output\n",
    "    ------\n",
    "        dot_prod: numpy.array\n",
    "                    Sliding dot products between q and t.\n",
    "    \"\"\"\n",
    "    # Reversing query and padding both query and time series\n",
    "    t_padded = np.pad(t, (0, t_len))\n",
    "    q_reversed = np.flipud(q)\n",
    "    q_reversed_padded = np.pad(q_reversed, (0, 2 * t_len - q_len))\n",
    "\n",
    "    # Applying FFT to both query and time series\n",
    "    t_fft = np.fft.fft(t_padded)\n",
    "    q_fft = np.fft.fft(q_reversed_padded)\n",
    "\n",
    "    # Applying inverse FFT to obtain the convolution of the time series by\n",
    "    # the query\n",
    "    element_wise_mult = np.multiply(t_fft, q_fft)\n",
    "    inverse_fft = np.fft.ifft(element_wise_mult)\n",
    "\n",
    "    # Returns only the valid dot products from inverse_fft\n",
    "    dot_prod = inverse_fft[q_len - 1 : t_len].real\n",
    "\n",
    "    return dot_prod"
   ]
  },
  {
   "cell_type": "code",
   "execution_count": 3,
   "id": "c62c4ab9-30a9-4138-bf52-36739c3b794b",
   "metadata": {},
   "outputs": [],
   "source": [
    "def _calculate_distance_profile(\n",
    "    dot_prod, q_mean, q_std, t_mean, t_std, q_len, n_t_subs\n",
    "):\n",
    "    \"\"\"\n",
    "    Calculate the distance profile for the given query.\n",
    "\n",
    "    Parameters\n",
    "    ----------\n",
    "        dot_prod: numpy.array\n",
    "            Sliding dot products between the time series and the query.\n",
    "        q_mean: float\n",
    "            Mean of the elements of the query.\n",
    "        q_std: float\n",
    "            Standard deviation of elements of the query.\n",
    "        t_mean: numpy.array\n",
    "            Array with the mean of the elements from each subsequence of\n",
    "            length(query) from the time series.\n",
    "        t_std: numpy.array\n",
    "            Array with the standard deviation of the elements from each\n",
    "            subsequence of length(query) from the time series.\n",
    "        q_len: int\n",
    "            Length of the query.\n",
    "        n_t_subs: int\n",
    "            Number of subsequences in the time series.\n",
    "\n",
    "    Output\n",
    "    ------\n",
    "        d: numpy.array\n",
    "            Distance profile of query q.\n",
    "    \"\"\"\n",
    "    d = [\n",
    "        2\n",
    "        * q_len\n",
    "        * (\n",
    "            1\n",
    "            - ((dot_prod[i] - q_len * q_mean * t_mean[i]) / (q_len * q_std * t_std[i]))\n",
    "        )\n",
    "        for i in range(0, n_t_subs)\n",
    "    ]\n",
    "    d = np.absolute(d)\n",
    "    d = np.sqrt(d)\n",
    "\n",
    "    return d"
   ]
  },
  {
   "cell_type": "code",
   "execution_count": 4,
   "id": "7411b315-4bed-442b-b01e-9c36d3156f2d",
   "metadata": {},
   "outputs": [],
   "source": [
    "def _stomp_ab(ts1, ts2, m):\n",
    "    \"\"\"\n",
    "    STOMP implementation for AB similarity join.\n",
    "\n",
    "    Parameters\n",
    "    ----------\n",
    "        ts1: numpy.array\n",
    "            First time series.\n",
    "        ts2: numpy.array\n",
    "            Second time series.\n",
    "        m: int\n",
    "            Length of the subsequences.\n",
    "\n",
    "    Output\n",
    "    ------\n",
    "        mp: numpy.array\n",
    "            Array with the distance between every subsequence from ts1\n",
    "            to the nearest subsequence with same length from ts2.\n",
    "        ip: numpy.array\n",
    "            Array with the index of the nearest neighbor of ts1 in ts2.\n",
    "    \"\"\"\n",
    "    len1 = len(ts1)\n",
    "    len2 = len(ts2)\n",
    "\n",
    "    # Number of subsequences\n",
    "    n_ts1_subs = len1 - m + 1\n",
    "    n_ts2_subs = len2 - m + 1\n",
    "\n",
    "    # Compute the mean and standard deviation\n",
    "    ts1_mean = [np.mean(ts1[i : i + m]) for i in range(0, n_ts1_subs)]\n",
    "    ts1_std = [np.std(ts1[i : i + m]) for i in range(0, n_ts1_subs)]\n",
    "\n",
    "    ts2_mean = [np.mean(ts2[i : i + m]) for i in range(0, n_ts2_subs)]\n",
    "    ts2_std = [np.std(ts2[i : i + m]) for i in range(0, n_ts2_subs)]\n",
    "\n",
    "    # Compute the dot products between the first ts2 subsequence and every\n",
    "    # ts1 subsequence\n",
    "    dot_prod = _sliding_dot_products(ts2[0:m], ts1, m, len1)\n",
    "    first_dot_prod = np.copy(dot_prod)\n",
    "\n",
    "    # Initialization\n",
    "    mp = np.full(n_ts1_subs, float(\"inf\"))  # matrix profile\n",
    "    ip = np.zeros(n_ts1_subs)  # index profile\n",
    "\n",
    "    # Compute the distance profile for the first ts1 subsequence\n",
    "    dot_prod = _sliding_dot_products(ts1[0:m], ts2, m, len2)\n",
    "    dp = _calculate_distance_profile(\n",
    "        dot_prod, ts1_mean[0], ts1_std[0], ts2_mean, ts2_std, m, n_ts2_subs\n",
    "    )\n",
    "\n",
    "    # Updates the matrix profile\n",
    "    mp[0] = np.amin(dp)\n",
    "    ip[0] = np.argmin(dp)\n",
    "\n",
    "    for i in range(1, n_ts1_subs):\n",
    "        for j in range(n_ts2_subs - 1, 0, -1):\n",
    "            dot_prod[j] = (\n",
    "                dot_prod[j - 1]\n",
    "                - ts2[j - 1] * ts1[i - 1]\n",
    "                + ts2[j - 1 + m] * ts1[i - 1 + m]\n",
    "            )  # compute the next dot products\n",
    "            # using the previous ones\n",
    "        dot_prod[0] = first_dot_prod[i]\n",
    "        dp = _calculate_distance_profile(\n",
    "            dot_prod, ts1_mean[i], ts1_std[i], ts2_mean, ts2_std, m, n_ts2_subs\n",
    "        )\n",
    "        mp[i] = np.amin(dp)\n",
    "        ip[i] = np.argmin(dp)\n",
    "\n",
    "    return mp, ip"
   ]
  },
  {
   "cell_type": "code",
   "execution_count": 5,
   "id": "15a3abec-2f22-4e83-b155-fe64c02dab1c",
   "metadata": {},
   "outputs": [],
   "source": [
    "def mpdist(ts1: np.ndarray, ts2: np.ndarray, m: int = 0):\n",
    "    \"\"\"\n",
    "    Matrix profile distance.\n",
    "\n",
    "    Parameters\n",
    "    ----------\n",
    "        ts1: numpy.array\n",
    "            First time series.\n",
    "        ts2: numpy.array\n",
    "            Second time series.\n",
    "        m: int\n",
    "            Length of the subsequences.\n",
    "\n",
    "    Output\n",
    "    ------\n",
    "        mpdist: float\n",
    "            Distance between the two time series.\n",
    "    \"\"\"\n",
    "    if ts1.ndim == 2 and ts1.shape[0] > 1:\n",
    "        raise ValueError(\"ts1 must be a 1D array or shape (1,n)\")\n",
    "    if ts2.ndim == 2 and ts2.shape[0] > 1:\n",
    "        raise ValueError(\"ts2 must be a 1D array or shape (1,n)\")\n",
    "    ts1 = ts1.squeeze()\n",
    "    ts2 = ts2.squeeze()\n",
    "\n",
    "    len1 = len(ts1)\n",
    "    len2 = len(ts2)\n",
    "\n",
    "    if m == 0:\n",
    "        if len1 > len2:\n",
    "            m = int(len1 / 4)\n",
    "        else:\n",
    "            m = int(len2 / 4)\n",
    "    threshold = 0.05\n",
    "    mp_ab, ip_ab = _stomp_ab(ts1, ts2, m)  # compute the AB matrix profile\n",
    "    mp_ba, ip_ba = _stomp_ab(ts2, ts1, m)  # compute the BA matrix profile\n",
    "\n",
    "    join_mp = np.concatenate([mp_ab, mp_ba])\n",
    "\n",
    "    k = int(np.ceil(threshold * (len1 + len2)))\n",
    "\n",
    "    sorted_mp = np.sort(join_mp)  # sort the join matrix profile in ascending order\n",
    "\n",
    "    if len(sorted_mp) > k:\n",
    "        mpdist = sorted_mp[k]\n",
    "    else:\n",
    "        mpdist = sorted_mp[len(sorted_mp) - 1]\n",
    "\n",
    "    return mpdist"
   ]
  },
  {
   "cell_type": "markdown",
   "id": "dc88aa36-71e7-4bdc-84cf-4a2a8996ba22",
   "metadata": {},
   "source": [
    "## Analysing performance"
   ]
  },
  {
   "cell_type": "code",
   "execution_count": 6,
   "id": "da414464-5e56-405f-ac91-bcc9d1e8fb4c",
   "metadata": {},
   "outputs": [],
   "source": [
    "import time"
   ]
  },
  {
   "cell_type": "code",
   "execution_count": 12,
   "id": "6c343bdd-08f4-4c70-9837-cdcaeea34a9c",
   "metadata": {},
   "outputs": [],
   "source": [
    "x = np.array([1, 2, 3, 5, 9, 16, 23, 19, 13, 7])\n",
    "y = np.array([3, 7, 13, 19, 23, 31, 36, 40, 48, 55, 63])\n",
    "m = 3"
   ]
  },
  {
   "cell_type": "code",
   "execution_count": 13,
   "id": "338bee52-38a7-43ba-8c57-fb81ee07028f",
   "metadata": {},
   "outputs": [
    {
     "name": "stdout",
     "output_type": "stream",
     "text": [
      "4.470348358154297e-08\n",
      "Elapsed (with compilation) = 0.00649830000475049s\n"
     ]
    }
   ],
   "source": [
    "start = time.perf_counter()\n",
    "mp_dist = mpdist(x,y,m)\n",
    "print(mp_dist)\n",
    "end = time.perf_counter()\n",
    "print(\"Elapsed (with compilation) = {}s\".format((end - start)))"
   ]
  },
  {
   "cell_type": "code",
   "execution_count": 14,
   "id": "d4c66f5a-1f43-4079-95ed-4aa1949ab4f8",
   "metadata": {},
   "outputs": [
    {
     "name": "stdout",
     "output_type": "stream",
     "text": [
      "87.029\n",
      "Elapsed (with compilation) = 2.721064399986062s\n"
     ]
    }
   ],
   "source": [
    "from aeon.distances import twe_distance\n",
    "start = time.perf_counter()\n",
    "twe = twe_distance(x,y)\n",
    "print(twe)\n",
    "end = time.perf_counter()\n",
    "print(\"Elapsed (with compilation) = {}s\".format((end - start)))"
   ]
  },
  {
   "cell_type": "code",
   "execution_count": 16,
   "id": "fa8ad7a8-ae4a-4636-aca0-c686855bfa34",
   "metadata": {},
   "outputs": [
    {
     "name": "stdout",
     "output_type": "stream",
     "text": [
      "87.029\n",
      "Elapsed (with compilation) = 0.001046299992594868s\n"
     ]
    }
   ],
   "source": [
    "start = time.perf_counter()\n",
    "twe = twe_distance(x,y)\n",
    "print(twe)\n",
    "end = time.perf_counter()\n",
    "print(\"Elapsed (with compilation) = {}s\".format((end - start)))"
   ]
  },
  {
   "cell_type": "code",
   "execution_count": null,
   "id": "704dae99-7439-4739-b083-6e0944c05ad9",
   "metadata": {},
   "outputs": [],
   "source": []
  }
 ],
 "metadata": {
  "kernelspec": {
   "display_name": "Python 3 (ipykernel)",
   "language": "python",
   "name": "python3"
  },
  "language_info": {
   "codemirror_mode": {
    "name": "ipython",
    "version": 3
   },
   "file_extension": ".py",
   "mimetype": "text/x-python",
   "name": "python",
   "nbconvert_exporter": "python",
   "pygments_lexer": "ipython3",
   "version": "3.12.2"
  }
 },
 "nbformat": 4,
 "nbformat_minor": 5
}
