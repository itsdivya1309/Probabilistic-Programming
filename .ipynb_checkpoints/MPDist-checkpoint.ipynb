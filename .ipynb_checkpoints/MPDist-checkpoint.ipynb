{
 "cells": [
  {
   "cell_type": "code",
   "execution_count": 1,
   "id": "3f7f6d40-0d5e-46f4-abb3-03bff9c27403",
   "metadata": {},
   "outputs": [],
   "source": [
    "import numpy as np\n",
    "from aeon.distances import mpdist"
   ]
  },
  {
   "cell_type": "code",
   "execution_count": 19,
   "id": "f2eeb083-a333-4a23-8bf0-5af2129a9902",
   "metadata": {},
   "outputs": [
    {
     "name": "stdout",
     "output_type": "stream",
     "text": [
      "(1, 10)\n",
      "(10,)\n"
     ]
    }
   ],
   "source": [
    "y = np.array([[42, 23, 21, 55, 1, 19, 33, 34, 29, 19]])\n",
    "print(y.shape)\n",
    "if y.ndim == 2 and y.shape[0] > 1:\n",
    "    raise ValueError(\"y must be a 1D array or shape (1,n)\")\n",
    "y = y.squeeze()\n",
    "print(y.shape)"
   ]
  },
  {
   "cell_type": "code",
   "execution_count": 17,
   "id": "909dcb27-5a67-470e-801f-2d1c60586d4c",
   "metadata": {},
   "outputs": [
    {
     "data": {
      "text/plain": [
       "array([42, 23, 21, 55,  1, 19, 33, 34, 29, 19])"
      ]
     },
     "execution_count": 17,
     "metadata": {},
     "output_type": "execute_result"
    }
   ],
   "source": [
    "y"
   ]
  },
  {
   "cell_type": "code",
   "execution_count": 10,
   "id": "5995adae-dd3a-4e6f-8ff6-3399519b5172",
   "metadata": {},
   "outputs": [
    {
     "name": "stdout",
     "output_type": "stream",
     "text": [
      "(3, 4)\n"
     ]
    },
    {
     "ename": "ValueError",
     "evalue": "y must be a 1D array or shape (1,n)",
     "output_type": "error",
     "traceback": [
      "\u001b[1;31m---------------------------------------------------------------------------\u001b[0m",
      "\u001b[1;31mValueError\u001b[0m                                Traceback (most recent call last)",
      "Cell \u001b[1;32mIn[10], line 4\u001b[0m\n\u001b[0;32m      2\u001b[0m \u001b[38;5;28mprint\u001b[39m(y\u001b[38;5;241m.\u001b[39mshape)\n\u001b[0;32m      3\u001b[0m \u001b[38;5;28;01mif\u001b[39;00m y\u001b[38;5;241m.\u001b[39mndim \u001b[38;5;241m==\u001b[39m \u001b[38;5;241m2\u001b[39m \u001b[38;5;129;01mand\u001b[39;00m y\u001b[38;5;241m.\u001b[39mshape[\u001b[38;5;241m0\u001b[39m] \u001b[38;5;241m>\u001b[39m \u001b[38;5;241m1\u001b[39m:\n\u001b[1;32m----> 4\u001b[0m     \u001b[38;5;28;01mraise\u001b[39;00m \u001b[38;5;167;01mValueError\u001b[39;00m(\u001b[38;5;124m\"\u001b[39m\u001b[38;5;124my must be a 1D array or shape (1,n)\u001b[39m\u001b[38;5;124m\"\u001b[39m)\n",
      "\u001b[1;31mValueError\u001b[0m: y must be a 1D array or shape (1,n)"
     ]
    }
   ],
   "source": [
    "y = np.array([[11, 12, 13, 14],[7, 8, 9, 20],[1, 3, 4, 5]])\n",
    "print(y.shape)\n",
    "if y.ndim == 2 and y.shape[0] > 1:\n",
    "    raise ValueError(\"y must be a 1D array or shape (1,n)\")"
   ]
  },
  {
   "cell_type": "code",
   "execution_count": 14,
   "id": "05244d0a-2135-4629-bd98-bbb8e2592f7d",
   "metadata": {},
   "outputs": [
    {
     "name": "stdout",
     "output_type": "stream",
     "text": [
      "(10,)\n",
      "(10,)\n"
     ]
    }
   ],
   "source": [
    "y = np.array([11, 12, 13, 14, 15, 16, 17, 18, 19, 20])\n",
    "print(y.shape)\n",
    "if y.ndim == 2 and y.shape[0] > 1:\n",
    "    raise ValueError(\"y must be a 1D array or shape (1,n)\")\n",
    "y = y.squeeze()\n",
    "print(y.shape)"
   ]
  },
  {
   "cell_type": "code",
   "execution_count": 15,
   "id": "858e9fa1-c904-4201-a428-43206e9a55c8",
   "metadata": {},
   "outputs": [
    {
     "data": {
      "text/plain": [
       "array([11, 12, 13, 14, 15, 16, 17, 18, 19, 20])"
      ]
     },
     "execution_count": 15,
     "metadata": {},
     "output_type": "execute_result"
    }
   ],
   "source": [
    "y"
   ]
  },
  {
   "cell_type": "code",
   "execution_count": 20,
   "id": "9f191361-6ce4-4e2b-9033-f43ccdb078d8",
   "metadata": {},
   "outputs": [],
   "source": [
    "y = np.array([11, 12, 13, 14, 15, 16, 17, 18, 19, 20])"
   ]
  },
  {
   "cell_type": "code",
   "execution_count": 22,
   "id": "dec27ac4-ef21-47fa-9407-89f1582eccb7",
   "metadata": {},
   "outputs": [
    {
     "data": {
      "text/plain": [
       "(1, 10)"
      ]
     },
     "execution_count": 22,
     "metadata": {},
     "output_type": "execute_result"
    }
   ],
   "source": [
    "if y.ndim == 1:\n",
    "    _y = y.reshape((1, y.shape[0]))\n",
    "_y.shape"
   ]
  },
  {
   "cell_type": "code",
   "execution_count": 2,
   "id": "a4cb1a37-c86a-4058-845d-3bb0d2e031f1",
   "metadata": {},
   "outputs": [],
   "source": [
    "x = np.array([1,2,3,5,9])\n",
    "y = np.array([3,7,13,19])\n",
    "m = 2"
   ]
  },
  {
   "cell_type": "code",
   "execution_count": 25,
   "id": "2706ac65-cef7-48d7-bf7e-5be68475d85e",
   "metadata": {},
   "outputs": [
    {
     "data": {
      "text/plain": [
       "5"
      ]
     },
     "execution_count": 25,
     "metadata": {},
     "output_type": "execute_result"
    }
   ],
   "source": [
    "len(x)"
   ]
  },
  {
   "cell_type": "code",
   "execution_count": 3,
   "id": "1f978148-68f4-486b-ae3a-3a724239039c",
   "metadata": {},
   "outputs": [],
   "source": [
    "n_x_subs = len(x) - m + 1\n",
    "n_y_subs = len(y) - m + 1"
   ]
  },
  {
   "cell_type": "code",
   "execution_count": 27,
   "id": "99a3da79-578a-4772-806f-3583f8028794",
   "metadata": {},
   "outputs": [
    {
     "data": {
      "text/plain": [
       "[1.5, 2.5, 4.0, 7.0]"
      ]
     },
     "execution_count": 27,
     "metadata": {},
     "output_type": "execute_result"
    }
   ],
   "source": [
    "x_mean = [np.mean(x[i : i + m]) for i in range(0, n_x_subs)]\n",
    "x_mean"
   ]
  },
  {
   "cell_type": "code",
   "execution_count": 4,
   "id": "b8a1dac5-087a-4ed0-a3da-ed31377343c6",
   "metadata": {},
   "outputs": [],
   "source": [
    "# Compute the mean and standard deviation\n",
    "x_mean = [np.mean(x[i : i + m]) for i in range(0, n_x_subs)]\n",
    "x_std = [np.std(x[i : i + m]) for i in range(0, n_x_subs)]\n",
    "\n",
    "y_mean = [np.mean(y[i : i + m]) for i in range(0, n_y_subs)]\n",
    "y_std = [np.std(y[i : i + m]) for i in range(0, n_y_subs)]"
   ]
  },
  {
   "cell_type": "code",
   "execution_count": 5,
   "id": "a0fb83f7-d4f2-4a2d-8bb0-60c15a9fcd58",
   "metadata": {},
   "outputs": [
    {
     "name": "stdout",
     "output_type": "stream",
     "text": [
      "[1.5, 2.5, 4.0, 7.0]\n",
      "[0.5, 0.5, 1.0, 2.0]\n",
      "[5.0, 10.0, 16.0]\n",
      "[2.0, 3.0, 3.0]\n"
     ]
    }
   ],
   "source": [
    "print(x_mean)\n",
    "print(x_std)\n",
    "print(y_mean)\n",
    "print(y_std)"
   ]
  },
  {
   "cell_type": "code",
   "execution_count": 6,
   "id": "ca84a6e4-2b7c-4935-9f2c-81d6ef51ddde",
   "metadata": {},
   "outputs": [
    {
     "data": {
      "text/plain": [
       "list"
      ]
     },
     "execution_count": 6,
     "metadata": {},
     "output_type": "execute_result"
    }
   ],
   "source": [
    "type(x_mean)"
   ]
  },
  {
   "cell_type": "code",
   "execution_count": 7,
   "id": "9cc0b0d2-b9ee-42e9-9779-833800b74e65",
   "metadata": {},
   "outputs": [],
   "source": [
    "x_mean = []\n",
    "x_std = []\n",
    "y_mean = []\n",
    "y_std = []\n",
    "\n",
    "for i in range(0, n_x_subs):\n",
    "    x_subset = x[i:i+m]\n",
    "    y_subset = y[i:i+m]\n",
    "    \n",
    "    x_mean.append(np.mean(x_subset))\n",
    "    x_std.append(np.std(x_subset))\n",
    "    \n",
    "    y_mean.append(np.mean(y_subset))\n",
    "    y_std.append(np.std(y_subset))"
   ]
  },
  {
   "cell_type": "code",
   "execution_count": 8,
   "id": "17fe15da-dff9-4886-a0cf-4a3946607b31",
   "metadata": {},
   "outputs": [
    {
     "data": {
      "text/plain": [
       "[1.5, 2.5, 4.0, 7.0]"
      ]
     },
     "execution_count": 8,
     "metadata": {},
     "output_type": "execute_result"
    }
   ],
   "source": [
    "x_mean"
   ]
  },
  {
   "cell_type": "code",
   "execution_count": 9,
   "id": "7ca74b25-8d0a-4409-9cfc-2cfc18b1b658",
   "metadata": {},
   "outputs": [
    {
     "data": {
      "text/plain": [
       "array([5, 9])"
      ]
     },
     "execution_count": 9,
     "metadata": {},
     "output_type": "execute_result"
    }
   ],
   "source": [
    "x_subset"
   ]
  },
  {
   "cell_type": "code",
   "execution_count": 10,
   "id": "0f3b6887-adaf-4127-a348-5660e090befb",
   "metadata": {},
   "outputs": [
    {
     "data": {
      "text/plain": [
       "array([1, 2, 3, 5, 9])"
      ]
     },
     "execution_count": 10,
     "metadata": {},
     "output_type": "execute_result"
    }
   ],
   "source": [
    "t = x\n",
    "t"
   ]
  },
  {
   "cell_type": "code",
   "execution_count": 15,
   "id": "e6ba9231-5b32-4cf6-946e-b8cda03b9948",
   "metadata": {},
   "outputs": [
    {
     "data": {
      "text/plain": [
       "array([1, 2, 3, 5, 9, 0, 0, 0, 0, 0])"
      ]
     },
     "execution_count": 15,
     "metadata": {},
     "output_type": "execute_result"
    }
   ],
   "source": [
    "t_padded = np.pad(t, (0,len(t)))\n",
    "t_padded"
   ]
  },
  {
   "cell_type": "code",
   "execution_count": 16,
   "id": "4b53afc4-7c28-400f-99b7-e125f1935429",
   "metadata": {},
   "outputs": [
    {
     "data": {
      "text/plain": [
       "array([3, 7])"
      ]
     },
     "execution_count": 16,
     "metadata": {},
     "output_type": "execute_result"
    }
   ],
   "source": [
    "q = y[0:m]\n",
    "q"
   ]
  },
  {
   "cell_type": "code",
   "execution_count": 17,
   "id": "92388c64-1884-49fe-8573-ab9868f86402",
   "metadata": {},
   "outputs": [
    {
     "data": {
      "text/plain": [
       "array([7, 3])"
      ]
     },
     "execution_count": 17,
     "metadata": {},
     "output_type": "execute_result"
    }
   ],
   "source": [
    "q_reversed = np.flipud(q)\n",
    "q_reversed"
   ]
  },
  {
   "cell_type": "code",
   "execution_count": 19,
   "id": "6e635f45-c0e0-48ec-ae1c-3f474bf45d9a",
   "metadata": {},
   "outputs": [
    {
     "data": {
      "text/plain": [
       "array([[0, 1, 2, 3],\n",
       "       [4, 5, 6, 7]])"
      ]
     },
     "execution_count": 19,
     "metadata": {},
     "output_type": "execute_result"
    }
   ],
   "source": [
    "a = np.arange(8).reshape((2,4))\n",
    "a"
   ]
  },
  {
   "cell_type": "code",
   "execution_count": 20,
   "id": "3e846cf3-f606-4d99-9cd6-a5337b8dd382",
   "metadata": {},
   "outputs": [
    {
     "data": {
      "text/plain": [
       "array([[4, 5, 6, 7],\n",
       "       [0, 1, 2, 3]])"
      ]
     },
     "execution_count": 20,
     "metadata": {},
     "output_type": "execute_result"
    }
   ],
   "source": [
    "a_flipped = np.flipud(a)\n",
    "a_flipped"
   ]
  },
  {
   "cell_type": "code",
   "execution_count": 29,
   "id": "5b96484f-3f46-4f76-bad4-9c6d5e4e4584",
   "metadata": {},
   "outputs": [],
   "source": [
    "def _sliding_dot_products(q, t):\n",
    "    \"\"\"\n",
    "    Compute the sliding dot products between a query and a time series.\n",
    "\n",
    "    Parameters\n",
    "    ----------\n",
    "        q: numpy.array\n",
    "            Query.\n",
    "        t: numpy.array\n",
    "            Time series.\n",
    "\n",
    "    Output\n",
    "    ------\n",
    "        dot_prod: numpy.array\n",
    "            Sliding dot products between q and t.\n",
    "    \"\"\"\n",
    "    q_len = len(q)\n",
    "    t_len = len(t)\n",
    "\n",
    "    # Reversing query and padding both query and time series\n",
    "    t_padded = np.pad(t, (0, t_len))\n",
    "    q_reversed = np.flipud(q)\n",
    "    q_reversed_padded = np.pad(q_reversed, (0, 2 * t_len - q_len))\n",
    "    \n",
    "    # Applying FFT to both query and time series\n",
    "    t_fft = np.fft.fft(t_padded)\n",
    "    q_fft = np.fft.fft(q_reversed_padded)  # Flip the query and FFT it\n",
    "\n",
    "    # Applying inverse FFT to obtain the convolution of the time series by\n",
    "    # the query\n",
    "    element_wise_mult = np.multiply(t_fft, q_fft)\n",
    "    inverse_fft = np.fft.ifft(element_wise_mult)\n",
    "\n",
    "    # Returns only the valid dot products from inverse_fft\n",
    "    dot_prod = inverse_fft[q_len - 1 : t_len].real\n",
    "\n",
    "    return dot_prod"
   ]
  },
  {
   "cell_type": "code",
   "execution_count": 30,
   "id": "11cb5abe-4734-409f-87ec-c7bc2416abf3",
   "metadata": {},
   "outputs": [],
   "source": [
    "prod = _sliding_dot_products(q,t)"
   ]
  },
  {
   "cell_type": "code",
   "execution_count": 31,
   "id": "ae6df81a-c3ec-4e5c-b1ec-804a12a90aa1",
   "metadata": {},
   "outputs": [
    {
     "data": {
      "text/plain": [
       "array([17., 27., 44., 78.])"
      ]
     },
     "execution_count": 31,
     "metadata": {},
     "output_type": "execute_result"
    }
   ],
   "source": [
    "prod"
   ]
  },
  {
   "cell_type": "code",
   "execution_count": null,
   "id": "89ea55e4-68e3-4aad-96b5-cb77023bb8be",
   "metadata": {},
   "outputs": [],
   "source": []
  }
 ],
 "metadata": {
  "kernelspec": {
   "display_name": "Python 3 (ipykernel)",
   "language": "python",
   "name": "python3"
  },
  "language_info": {
   "codemirror_mode": {
    "name": "ipython",
    "version": 3
   },
   "file_extension": ".py",
   "mimetype": "text/x-python",
   "name": "python",
   "nbconvert_exporter": "python",
   "pygments_lexer": "ipython3",
   "version": "3.12.2"
  }
 },
 "nbformat": 4,
 "nbformat_minor": 5
}
