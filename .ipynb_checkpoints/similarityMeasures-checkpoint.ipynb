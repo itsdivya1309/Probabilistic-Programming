{
 "cells": [
  {
   "cell_type": "code",
   "execution_count": 1,
   "id": "5965a97e-84b8-441e-9675-af915295d7c6",
   "metadata": {},
   "outputs": [
    {
     "name": "stderr",
     "output_type": "stream",
     "text": [
      "C:\\Users\\Divya Tiwari\\anaconda3\\envs\\aeon-dev\\Lib\\site-packages\\dask\\dataframe\\_pyarrow_compat.py:23: UserWarning: You are using pyarrow version 11.0.0 which is known to be insecure. See https://www.cve.org/CVERecord?id=CVE-2023-47248 for further details. Please upgrade to pyarrow>=14.0.1 or install pyarrow-hotfix to patch your current version.\n",
      "  warnings.warn(\n"
     ]
    }
   ],
   "source": [
    "from aeon.datasets import load_italy_power_demand\n",
    "from aeon.distances import dtw_distance, adtw_distance"
   ]
  },
  {
   "cell_type": "code",
   "execution_count": 2,
   "id": "438385d9-c69a-47c8-8051-e008d9c7ed06",
   "metadata": {},
   "outputs": [
    {
     "data": {
      "text/plain": [
       "(67, 1, 24)"
      ]
     },
     "execution_count": 2,
     "metadata": {},
     "output_type": "execute_result"
    }
   ],
   "source": [
    "X, y = load_italy_power_demand(split='TRAIN')\n",
    "X.shape"
   ]
  },
  {
   "cell_type": "code",
   "execution_count": 3,
   "id": "dd28b1fa-0fc4-4517-9205-0c637f316a69",
   "metadata": {},
   "outputs": [
    {
     "data": {
      "text/plain": [
       "(67,)"
      ]
     },
     "execution_count": 3,
     "metadata": {},
     "output_type": "execute_result"
    }
   ],
   "source": [
    "y.shape"
   ]
  },
  {
   "cell_type": "code",
   "execution_count": 4,
   "id": "987c6078-160c-48c8-ba2f-c43a0cde7805",
   "metadata": {},
   "outputs": [],
   "source": [
    "ts_1 = X[0]\n",
    "ts_2 = X[1]"
   ]
  },
  {
   "cell_type": "code",
   "execution_count": 8,
   "id": "b88557c4-0cd9-4cb7-b0f3-75e2cbf7e9da",
   "metadata": {},
   "outputs": [
    {
     "data": {
      "text/plain": [
       "array([[-0.99300935, -1.4267865 , -1.5798843 , -1.6054006 , -1.6309169 ,\n",
       "        -1.3757539 , -1.0185257 , -0.35510183,  0.71658276,  1.2013925 ,\n",
       "         1.1248436 ,  1.0482947 ,  0.79313166,  0.46141977,  0.48693607,\n",
       "         0.56348497,  0.61451757,  0.30832197,  0.25728936,  1.0993273 ,\n",
       "         1.0482947 ,  0.69106647, -0.04890624, -0.38061813]])"
      ]
     },
     "execution_count": 8,
     "metadata": {},
     "output_type": "execute_result"
    }
   ],
   "source": [
    "ts_2"
   ]
  },
  {
   "cell_type": "code",
   "execution_count": 9,
   "id": "39768257-a52e-4d0a-8115-2c196d86d53f",
   "metadata": {},
   "outputs": [
    {
     "data": {
      "text/plain": [
       "2.2562779371935555"
      ]
     },
     "execution_count": 9,
     "metadata": {},
     "output_type": "execute_result"
    }
   ],
   "source": [
    "dtw_distance(ts_1, ts_2)"
   ]
  },
  {
   "cell_type": "code",
   "execution_count": 13,
   "id": "da3e3ee5-cb39-4e6c-9de7-f8e41845796a",
   "metadata": {},
   "outputs": [
    {
     "data": {
      "text/plain": [
       "3.90502115692546"
      ]
     },
     "execution_count": 13,
     "metadata": {},
     "output_type": "execute_result"
    }
   ],
   "source": [
    "adtw_distance(ts_1, ts_2, warp_penalty=0.2)"
   ]
  },
  {
   "cell_type": "code",
   "execution_count": 16,
   "id": "90734bd2-ebbe-454e-ade5-237e71cb8723",
   "metadata": {},
   "outputs": [
    {
     "data": {
      "text/plain": [
       "31.622776601683793"
      ]
     },
     "execution_count": 16,
     "metadata": {},
     "output_type": "execute_result"
    }
   ],
   "source": [
    "import numpy as np\n",
    "from aeon.distances import euclidean_distance, euclidean_pairwise_distance\n",
    "x = np.array([[1, 2, 3, 4, 5, 6, 7, 8, 9, 10]])\n",
    "y = np.array([[11, 12, 13, 14, 15, 16, 17, 18, 19, 20]])\n",
    "euclidean_distance(x, y)"
   ]
  },
  {
   "cell_type": "code",
   "execution_count": 15,
   "id": "73675053-db6d-42b4-b6b4-9d7e7ac1dc34",
   "metadata": {},
   "outputs": [
    {
     "data": {
      "text/plain": [
       "31.622776601683793"
      ]
     },
     "execution_count": 15,
     "metadata": {},
     "output_type": "execute_result"
    }
   ],
   "source": [
    "z = y[:10]\n",
    "euclidean_distance(x,z)"
   ]
  },
  {
   "cell_type": "code",
   "execution_count": 17,
   "id": "22aa831f-fde1-4406-b88b-7b746b823983",
   "metadata": {},
   "outputs": [
    {
     "data": {
      "text/plain": [
       "array([[31.6227766]])"
      ]
     },
     "execution_count": 17,
     "metadata": {},
     "output_type": "execute_result"
    }
   ],
   "source": [
    "euclidean_pairwise_distance(x,z)"
   ]
  },
  {
   "cell_type": "code",
   "execution_count": 24,
   "id": "a30bfb9a-1e2d-4ebb-89b5-39168a19555a",
   "metadata": {},
   "outputs": [
    {
     "data": {
      "text/plain": [
       "781.4599999999998"
      ]
     },
     "execution_count": 24,
     "metadata": {},
     "output_type": "execute_result"
    }
   ],
   "source": [
    "adtw_distance(x,y,warp_penalty=0.89)"
   ]
  },
  {
   "cell_type": "code",
   "execution_count": 22,
   "id": "c8b0a516-5064-46b7-aed1-e8abd7237276",
   "metadata": {},
   "outputs": [
    {
     "data": {
      "text/plain": [
       "768.0"
      ]
     },
     "execution_count": 22,
     "metadata": {},
     "output_type": "execute_result"
    }
   ],
   "source": [
    "dtw_distance(x,y)"
   ]
  },
  {
   "cell_type": "code",
   "execution_count": null,
   "id": "c902a995-9554-44b7-9121-c5165f6c78ba",
   "metadata": {},
   "outputs": [],
   "source": []
  }
 ],
 "metadata": {
  "kernelspec": {
   "display_name": "Python 3 (ipykernel)",
   "language": "python",
   "name": "python3"
  },
  "language_info": {
   "codemirror_mode": {
    "name": "ipython",
    "version": 3
   },
   "file_extension": ".py",
   "mimetype": "text/x-python",
   "name": "python",
   "nbconvert_exporter": "python",
   "pygments_lexer": "ipython3",
   "version": "3.11.7"
  }
 },
 "nbformat": 4,
 "nbformat_minor": 5
}
