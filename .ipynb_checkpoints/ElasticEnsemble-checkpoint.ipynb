{
 "cells": [
  {
   "cell_type": "code",
   "execution_count": 1,
   "id": "9e7f9b4b-caed-4640-a80b-a44ffea7d12a",
   "metadata": {},
   "outputs": [
    {
     "name": "stderr",
     "output_type": "stream",
     "text": [
      "C:\\Users\\Divya Tiwari\\anaconda3\\envs\\aeon-dev\\Lib\\site-packages\\dask\\dataframe\\_pyarrow_compat.py:23: UserWarning: You are using pyarrow version 11.0.0 which is known to be insecure. See https://www.cve.org/CVERecord?id=CVE-2023-47248 for further details. Please upgrade to pyarrow>=14.0.1 or install pyarrow-hotfix to patch your current version.\n",
      "  warnings.warn(\n"
     ]
    }
   ],
   "source": [
    "from aeon.classification.distance_based import ElasticEnsemble, KNeighborsTimeSeriesClassifier\n",
    "from aeon.datasets import load_italy_power_demand\n",
    "from sklearn.metrics import accuracy_score\n",
    "import numpy as np\n",
    "import warnings\n",
    "warnings.filterwarnings('ignore')"
   ]
  },
  {
   "cell_type": "code",
   "execution_count": 2,
   "id": "5f107023-9999-44a2-a3b1-ae180fccccd5",
   "metadata": {},
   "outputs": [
    {
     "data": {
      "text/plain": [
       "(67, 1, 24)"
      ]
     },
     "execution_count": 2,
     "metadata": {},
     "output_type": "execute_result"
    }
   ],
   "source": [
    "X, y = load_italy_power_demand(split=\"TRAIN\")\n",
    "X.shape"
   ]
  },
  {
   "cell_type": "code",
   "execution_count": 3,
   "id": "58722aaa-4ac4-480f-87e8-2d30ea4a976f",
   "metadata": {},
   "outputs": [],
   "source": [
    "X_test, y_test = load_italy_power_demand(split=\"TEST\")"
   ]
  },
  {
   "cell_type": "code",
   "execution_count": 4,
   "id": "9d4ad07d-5dae-4ab8-8ffa-95ac8626639b",
   "metadata": {},
   "outputs": [],
   "source": [
    "k_clf = KNeighborsTimeSeriesClassifier(distance=\"euclidean\")"
   ]
  },
  {
   "cell_type": "code",
   "execution_count": 5,
   "id": "66ce6621-cb07-4495-8565-940a1f1e98f3",
   "metadata": {},
   "outputs": [
    {
     "name": "stdout",
     "output_type": "stream",
     "text": [
      "0.9552964042759962\n"
     ]
    }
   ],
   "source": [
    "k_clf.fit(X,y)\n",
    "y_pred = k_clf.predict(X_test)\n",
    "print(accuracy_score(y_pred, y_test))"
   ]
  },
  {
   "cell_type": "code",
   "execution_count": 6,
   "id": "8571d05d-05d4-4338-ae37-29ecb39f638b",
   "metadata": {},
   "outputs": [],
   "source": [
    "k_clf1 = KNeighborsTimeSeriesClassifier(distance=\"twe\", distance_params={'window':0.25,'nu':0.05,'lmbda':1.5})"
   ]
  },
  {
   "cell_type": "code",
   "execution_count": 7,
   "id": "919de7ce-fe95-4eed-ac7d-af4e8203a595",
   "metadata": {},
   "outputs": [
    {
     "name": "stdout",
     "output_type": "stream",
     "text": [
      "0.9620991253644315\n"
     ]
    }
   ],
   "source": [
    "k_clf1.fit(X,y)\n",
    "y_pred1 = k_clf1.predict(X_test)\n",
    "print(accuracy_score(y_pred1, y_test))"
   ]
  },
  {
   "cell_type": "code",
   "execution_count": 8,
   "id": "a8a4c652-0cf2-42d6-a453-5056d80d29c1",
   "metadata": {},
   "outputs": [
    {
     "name": "stdout",
     "output_type": "stream",
     "text": [
      "0.9552964042759962\n"
     ]
    }
   ],
   "source": [
    "ee1 = ElasticEnsemble(distance_measures=[\"dtw\"])\n",
    "ee1.fit(X,y)\n",
    "y_pred1 = ee1.predict(X_test)\n",
    "print(accuracy_score(y_pred1, y_test))"
   ]
  },
  {
   "cell_type": "code",
   "execution_count": 9,
   "id": "c1a7b350-c22d-4431-ac23-9fbde297575c",
   "metadata": {},
   "outputs": [
    {
     "name": "stdout",
     "output_type": "stream",
     "text": [
      "0.9504373177842566\n"
     ]
    }
   ],
   "source": [
    "ee2 = ElasticEnsemble(distance_measures=[\"wdtw\"])\n",
    "ee2.fit(X,y)\n",
    "y_pred2 = ee2.predict(X_test)\n",
    "print(accuracy_score(y_pred2, y_test))"
   ]
  },
  {
   "cell_type": "code",
   "execution_count": 10,
   "id": "f19a9584-dd89-4ef2-8596-ca2a81b6a74c",
   "metadata": {},
   "outputs": [
    {
     "name": "stdout",
     "output_type": "stream",
     "text": [
      "0.9727891156462585\n"
     ]
    }
   ],
   "source": [
    "ee3 = ElasticEnsemble(distance_measures=[\"ddtw\"])\n",
    "ee3.fit(X,y)\n",
    "y_pred3 = ee3.predict(X_test)\n",
    "print(accuracy_score(y_pred3, y_test))"
   ]
  },
  {
   "cell_type": "code",
   "execution_count": 11,
   "id": "03e2cd6b-c33b-4470-9f2a-2fd2bae67213",
   "metadata": {},
   "outputs": [
    {
     "name": "stdout",
     "output_type": "stream",
     "text": [
      "0.9407191448007775\n"
     ]
    }
   ],
   "source": [
    "ee4 = ElasticEnsemble(distance_measures=[\"wddtw\"])\n",
    "ee4.fit(X,y)\n",
    "y_pred4 = ee4.predict(X_test)\n",
    "print(accuracy_score(y_pred4, y_test))"
   ]
  },
  {
   "cell_type": "code",
   "execution_count": 12,
   "id": "379df867-e78b-45eb-9b14-9f71586c6a1f",
   "metadata": {},
   "outputs": [
    {
     "name": "stdout",
     "output_type": "stream",
     "text": [
      "0.924198250728863\n"
     ]
    }
   ],
   "source": [
    "ee5 = ElasticEnsemble(distance_measures=[\"lcss\"])\n",
    "ee5.fit(X,y)\n",
    "y_pred5 = ee5.predict(X_test)\n",
    "print(accuracy_score(y_pred5, y_test))"
   ]
  },
  {
   "cell_type": "code",
   "execution_count": 13,
   "id": "63e57792-a8aa-42b3-9c40-0b3708b3010f",
   "metadata": {},
   "outputs": [
    {
     "name": "stdout",
     "output_type": "stream",
     "text": [
      "0.7978620019436345\n"
     ]
    }
   ],
   "source": [
    "ee6 = ElasticEnsemble(distance_measures=[\"erp\"])\n",
    "ee6.fit(X,y)\n",
    "y_pred6= ee6.predict(X_test)\n",
    "print(accuracy_score(y_pred6, y_test))"
   ]
  },
  {
   "cell_type": "code",
   "execution_count": 14,
   "id": "9f48ce7c-08bd-4bd8-a158-fc7e369237d5",
   "metadata": {},
   "outputs": [
    {
     "name": "stdout",
     "output_type": "stream",
     "text": [
      "0.9436345966958212\n"
     ]
    }
   ],
   "source": [
    "ee7 = ElasticEnsemble(distance_measures=[\"msm\"])\n",
    "ee7.fit(X,y)\n",
    "y_pred7 = ee7.predict(X_test)\n",
    "print(accuracy_score(y_pred7, y_test))"
   ]
  },
  {
   "cell_type": "code",
   "execution_count": 15,
   "id": "55c65729-4e3f-4a95-b77a-0d06321cfcdd",
   "metadata": {},
   "outputs": [
    {
     "name": "stdout",
     "output_type": "stream",
     "text": [
      "0.9582118561710399\n"
     ]
    }
   ],
   "source": [
    "ee8 = ElasticEnsemble(distance_measures=[\"twe\"])\n",
    "ee8.fit(X,y)\n",
    "y_pred8 = ee8.predict(X_test)\n",
    "print(accuracy_score(y_pred8, y_test))"
   ]
  },
  {
   "cell_type": "code",
   "execution_count": 16,
   "id": "f356b2bb-acd6-4b20-b4d7-a6018832be8c",
   "metadata": {},
   "outputs": [
    {
     "name": "stdout",
     "output_type": "stream",
     "text": [
      "0.9552964042759962\n"
     ]
    }
   ],
   "source": [
    "ee9 = ElasticEnsemble(distance_measures=[\"euclidean\"])\n",
    "ee9.fit(X,y)\n",
    "y_pred9 = ee9.predict(X_test)\n",
    "print(accuracy_score(y_pred9, y_test))"
   ]
  },
  {
   "cell_type": "code",
   "execution_count": 17,
   "id": "4ab2dd6f-a76f-4e21-a27b-2c3a3a2baa91",
   "metadata": {},
   "outputs": [
    {
     "name": "stdout",
     "output_type": "stream",
     "text": [
      "0.9611273080660836\n"
     ]
    }
   ],
   "source": [
    "ee = ElasticEnsemble(distance_measures=\"all\")\n",
    "ee.fit(X,y)\n",
    "y_pred = ee.predict(X_test)\n",
    "print(accuracy_score(y_pred, y_test))"
   ]
  }
 ],
 "metadata": {
  "kernelspec": {
   "display_name": "Python 3 (ipykernel)",
   "language": "python",
   "name": "python3"
  },
  "language_info": {
   "codemirror_mode": {
    "name": "ipython",
    "version": 3
   },
   "file_extension": ".py",
   "mimetype": "text/x-python",
   "name": "python",
   "nbconvert_exporter": "python",
   "pygments_lexer": "ipython3",
   "version": "3.11.7"
  }
 },
 "nbformat": 4,
 "nbformat_minor": 5
}
