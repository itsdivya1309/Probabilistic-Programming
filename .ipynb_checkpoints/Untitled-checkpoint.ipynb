{
 "cells": [
  {
   "cell_type": "code",
   "execution_count": 3,
   "id": "cbd674da-a0b9-4166-b907-509dce256ff8",
   "metadata": {},
   "outputs": [
    {
     "data": {
      "text/plain": [
       "[('MrSQMClassifier',\n",
       "  aeon.classification.shapelet_based._mrsqm.MrSQMClassifier),\n",
       " ('RDSTClassifier', aeon.classification.shapelet_based._rdst.RDSTClassifier),\n",
       " ('ShapeletTransformClassifier',\n",
       "  aeon.classification.shapelet_based._stc.ShapeletTransformClassifier)]"
      ]
     },
     "execution_count": 3,
     "metadata": {},
     "output_type": "execute_result"
    }
   ],
   "source": [
    "import warnings\n",
    "\n",
    "from sklearn.ensemble import RandomForestClassifier\n",
    "from sklearn.metrics import accuracy_score\n",
    "\n",
    "from aeon.datasets import load_italy_power_demand\n",
    "from aeon.registry import all_estimators\n",
    "from aeon.transformations.collection.shapelet_based import RandomShapeletTransform\n",
    "\n",
    "warnings.filterwarnings(\"ignore\")\n",
    "all_estimators(\"classifier\", filter_tags={\"algorithm_type\": \"shapelet\"})"
   ]
  },
  {
   "cell_type": "code",
   "execution_count": 4,
   "id": "48cb926a-a3be-4150-8b2f-5326b8b65262",
   "metadata": {},
   "outputs": [],
   "source": [
    "X,y = load_italy_power_demand(split='train', return_type='numpy2d')"
   ]
  },
  {
   "cell_type": "code",
   "execution_count": 12,
   "id": "3b893909-bf21-4468-a8e4-bbfcde34a2a2",
   "metadata": {},
   "outputs": [
    {
     "data": {
      "text/plain": [
       "array([[-0.71051757, -1.1833204 , -1.3724416 , ...,  0.58181015,\n",
       "         0.1720477 , -0.26923494],\n",
       "       [-0.99300935, -1.4267865 , -1.5798843 , ...,  0.69106647,\n",
       "        -0.04890624, -0.38061813],\n",
       "       [ 1.3190669 ,  0.56977448,  0.19512825, ...,  2.3493441 ,\n",
       "         2.2556825 ,  1.6000516 ],\n",
       "       ...,\n",
       "       [-1.159152  , -1.3014    , -1.5249326 , ...,  0.46653962,\n",
       "        -0.12277359, -0.65112336],\n",
       "       [-0.6949193 , -1.2358295 , -1.4161329 , ...,  0.65735611,\n",
       "         0.20659763, -0.19908499],\n",
       "       [ 0.98403309,  0.16966088, -0.51942331, ...,  2.4248455 ,\n",
       "         1.9236934 ,  1.1719652 ]])"
      ]
     },
     "execution_count": 12,
     "metadata": {},
     "output_type": "execute_result"
    }
   ],
   "source": [
    "X"
   ]
  },
  {
   "cell_type": "code",
   "execution_count": 13,
   "id": "15bdb18a-ad41-49e8-983c-05e43a25e14f",
   "metadata": {},
   "outputs": [
    {
     "data": {
      "text/plain": [
       "(67, 24)"
      ]
     },
     "execution_count": 13,
     "metadata": {},
     "output_type": "execute_result"
    }
   ],
   "source": [
    "X.shape"
   ]
  },
  {
   "cell_type": "code",
   "execution_count": 14,
   "id": "23262b11-6369-4102-abda-c8b6bee9e475",
   "metadata": {},
   "outputs": [],
   "source": [
    "rst = RandomShapeletTransform(n_shapelet_samples=100, max_shapelets=10, random_state=42)\n",
    "st = rst.fit_transform(X, y)\n",
    "print(\" Shape of transformed data = \", st.shape)\n",
    "print(\" Distance of second series to third shapelet = \", st[1][2])\n",
    "testX, testy = load_italy_power_demand(split=\"test\")\n",
    "tr_test = rst.transform(testX)\n",
    "rf = RandomForestClassifier(random_state=10)\n",
    "rf.fit(st, y)\n",
    "preds = rf.predict(tr_test)\n",
    "print(\" Shapelets + random forest acc = \", accuracy_score(preds, testy))"
   ]
  },
  {
   "cell_type": "code",
   "execution_count": 15,
   "id": "8cef2eb9-6e59-4abc-a7ec-942cf5c20681",
   "metadata": {},
   "outputs": [
    {
     "data": {
      "text/plain": [
       "(67,)"
      ]
     },
     "execution_count": 15,
     "metadata": {},
     "output_type": "execute_result"
    }
   ],
   "source": [
    "y.shape"
   ]
  },
  {
   "cell_type": "code",
   "execution_count": 16,
   "id": "73e2604e-2a04-4d77-9ff9-9d998d5d0e41",
   "metadata": {},
   "outputs": [],
   "source": [
    "running_shapelet = rst.shapelets[0]\n",
    "print(\"Quality = \", running_shapelet[0])\n",
    "print(\"Length = \", running_shapelet[1])\n",
    "print(\"position = \", running_shapelet[2])\n",
    "print(\"Channel = \", running_shapelet[3])\n",
    "print(\"Origin Instance Index = \", running_shapelet[4])\n",
    "print(\"Class label = \", running_shapelet[5])\n",
    "print(\"Shapelet = \", running_shapelet[6])"
   ]
  },
  {
   "cell_type": "code",
   "execution_count": 17,
   "id": "806bf9f1-9d28-4f87-9b1f-8c15da92dd4f",
   "metadata": {},
   "outputs": [],
   "source": [
    "print('Hello')"
   ]
  },
  {
   "cell_type": "code",
   "execution_count": null,
   "id": "8b214bfa-a5b7-4c55-bbf2-7273fd0d3020",
   "metadata": {},
   "outputs": [],
   "source": []
  }
 ],
 "metadata": {
  "kernelspec": {
   "display_name": "Python 3 (ipykernel)",
   "language": "python",
   "name": "python3"
  },
  "language_info": {
   "codemirror_mode": {
    "name": "ipython",
    "version": 3
   },
   "file_extension": ".py",
   "mimetype": "text/x-python",
   "name": "python",
   "nbconvert_exporter": "python",
   "pygments_lexer": "ipython3",
   "version": "3.11.7"
  }
 },
 "nbformat": 4,
 "nbformat_minor": 5
}
