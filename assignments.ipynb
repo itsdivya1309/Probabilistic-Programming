{
 "cells": [
  {
   "cell_type": "code",
   "execution_count": 1,
   "id": "6e00b621-08b4-4640-b8d9-5ba951ebfd35",
   "metadata": {},
   "outputs": [
    {
     "name": "stdout",
     "output_type": "stream",
     "text": [
      "defaultdict(<class 'set'>, {'Class-V': {1}, 'Class-VI': {2}, 'Class-VII': {2}, 'Class-VIII': {3}})\n"
     ]
    }
   ],
   "source": [
    "from collections import defaultdict\n",
    "\n",
    "def create_dict(list1, list2):\n",
    "    result = defaultdict(set)\n",
    "    for key, value in zip(list1, list2):\n",
    "        result[key].add(value)\n",
    "    return result\n",
    "\n",
    "# Sample lists\n",
    "list1 = ['Class-V', 'Class-VI', 'Class-VII', 'Class-VIII']\n",
    "list2 = [1, 2, 2, 3]\n",
    "\n",
    "# Create the dictionary\n",
    "result_dict = create_dict(list1, list2)\n",
    "print(result_dict)"
   ]
  },
  {
   "cell_type": "code",
   "execution_count": 2,
   "id": "5ab0e44d-aa4a-47dd-a5aa-3d43796fd5f4",
   "metadata": {},
   "outputs": [
    {
     "name": "stdout",
     "output_type": "stream",
     "text": [
      "{'id': 1, 'subject': 'math', 'V+VI': 76.0}\n",
      "{'id': 2, 'subject': 'math', 'V+VI': 73.5}\n",
      "{'id': 3, 'subject': 'math', 'V+VI': 80.5}\n"
     ]
    }
   ],
   "source": [
    "def replace_with_sum(input_list):\n",
    "    output_list = []\n",
    "    for d in input_list:\n",
    "        v_vi_sum = (d['V'] + d['VI']) / 2\n",
    "        new_dict = {'id': d['id'], 'subject': d['subject'], 'V+VI': v_vi_sum}\n",
    "        output_list.append(new_dict)\n",
    "    return output_list\n",
    "\n",
    "# Input list of dictionaries\n",
    "input_list = [\n",
    "    {'id': 1, 'subject': 'math', 'V': 70, 'VI': 82},\n",
    "    {'id': 2, 'subject': 'math', 'V': 73, 'VI': 74},\n",
    "    {'id': 3, 'subject': 'math', 'V': 75, 'VI': 86}\n",
    "]\n",
    "\n",
    "# Generate the output list\n",
    "output_list = replace_with_sum(input_list)\n",
    "\n",
    "# Print the output list\n",
    "for item in output_list:\n",
    "    print(item)"
   ]
  },
  {
   "cell_type": "code",
   "execution_count": 3,
   "id": "6bb6e5e2-170d-40c6-b39e-30fbdd751d8d",
   "metadata": {},
   "outputs": [
    {
     "name": "stdout",
     "output_type": "stream",
     "text": [
      "[('item3', '24.5'), ('item2', '15.10'), ('item1', '12.20')]\n"
     ]
    }
   ],
   "source": [
    "def sort_tuple_by_float(tuple_list):\n",
    "    # Define a custom sorting key function to extract the float value\n",
    "    def get_float_value(item):\n",
    "        return float(item[1])\n",
    "\n",
    "    # Sort the tuple list using the custom key function\n",
    "    sorted_tuple_list = sorted(tuple_list, key=get_float_value, reverse=True)\n",
    "    return sorted_tuple_list\n",
    "\n",
    "# Sample data\n",
    "sample_data = [('item1', '12.20'), ('item2', '15.10'), ('item3', '24.5')]\n",
    "\n",
    "# Sort the tuple by its float element\n",
    "sorted_data = sort_tuple_by_float(sample_data)\n",
    "\n",
    "# Print the sorted tuple\n",
    "print(sorted_data)\n"
   ]
  },
  {
   "cell_type": "code",
   "execution_count": 4,
   "id": "ce51f3d2-aa8e-42a1-b8c6-adc9599e7d59",
   "metadata": {},
   "outputs": [
    {
     "name": "stdout",
     "output_type": "stream",
     "text": [
      "[('',), ('a', 'b'), ('a', 'b', 'c'), 'd']\n"
     ]
    }
   ],
   "source": [
    "def remove_empty_tuples(tuple_list):\n",
    "    return [t for t in tuple_list if t]\n",
    "\n",
    "# Sample data\n",
    "sample_data = [(), (), ('',), ('a', 'b'), ('a', 'b', 'c'), ('d')]\n",
    "\n",
    "# Remove empty tuples\n",
    "result = remove_empty_tuples(sample_data)\n",
    "\n",
    "# Print the result\n",
    "print(result)\n"
   ]
  },
  {
   "cell_type": "code",
   "execution_count": 5,
   "id": "79e28c27-5e11-4135-b0a5-12b235f6a936",
   "metadata": {},
   "outputs": [
    {
     "name": "stdout",
     "output_type": "stream",
     "text": [
      "{'w': 2, 'r': 3}\n"
     ]
    }
   ],
   "source": [
    "def tuples_to_dict(tuple_list):\n",
    "    return {value: key for key, value in tuple_list}\n",
    "\n",
    "# Sample input\n",
    "input_tuples = [(2, \"w\"), (3, \"r\")]\n",
    "\n",
    "# Convert the list of tuples to a dictionary\n",
    "output_dict = tuples_to_dict(input_tuples)\n",
    "\n",
    "# Print the resulting dictionary\n",
    "print(output_dict)\n"
   ]
  },
  {
   "cell_type": "code",
   "execution_count": 7,
   "id": "5d6a7e4d-a97b-4520-b3c9-e388c7ee7a06",
   "metadata": {},
   "outputs": [
    {
     "name": "stdout",
     "output_type": "stream",
     "text": [
      "3\n"
     ]
    }
   ],
   "source": [
    "def count_till_tuples(lst):\n",
    "    count = 0\n",
    "    for ele in lst:\n",
    "        if isinstance(ele,tuple):\n",
    "            return count\n",
    "        count+=1\n",
    "    return count\n",
    "\n",
    "#Sample case\n",
    "lst =  [10,20,30,(10,20),40]\n",
    "output = count_till_tuples(lst)\n",
    "print(output)"
   ]
  },
  {
   "cell_type": "code",
   "execution_count": 8,
   "id": "4e683ebd-d539-43c9-b85e-2a80c6d967d9",
   "metadata": {},
   "outputs": [
    {
     "name": "stdout",
     "output_type": "stream",
     "text": [
      "Maximum value: 20, Minimum value: 2\n"
     ]
    }
   ],
   "source": [
    "def max_min_set(input_set):\n",
    "    max_value = max(input_set)\n",
    "    min_value = min(input_set)\n",
    "    return max_value, min_value\n",
    "\n",
    "# Sample case\n",
    "in_set = ([5, 10, 3, 15, 2, 20])\n",
    "max_val, min_val = max_min_set(in_set)\n",
    "print(f'Maximum value: {max_val}, Minimum value: {min_val}')"
   ]
  },
  {
   "cell_type": "code",
   "execution_count": 9,
   "id": "5b88335a-f2dd-4ba9-83be-4b4ad462e38b",
   "metadata": {},
   "outputs": [
    {
     "name": "stdout",
     "output_type": "stream",
     "text": [
      "Difference: ({'green'}, {'yellow'})\n",
      "Union: {'green', 'blue', 'yellow'}\n",
      "Intersection: {'blue'}\n"
     ]
    }
   ],
   "source": [
    "def set_operations(set1, set2):\n",
    "    set_diff = set1.difference(set2), set2.difference(set1)\n",
    "    set_union = set1.union(set2)\n",
    "    set_intersection = set1.intersection(set2)\n",
    "    return set_diff, set_union, set_intersection\n",
    "\n",
    "# Test the function\n",
    "set1 = {\"green\", \"blue\"}\n",
    "set2 = {\"blue\", \"yellow\"}\n",
    "difference, union, intersection = set_operations(set1, set2)\n",
    "\n",
    "print(\"Difference:\", difference)\n",
    "print(\"Union:\", union)\n",
    "print(\"Intersection:\", intersection)\n"
   ]
  },
  {
   "cell_type": "code",
   "execution_count": 10,
   "id": "23e46d37-d954-419e-a701-ce329052f063",
   "metadata": {},
   "outputs": [
    {
     "name": "stdout",
     "output_type": "stream",
     "text": [
      "Output: <b><i><u>hello world</u></i></b>\n"
     ]
    }
   ],
   "source": [
    "def bold(func):\n",
    "    def wrapper(text):\n",
    "        return \"<b>\" + func(text) + \"</b>\"\n",
    "    return wrapper\n",
    "\n",
    "def italic(func):\n",
    "    def wrapper(text):\n",
    "        return \"<i>\" + func(text) + \"</i>\"\n",
    "    return wrapper\n",
    "\n",
    "def underline(func):\n",
    "    def wrapper(text):\n",
    "        return \"<u>\" + func(text) + \"</u>\"\n",
    "    return wrapper\n",
    "\n",
    "@bold\n",
    "@italic\n",
    "@underline\n",
    "def format_text(text):\n",
    "    return text\n",
    "\n",
    "# Test the function\n",
    "input_text = \"hello world\"\n",
    "output_text = format_text(input_text)\n",
    "print(\"Output:\", output_text)\n"
   ]
  },
  {
   "cell_type": "code",
   "execution_count": 11,
   "id": "cb859a53-178a-4c0e-a1cb-3464ef796b9a",
   "metadata": {},
   "outputs": [
    {
     "name": "stdin",
     "output_type": "stream",
     "text": [
      "Enter a positive integer:  3\n"
     ]
    },
    {
     "name": "stdout",
     "output_type": "stream",
     "text": [
      "Harmonic sum: 1.8333333333333333\n"
     ]
    }
   ],
   "source": [
    "def harmonic_sum(n):\n",
    "    if n < 2:\n",
    "        return 1 if n == 1 else 0\n",
    "    else:\n",
    "        return 1 / n + harmonic_sum(n - 1)\n",
    "\n",
    "n = int(input(\"Enter a positive integer: \"))\n",
    "print(\"Harmonic sum:\", harmonic_sum(n))\n"
   ]
  },
  {
   "cell_type": "code",
   "execution_count": 12,
   "id": "e19e5c6e-6105-4811-a1bb-1359a54f1afd",
   "metadata": {},
   "outputs": [
    {
     "name": "stdout",
     "output_type": "stream",
     "text": [
      "Expected Result: 21\n"
     ]
    }
   ],
   "source": [
    "def recursive_list_sum(lst):\n",
    "    total = 0\n",
    "    for element in lst:\n",
    "        if isinstance(element, list):\n",
    "            total += recursive_list_sum(element)\n",
    "        else:\n",
    "            total += element\n",
    "    return total\n",
    "\n",
    "# Test the function\n",
    "test_data = [1, 2, [3, 4], [5, 6]]\n",
    "result = recursive_list_sum(test_data)\n",
    "print( result)\n"
   ]
  },
  {
   "cell_type": "code",
   "execution_count": 1,
   "id": "98c3220f-354b-40c5-8776-badbcea6e624",
   "metadata": {},
   "outputs": [
    {
     "name": "stdin",
     "output_type": "stream",
     "text": [
      "Enter the sorted list of numbers:  3 5 10 12 15 20\n",
      "The number to search for:  12\n"
     ]
    },
    {
     "name": "stdout",
     "output_type": "stream",
     "text": [
      "12 was found at index 3.\n"
     ]
    }
   ],
   "source": [
    "def binary_search(arr, target):\n",
    "    low = 0\n",
    "    high = len(arr) - 1\n",
    "\n",
    "    while low <= high:\n",
    "        mid = (low + high) // 2\n",
    "        guess = arr[mid]\n",
    "        if guess == target:\n",
    "            return mid\n",
    "        if guess > target:\n",
    "            high = mid - 1\n",
    "        else:\n",
    "            low = mid + 1\n",
    "    return None\n",
    "\n",
    "# Input handling\n",
    "input_list = input(\"Enter the sorted list of numbers: \").strip().split()\n",
    "input_list = [int(i) for i in input_list]  # Convert input list to integers\n",
    "\n",
    "search_number = int(input(\"The number to search for: \"))\n",
    "\n",
    "# Binary search and output\n",
    "result = binary_search(input_list, search_number)\n",
    "if result is not None:\n",
    "    print(f\"{search_number} was found at index {result}.\")\n",
    "else:\n",
    "    print(f\"{search_number} was not found in the list.\")\n"
   ]
  },
  {
   "cell_type": "code",
   "execution_count": 5,
   "id": "16ed490a-bffe-4f41-83ba-6a35a56b25f6",
   "metadata": {},
   "outputs": [
    {
     "name": "stdin",
     "output_type": "stream",
     "text": [
      "Enter the string:  My name is Michele\n"
     ]
    },
    {
     "name": "stdout",
     "output_type": "stream",
     "text": [
      "The input string was: My name is Michele\n",
      "The reversed string is: Michele is name My\n"
     ]
    }
   ],
   "source": [
    "def reverse_string(string):\n",
    "    words = string.split()\n",
    "    reversed_words = words[::-1]\n",
    "    reversed_string = ' '.join(reversed_words)\n",
    "    return reversed_string\n",
    "\n",
    "# Taking input\n",
    "string = input('Enter the string: ')\n",
    "\n",
    "# Calling the function to return the string\n",
    "reversed_string = reverse_string(string)\n",
    "print(f\"The input string was: {string}\")\n",
    "print(f\"The reversed string is: {reversed_string}\")"
   ]
  },
  {
   "cell_type": "code",
   "execution_count": 9,
   "id": "77c9edeb-f0eb-4921-98f8-b6731231473e",
   "metadata": {},
   "outputs": [
    {
     "name": "stdin",
     "output_type": "stream",
     "text": [
      "Enter the string:  I am testing\n"
     ]
    },
    {
     "name": "stdout",
     "output_type": "stream",
     "text": [
      "The input string was: I am testing\n",
      "The reversed string is: gnitset ma I\n"
     ]
    }
   ],
   "source": [
    "def reverse(string):\n",
    "    reversed = string[::-1]\n",
    "    return reversed\n",
    "\n",
    "# Taking input\n",
    "string = input('Enter the string: ')\n",
    "\n",
    "# Calling the function to return the string\n",
    "reversed_string = reverse(string)\n",
    "print(f\"The input string was: {string}\")\n",
    "print(f\"The reversed string is: {reversed_string}\")"
   ]
  },
  {
   "cell_type": "code",
   "execution_count": 8,
   "id": "74030359-6240-4634-8035-5e43bcd65119",
   "metadata": {},
   "outputs": [
    {
     "data": {
      "text/plain": [
       "12"
      ]
     },
     "execution_count": 8,
     "metadata": {},
     "output_type": "execute_result"
    }
   ],
   "source": [
    "string = 'I am testing'\n",
    "len(string)"
   ]
  },
  {
   "cell_type": "code",
   "execution_count": 10,
   "id": "9e52ba02-e8f9-44c1-8332-24cac19c0ad9",
   "metadata": {},
   "outputs": [
    {
     "name": "stdout",
     "output_type": "stream",
     "text": [
      "Available Built-in Modules:\n",
      "_abc\n",
      "_ast\n",
      "_bisect\n",
      "_blake2\n",
      "_codecs\n",
      "_codecs_cn\n",
      "_codecs_hk\n",
      "_codecs_iso2022\n",
      "_codecs_jp\n",
      "_codecs_kr\n",
      "_codecs_tw\n",
      "_collections\n",
      "_contextvars\n",
      "_csv\n",
      "_datetime\n",
      "_functools\n",
      "_heapq\n",
      "_imp\n",
      "_io\n",
      "_json\n",
      "_locale\n",
      "_lsprof\n",
      "_md5\n",
      "_multibytecodec\n",
      "_opcode\n",
      "_operator\n",
      "_pickle\n",
      "_random\n",
      "_sha1\n",
      "_sha2\n",
      "_sha3\n",
      "_signal\n",
      "_sre\n",
      "_stat\n",
      "_statistics\n",
      "_string\n",
      "_struct\n",
      "_symtable\n",
      "_thread\n",
      "_tokenize\n",
      "_tracemalloc\n",
      "_typing\n",
      "_warnings\n",
      "_weakref\n",
      "_winapi\n",
      "_xxinterpchannels\n",
      "_xxsubinterpreters\n",
      "array\n",
      "atexit\n",
      "audioop\n",
      "binascii\n",
      "builtins\n",
      "cmath\n",
      "errno\n",
      "faulthandler\n",
      "gc\n",
      "itertools\n",
      "marshal\n",
      "math\n",
      "mmap\n",
      "msvcrt\n",
      "nt\n",
      "sys\n",
      "time\n",
      "winreg\n",
      "xxsubtype\n",
      "zlib\n"
     ]
    }
   ],
   "source": [
    "import sys\n",
    "\n",
    "def list_builtin_modules():\n",
    "    # Listing all built-in modules\n",
    "    builtin_modules = sys.builtin_module_names\n",
    "    return builtin_modules\n",
    "\n",
    "if __name__ == \"__main__\":\n",
    "    print(\"Available Built-in Modules:\")\n",
    "    for module in sorted(list_builtin_modules()):\n",
    "        print(module)\n"
   ]
  },
  {
   "cell_type": "code",
   "execution_count": 11,
   "id": "36cc0012-78c3-445a-8c3b-b41a7a9d2114",
   "metadata": {},
   "outputs": [
    {
     "name": "stdout",
     "output_type": "stream",
     "text": [
      "Memory size of 'one' = 44 bytes\n",
      "Memory size of 'four' = 45 bytes\n",
      "Memory size of 'three' = 46 bytes\n"
     ]
    }
   ],
   "source": [
    "import sys\n",
    "\n",
    "def memory_size_of_object(obj):\n",
    "    # Using sys.getsizeof to get the size of the object in bytes\n",
    "    return sys.getsizeof(obj)\n",
    "\n",
    "# Examples\n",
    "objects = ['one', 'four', 'three']\n",
    "\n",
    "for obj in objects:\n",
    "    print(f\"Memory size of '{obj}' = {memory_size_of_object(obj)} bytes\")\n"
   ]
  },
  {
   "cell_type": "code",
   "execution_count": 13,
   "id": "1156eb99-e76c-4ae6-ae3c-d0890937de05",
   "metadata": {},
   "outputs": [
    {
     "name": "stdout",
     "output_type": "stream",
     "text": [
      "Random Date = 07/12/2016\n"
     ]
    }
   ],
   "source": [
    "import random\n",
    "from datetime import datetime, timedelta\n",
    "\n",
    "def random_date(start_date, end_date):\n",
    "    \"\"\"\n",
    "    This function returns a random date between two given dates.\n",
    "    \"\"\"\n",
    "    delta = end_date - start_date\n",
    "    random_days = random.randint(0, delta.days)\n",
    "    return start_date + timedelta(days=random_days)\n",
    "\n",
    "# Example usage\n",
    "start_date = datetime.strptime('1/1/2016', '%m/%d/%Y')\n",
    "end_date = datetime.strptime('3/23/2018', '%m/%d/%Y')\n",
    "\n",
    "# Generating a random date between start_date and end_date\n",
    "rand_date = random_date(start_date, end_date)\n",
    "print(\"Random Date =\", rand_date.strftime('%m/%d/%Y'))\n"
   ]
  },
  {
   "cell_type": "code",
   "execution_count": 15,
   "id": "b2ce65d0-bad9-4abd-b8af-167e7d92c64d",
   "metadata": {},
   "outputs": [
    {
     "name": "stdout",
     "output_type": "stream",
     "text": [
      "1 Random Password: /~}nI'3c4j\n",
      "2 Random Password: g|U\"wSA'*R\n",
      "3 Random Password: K2Ok[?(fg-\n"
     ]
    }
   ],
   "source": [
    "import random\n",
    "import string\n",
    "\n",
    "def generate_password(length):\n",
    "    # Combine letters, digits, and special characters to form the pool of characters\n",
    "    characters = string.ascii_letters + string.digits + string.punctuation\n",
    "    # Use random.choices to select 'length' characters from the pool\n",
    "    password = ''.join(random.choices(characters, k=length))\n",
    "    return password\n",
    "\n",
    "# Generate and print three random passwords\n",
    "for i in range(1, 4):\n",
    "    print(f\"{i} Random Password: {generate_password(10)}\")\n"
   ]
  },
  {
   "cell_type": "code",
   "execution_count": 18,
   "id": "6b45b4d8-687f-4272-b147-01e8e28f8895",
   "metadata": {},
   "outputs": [
    {
     "name": "stdout",
     "output_type": "stream",
     "text": [
      "Random string using a UUID module is: 70758ebd\n"
     ]
    }
   ],
   "source": [
    "import uuid\n",
    "\n",
    "def generate_short_uuid():\n",
    "    # Generate a random UUID\n",
    "    random_uuid = uuid.uuid4()\n",
    "    # Convert to a string and take the first 8 characters\n",
    "    short_uuid = str(random_uuid).replace('-', '')[:8]\n",
    "    return short_uuid\n",
    "\n",
    "# Example usage\n",
    "print(\"Random string using a UUID module is:\", generate_short_uuid())\n"
   ]
  },
  {
   "cell_type": "code",
   "execution_count": 19,
   "id": "c8f19755-cc34-4ef3-8229-246b69d1f8ae",
   "metadata": {},
   "outputs": [
    {
     "name": "stdin",
     "output_type": "stream",
     "text": [
      "Input:  test.txt\n"
     ]
    },
    {
     "name": "stdout",
     "output_type": "stream",
     "text": [
      "Content of file test.txt:\n",
      "This is a sample file.\n",
      "I'll use this file for the questions in this assignment.\n",
      "THere are 16 questions in this assignment.\n",
      "I love watermelons.\n",
      "\n"
     ]
    }
   ],
   "source": [
    "def read_file(filename):\n",
    "    file = open(filename, 'r')\n",
    "    content = file.read()\n",
    "    return content\n",
    "\n",
    "# Input: Name of the file\n",
    "filename = input(\"Input: \")\n",
    "\n",
    "# Output: Content of the file\n",
    "content = read_file(filename)\n",
    "print(f\"Content of file {filename}:\\n{content}\")\n"
   ]
  },
  {
   "cell_type": "code",
   "execution_count": 22,
   "id": "c8021579-c391-4d36-8501-84e0a28ba7d8",
   "metadata": {},
   "outputs": [
    {
     "name": "stdin",
     "output_type": "stream",
     "text": [
      "Input file name:  test.txt\n",
      "Number of lines to read:  2\n"
     ]
    },
    {
     "name": "stdout",
     "output_type": "stream",
     "text": [
      "First 2 lines of file test.txt:\n",
      "This is a sample file.\n",
      "I'll use this file for the questions in this assignment.\n",
      "\n"
     ]
    }
   ],
   "source": [
    "def read_first_n_lines(filename, n):\n",
    "    \"\"\"Function to read and print the first n lines of a given file.\"\"\"\n",
    "    file = open(filename, 'r')\n",
    "    lines = []\n",
    "    for i in range(n):\n",
    "        lines.append(next(file))\n",
    "    return ''.join(lines)\n",
    "\n",
    "# Input: Name of the file\n",
    "filename = input(\"Input file name: \")\n",
    "\n",
    "# Input: Number of lines to read\n",
    "n = int(input(\"Number of lines to read: \"))\n",
    "\n",
    "# Output: First n lines of the file\n",
    "content = read_first_n_lines(filename, n)\n",
    "print(f\"First {n} lines of file {filename}:\\n{content}\")\n"
   ]
  },
  {
   "cell_type": "code",
   "execution_count": 26,
   "id": "cca535d3-d823-4683-9d2b-dbe086a45cef",
   "metadata": {},
   "outputs": [
    {
     "name": "stdout",
     "output_type": "stream",
     "text": [
      "Output: \n",
      " This is a sample file.\n",
      "I'll use this file for the questions in this assignment.\n",
      "THere are 16 questions in this assignment.\n",
      "I love watermelons.\n",
      "This is ITW1 class.\n",
      "This is ITW1 class.\n",
      "\n"
     ]
    }
   ],
   "source": [
    "def append_text_to_file(filename, text):\n",
    "    file = open(filename, 'a')\n",
    "    file.write(text + '\\n')\n",
    "    return \"Text appended successfully.\"\n",
    "\n",
    "def read_file(filename):\n",
    "    file = open(filename, 'r')\n",
    "    content = file.read()\n",
    "    return content\n",
    "\n",
    "# Input: Name of the file\n",
    "filename = \"test.txt\"\n",
    "\n",
    "# Input: Text to append to the file\n",
    "text_to_append = \"This is ITW1 class.\"\n",
    "\n",
    "# Append text to the file\n",
    "result = append_text_to_file(filename, text_to_append)\n",
    "\n",
    "# Output: Display the updated content of the file\n",
    "updated_content = read_file(filename)\n",
    "print(\"Output: \\n\", updated_content)\n"
   ]
  },
  {
   "cell_type": "code",
   "execution_count": 24,
   "id": "63ca2cee-e6d2-49ec-b6d2-2e6dc80cbfcf",
   "metadata": {},
   "outputs": [
    {
     "ename": "ModuleNotFoundError",
     "evalue": "No module named 'q1'",
     "output_type": "error",
     "traceback": [
      "\u001b[1;31m---------------------------------------------------------------------------\u001b[0m",
      "\u001b[1;31mModuleNotFoundError\u001b[0m                       Traceback (most recent call last)",
      "Cell \u001b[1;32mIn[24], line 1\u001b[0m\n\u001b[1;32m----> 1\u001b[0m \u001b[38;5;28;01mfrom\u001b[39;00m \u001b[38;5;21;01mq1\u001b[39;00m \u001b[38;5;28;01mimport\u001b[39;00m read_file\n\u001b[0;32m      3\u001b[0m \u001b[38;5;28;01mdef\u001b[39;00m \u001b[38;5;21mappend_text_to_file\u001b[39m(filename, text):\n\u001b[0;32m      4\u001b[0m     file \u001b[38;5;241m=\u001b[39m \u001b[38;5;28mopen\u001b[39m(filename, \u001b[38;5;124m'\u001b[39m\u001b[38;5;124ma\u001b[39m\u001b[38;5;124m'\u001b[39m)\n",
      "\u001b[1;31mModuleNotFoundError\u001b[0m: No module named 'q1'"
     ]
    }
   ],
   "source": [
    "from q1 import read_file\n",
    "\n",
    "def append_text_to_file(filename, text):\n",
    "    file = open(filename, 'a')\n",
    "    file.write(text + '\\n')\n",
    "    return read_file(filename)\n",
    "\n",
    "# Input: Name of the file\n",
    "filename = 'test.txt'\n",
    "\n",
    "# Input: Text to append to the file\n",
    "text_to_append = \"This is ITW1 class.\"\n",
    "\n",
    "result = append_text_to_file(filename, text)\n",
    "print('Output: ', result)"
   ]
  },
  {
   "cell_type": "code",
   "execution_count": 27,
   "id": "394ac1ca-e296-452a-8115-c3a424ba81ba",
   "metadata": {},
   "outputs": [
    {
     "name": "stdin",
     "output_type": "stream",
     "text": [
      "Enter the filename or address:  test.txt\n"
     ]
    },
    {
     "name": "stdout",
     "output_type": "stream",
     "text": [
      "This is ITW1 class.\n"
     ]
    }
   ],
   "source": [
    "def read_last_line(fname):\n",
    "    with open(fname, 'r') as file:         \n",
    "        for line in (file.readlines() [-1]):\n",
    "            print(line, end ='')\n",
    "    return\n",
    "\n",
    "filename = input('Enter the filename or address: ')\n",
    "read_last_line(filename)"
   ]
  },
  {
   "cell_type": "code",
   "execution_count": 28,
   "id": "d4b91e63-ec04-4371-82a4-7b8ef861d52f",
   "metadata": {},
   "outputs": [
    {
     "name": "stdout",
     "output_type": "stream",
     "text": [
      "List after removing empty tuples: [(1, 2), (3, 4), (5, 6)]\n"
     ]
    }
   ],
   "source": [
    "def remove_empty_tuples(tuples_list):\n",
    "    \"\"\"Function to remove empty tuples from a list of tuples.\"\"\"\n",
    "    return [t for t in tuples_list if t]\n",
    "\n",
    "# Example usage\n",
    "list_of_tuples = [(1, 2), (), (3, 4), (), (5, 6), ()]\n",
    "result = remove_empty_tuples(list_of_tuples)\n",
    "print(\"List after removing empty tuples:\", result)"
   ]
  },
  {
   "cell_type": "code",
   "execution_count": 29,
   "id": "d14ea343-e2ef-4ac9-8923-4c9f244433af",
   "metadata": {},
   "outputs": [
    {
     "name": "stdout",
     "output_type": "stream",
     "text": [
      "Number of lines in the file: 6\n"
     ]
    }
   ],
   "source": [
    "def count_lines(filename):\n",
    "    with open(filename, 'r') as file:\n",
    "        cnt = 0\n",
    "        for line in file:\n",
    "            cnt+=1\n",
    "    return cnt\n",
    "\n",
    "# Input: Name of the file\n",
    "filename = \"test.txt\"\n",
    "\n",
    "# Output: Number of lines in the file\n",
    "line_count = count_lines(filename)\n",
    "print(\"Number of lines in the file:\", line_count)\n"
   ]
  },
  {
   "cell_type": "code",
   "execution_count": null,
   "id": "9b5c5d95-bafb-4561-bd7a-27213839b475",
   "metadata": {},
   "outputs": [],
   "source": []
  },
  {
   "cell_type": "code",
   "execution_count": null,
   "id": "48da11e5-9f21-4b76-ba5e-456506ee30e9",
   "metadata": {},
   "outputs": [],
   "source": []
  }
 ],
 "metadata": {
  "kernelspec": {
   "display_name": "Python 3 (ipykernel)",
   "language": "python",
   "name": "python3"
  },
  "language_info": {
   "codemirror_mode": {
    "name": "ipython",
    "version": 3
   },
   "file_extension": ".py",
   "mimetype": "text/x-python",
   "name": "python",
   "nbconvert_exporter": "python",
   "pygments_lexer": "ipython3",
   "version": "3.12.2"
  }
 },
 "nbformat": 4,
 "nbformat_minor": 5
}
