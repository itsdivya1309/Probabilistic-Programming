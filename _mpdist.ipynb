{
 "cells": [
  {
   "cell_type": "code",
   "execution_count": 1,
   "id": "1e06e8b0-97e4-4dcc-ad5b-e4df0c0797ed",
   "metadata": {},
   "outputs": [],
   "source": [
    "import numpy as np"
   ]
  },
  {
   "cell_type": "code",
   "execution_count": 2,
   "id": "2f054ca3-aa93-48a1-8e41-02350b26fa23",
   "metadata": {},
   "outputs": [],
   "source": [
    "def mpdist(\n",
    "    x: np.ndarray,\n",
    "    y: np.ndarray,\n",
    "    m: int = 0\n",
    ") -> float:\n",
    "    \"\"\"\n",
    "    Matrix Profile Distance\n",
    "    \n",
    "    Parameters\n",
    "    ----------\n",
    "    x : np.ndarray\n",
    "        First time series, univariate, shape ``(n_timepoints,)``\n",
    "    y : np.ndarray\n",
    "        Second time series, univariate, shape ``(n_timepoints,)``\n",
    "    m : int (default = 0)\n",
    "        Length of the subsequence\n",
    "\n",
    "    Returns\n",
    "    -------\n",
    "    float\n",
    "        Matrix Profile distance between x and y\n",
    "\n",
    "    Raises\n",
    "    ------\n",
    "    ValueError\n",
    "        If x and y are not 1D arrays\n",
    "    \"\"\"\n",
    "    if x.ndim != 1 or y.ndim != 1:\n",
    "        raise ValueError(\"x and y must be a 1D array of shape (n_timepoints,)\")\n",
    "\n",
    "    return _mpdist(x,y,m)\n",
    "    \n",
    "\n",
    "def stomp_ab(\n",
    "    x: np.ndarray,\n",
    "    y: np.ndarray,\n",
    "    m: int = 0\n",
    ") -> (np.array, np.array):\n",
    "    \"\"\"\n",
    "    STOMP implementation for AB similarity join.\n",
    "    \n",
    "    Parameters\n",
    "    ----------\n",
    "    x : np.ndarray\n",
    "        First time series, univariate, shape ``(n_timepoints,)``\n",
    "    y : np.ndarray\n",
    "        Second time series, univariate, shape ``(n_timepoints,)``\n",
    "    m : int (default = 0)\n",
    "        Length of the subsequence\n",
    "\n",
    "    Output\n",
    "    ------\n",
    "        mp: np.ndarray\n",
    "            Array with the distance between every subsequence from x\n",
    "            to the nearest subsequence with same length from y.\n",
    "        ip: np.ndaaray\n",
    "            Array with the index of the nearest neighbor of x in y.\n",
    "    \"\"\"\n",
    "    if x.ndim != 1 or y.ndim != 1:\n",
    "        raise ValueError(\"x and y must be a 1D array of shape (n_timepoints,)\")\n",
    "\n",
    "    return _stomp_ab(x,y,m)\n"
   ]
  },
  {
   "cell_type": "code",
   "execution_count": 3,
   "id": "38759d18-9ef4-46e5-b9d1-37aebe569462",
   "metadata": {},
   "outputs": [],
   "source": [
    "def _sliding_dot_products(\n",
    "    q: np.ndarray,\n",
    "    t: np.ndarray\n",
    ")-> np.ndarray:\n",
    "    \"\"\"\n",
    "    Compute the sliding dot products between a query and a time series.\n",
    "\n",
    "    Parameters\n",
    "    ----------\n",
    "        q: numpy.array\n",
    "            Query.\n",
    "        t: numpy.array\n",
    "            Time series.\n",
    "\n",
    "    Output\n",
    "    ------\n",
    "        dot_prod: numpy.array\n",
    "            Sliding dot products between q and t.\n",
    "    \"\"\"\n",
    "    q_len = len(q)\n",
    "    t_len = len(t)\n",
    "\n",
    "    # Reversing query and padding both query and time series\n",
    "    t_padded = np.pad(t, (0, t_len))\n",
    "    q_reversed = np.flipud(q)\n",
    "    q_reversed_padded = np.pad(q_reversed, (0, 2 * t_len - q_len))\n",
    "    \n",
    "    # Applying FFT to both query and time series\n",
    "    t_fft = np.fft.fft(t_padded)\n",
    "    q_fft = np.fft.fft(q_reversed_padded)  # Flip the query and FFT it\n",
    "\n",
    "    # Applying inverse FFT to obtain the convolution of the time series by\n",
    "    # the query\n",
    "    element_wise_mult = np.multiply(t_fft, q_fft)\n",
    "    inverse_fft = np.fft.ifft(element_wise_mult)\n",
    "\n",
    "    # Returns only the valid dot products from inverse_fft\n",
    "    dot_prod = inverse_fft[q_len - 1 : t_len].real\n",
    "\n",
    "    return dot_prod"
   ]
  },
  {
   "cell_type": "code",
   "execution_count": null,
   "id": "4461127b-b126-4a7a-a72c-4becb53cc6ec",
   "metadata": {},
   "outputs": [],
   "source": [
    "# To be done\n",
    "\n",
    "def _mpdist(x,y,m):\n",
    "    threshold = 0.05\n",
    "\n",
    "    # Compute the AB matrix profile\n",
    "    mp_ab, ip_ab = _stomp_ab(x,y,m)\n",
    "\n",
    "    # Compute the BA matrix profile\n",
    "    mp_ba, ip_ba = _stomp_ab(y,x,m)"
   ]
  },
  {
   "cell_type": "code",
   "execution_count": null,
   "id": "ed8a3c75-0e97-4d5b-86a5-64de098a7275",
   "metadata": {},
   "outputs": [],
   "source": [
    "# To be continues\n",
    "\n",
    "def _stomp_ab(x,y,m):\n",
    "    if m == 0:\n",
    "        if len(x) > len(y):\n",
    "            m = int(len(x)/4)\n",
    "        else:\n",
    "            m = int(len(y)/4)\n",
    "\n",
    "    # Number of subsequences\n",
    "    n_x_subs = len(x) - m + 1\n",
    "    n_y_subs = len(y) - m + 1\n",
    "\n",
    "    # Compute the mean and standard deviation\n",
    "    x_mean = []\n",
    "    x_std = []\n",
    "    y_mean = []\n",
    "    y_std = []\n",
    "\n",
    "    for i in range(0, n_x_subs):\n",
    "        x_subset = x[i:i+m]    \n",
    "        x_mean.append(np.mean(x_subset))\n",
    "        x_std.append(np.std(x_subset))\n",
    "\n",
    "    for i in range(0, n_y_subs):\n",
    "        y_subset = y[i:i+m]\n",
    "        y_mean.append(np.mean(y_subset))\n",
    "        y_std.append(np.std(y_subset))\n",
    "\n",
    "    # Compute the dot products between the first y subsequence and every x subsequence\n",
    "    dot_prod = _sliding_dot_products(y[0:m], x)\n",
    "    first_dot_prod = np.copy(dot_prod)"
   ]
  },
  {
   "cell_type": "markdown",
   "id": "28cd3481-8fc8-40a9-ba7f-20aa82e9d05a",
   "metadata": {},
   "source": [
    "### Fourier Transform"
   ]
  },
  {
   "cell_type": "code",
   "execution_count": 1,
   "id": "c74e449f-e98a-4b78-86f4-b2cdb5684985",
   "metadata": {},
   "outputs": [
    {
     "name": "stdout",
     "output_type": "stream",
     "text": [
      "[25.        +0.j          1.11803399+1.08981379j -1.11803399+4.61652531j\n",
      " -1.11803399-4.61652531j  1.11803399-1.08981379j]\n"
     ]
    }
   ],
   "source": [
    "import numpy as np\n",
    "\n",
    "a = np.array([5, 4, 6, 3, 7]) \n",
    "# using np.fft() method \n",
    "fourier_a = np.fft.fft(a) \n",
    "  \n",
    "print(fourier_a)"
   ]
  },
  {
   "cell_type": "code",
   "execution_count": 5,
   "id": "592a93c0-b693-4585-ba69-bc306dcac701",
   "metadata": {},
   "outputs": [
    {
     "name": "stdout",
     "output_type": "stream",
     "text": [
      "[5.+0.j 4.+0.j 6.+0.j 3.+0.j 7.+0.j]\n"
     ]
    }
   ],
   "source": [
    "ifourier_a = np.fft.ifft(fourier_a)\n",
    "print(ifourier_a)"
   ]
  },
  {
   "cell_type": "code",
   "execution_count": 7,
   "id": "5b0b9461-4962-41b2-ad2f-e3fe1b22f7d0",
   "metadata": {},
   "outputs": [],
   "source": [
    "def fft(arr):\n",
    "    \"\"\"\n",
    "    Custom FFT implementation using numpy.\n",
    "\n",
    "    Parameters:\n",
    "        arr (numpy.array): Input array.\n",
    "\n",
    "    Returns:\n",
    "        numpy.array: FFT of the input array.\n",
    "    \"\"\"\n",
    "    N = len(arr)\n",
    "    if N <= 1:\n",
    "        return arr\n",
    "    else:\n",
    "        even = fft(arr[::2])\n",
    "        odd = fft(arr[1::2])\n",
    "        T = [np.exp(-2j * np.pi * k / N) * odd[k] for k in range(N // 2)]\n",
    "        return [even[k] + T[k] for k in range(N // 2)] + [even[k] - T[k] for k in range(N // 2)]\n",
    "\n",
    "def ifft(arr):\n",
    "    \"\"\"\n",
    "    Custom Inverse FFT implementation using numpy.\n",
    "\n",
    "    Parameters:\n",
    "        arr (numpy.array): Input array.\n",
    "\n",
    "    Returns:\n",
    "        numpy.array: Inverse FFT of the input array.\n",
    "    \"\"\"\n",
    "    conj_arr = np.conjugate(arr)\n",
    "    fft_arr = fft(conj_arr)\n",
    "    return np.conjugate(fft_arr) / len(arr)"
   ]
  },
  {
   "cell_type": "code",
   "execution_count": 8,
   "id": "e53d315f-67a4-47b0-9461-2593691dbcdb",
   "metadata": {},
   "outputs": [
    {
     "name": "stdout",
     "output_type": "stream",
     "text": [
      "[(25+0j), (6.3090169943749475-0.9510565162951535j), (11+0j), (5.6909830056250525+0.9510565162951535j)]\n"
     ]
    }
   ],
   "source": [
    "a = np.array([5, 4, 6, 3, 7])\n",
    "\n",
    "fourier_a = fft(a)\n",
    "print(fourier_a)"
   ]
  },
  {
   "cell_type": "code",
   "execution_count": 20,
   "id": "fafe3f48-dc49-49c7-b699-e04d2d3a1d0d",
   "metadata": {},
   "outputs": [
    {
     "name": "stdout",
     "output_type": "stream",
     "text": [
      "[1 2 3 0 0 0]\n"
     ]
    }
   ],
   "source": [
    "def custom_pad(arr, padding):\n",
    "    padded_arr = np.zeros(len(arr) + padding[1])\n",
    "    padded_arr[:len(arr)] = arr\n",
    "    return padded_arr.astype(int)\n",
    "\n",
    "a = np.array([1,2,3])\n",
    "b = custom_pad(a,(0,len(a)))\n",
    "print(b)"
   ]
  },
  {
   "cell_type": "code",
   "execution_count": 10,
   "id": "25dfef9a-e558-4aa6-87ac-322d8ad3736e",
   "metadata": {},
   "outputs": [
    {
     "name": "stdout",
     "output_type": "stream",
     "text": [
      "[1 2 3 0 0 0]\n"
     ]
    }
   ],
   "source": [
    "b = np.pad(a,(0,len(a)))\n",
    "print(b)"
   ]
  },
  {
   "cell_type": "code",
   "execution_count": 12,
   "id": "c1180bd5-8928-4c99-baf5-2facdb4d801e",
   "metadata": {},
   "outputs": [
    {
     "name": "stdout",
     "output_type": "stream",
     "text": [
      "[1 2 3]\n"
     ]
    }
   ],
   "source": [
    "print(a)"
   ]
  },
  {
   "cell_type": "code",
   "execution_count": 13,
   "id": "bf713139-b429-4974-aea8-ef82b362938a",
   "metadata": {},
   "outputs": [
    {
     "name": "stdout",
     "output_type": "stream",
     "text": [
      "[0. 0. 0.]\n"
     ]
    }
   ],
   "source": [
    "c = np.zeros(len(a))\n",
    "print(c)"
   ]
  },
  {
   "cell_type": "code",
   "execution_count": 19,
   "id": "2d356442-409c-416e-9971-d41b34e6cf72",
   "metadata": {},
   "outputs": [
    {
     "name": "stdout",
     "output_type": "stream",
     "text": [
      "[1 2 3 0 0 0]\n"
     ]
    }
   ],
   "source": [
    "d = np.concatenate((a,c)).astype(int)\n",
    "print(d)"
   ]
  },
  {
   "cell_type": "code",
   "execution_count": 21,
   "id": "52d78b1f-a247-437c-a386-361fcf48062e",
   "metadata": {},
   "outputs": [],
   "source": [
    "def FFT(x):\n",
    "    \"\"\"\n",
    "    A recursive implementation of \n",
    "    the 1D Cooley-Tukey FFT, the \n",
    "    input should have a length of \n",
    "    power of 2. \n",
    "    \"\"\"\n",
    "    N = len(x)\n",
    "    \n",
    "    if N == 1:\n",
    "        return x\n",
    "    else:\n",
    "        X_even = FFT(x[::2])\n",
    "        X_odd = FFT(x[1::2])\n",
    "        factor = \\\n",
    "          np.exp(-2j*np.pi*np.arange(N)/ N)\n",
    "        \n",
    "        X = np.concatenate(\\\n",
    "            [X_even+factor[:int(N/2)]*X_odd,\n",
    "             X_even+factor[int(N/2):]*X_odd])\n",
    "        return X"
   ]
  },
  {
   "cell_type": "code",
   "execution_count": 22,
   "id": "65749fc8-c40a-4327-8fd6-4d8c40021df2",
   "metadata": {},
   "outputs": [
    {
     "ename": "ValueError",
     "evalue": "operands could not be broadcast together with shapes (4,) (2,) ",
     "output_type": "error",
     "traceback": [
      "\u001b[1;31m---------------------------------------------------------------------------\u001b[0m",
      "\u001b[1;31mValueError\u001b[0m                                Traceback (most recent call last)",
      "Cell \u001b[1;32mIn[22], line 3\u001b[0m\n\u001b[0;32m      1\u001b[0m a \u001b[38;5;241m=\u001b[39m np\u001b[38;5;241m.\u001b[39marray([\u001b[38;5;241m5\u001b[39m, \u001b[38;5;241m4\u001b[39m, \u001b[38;5;241m6\u001b[39m, \u001b[38;5;241m3\u001b[39m, \u001b[38;5;241m7\u001b[39m])\n\u001b[1;32m----> 3\u001b[0m fourier_a \u001b[38;5;241m=\u001b[39m FFT(a)\n\u001b[0;32m      4\u001b[0m \u001b[38;5;28mprint\u001b[39m(fourier_a)\n",
      "Cell \u001b[1;32mIn[21], line 19\u001b[0m, in \u001b[0;36mFFT\u001b[1;34m(x)\u001b[0m\n\u001b[0;32m     14\u001b[0m X_odd \u001b[38;5;241m=\u001b[39m FFT(x[\u001b[38;5;241m1\u001b[39m::\u001b[38;5;241m2\u001b[39m])\n\u001b[0;32m     15\u001b[0m factor \u001b[38;5;241m=\u001b[39m \\\n\u001b[0;32m     16\u001b[0m   np\u001b[38;5;241m.\u001b[39mexp(\u001b[38;5;241m-\u001b[39m\u001b[38;5;241m2\u001b[39mj\u001b[38;5;241m*\u001b[39mnp\u001b[38;5;241m.\u001b[39mpi\u001b[38;5;241m*\u001b[39mnp\u001b[38;5;241m.\u001b[39marange(N)\u001b[38;5;241m/\u001b[39m N)\n\u001b[0;32m     18\u001b[0m X \u001b[38;5;241m=\u001b[39m np\u001b[38;5;241m.\u001b[39mconcatenate(\\\n\u001b[1;32m---> 19\u001b[0m     [X_even\u001b[38;5;241m+\u001b[39mfactor[:\u001b[38;5;28mint\u001b[39m(N\u001b[38;5;241m/\u001b[39m\u001b[38;5;241m2\u001b[39m)]\u001b[38;5;241m*\u001b[39mX_odd,\n\u001b[0;32m     20\u001b[0m      X_even\u001b[38;5;241m+\u001b[39mfactor[\u001b[38;5;28mint\u001b[39m(N\u001b[38;5;241m/\u001b[39m\u001b[38;5;241m2\u001b[39m):]\u001b[38;5;241m*\u001b[39mX_odd])\n\u001b[0;32m     21\u001b[0m \u001b[38;5;28;01mreturn\u001b[39;00m X\n",
      "\u001b[1;31mValueError\u001b[0m: operands could not be broadcast together with shapes (4,) (2,) "
     ]
    }
   ],
   "source": [
    "a = np.array([5, 4, 6, 3, 7])\n",
    "\n",
    "fourier_a = FFT(a)\n",
    "print(fourier_a)"
   ]
  },
  {
   "cell_type": "code",
   "execution_count": null,
   "id": "6e5f79b4-b778-405f-a701-52d59284f180",
   "metadata": {},
   "outputs": [],
   "source": []
  }
 ],
 "metadata": {
  "kernelspec": {
   "display_name": "Python 3 (ipykernel)",
   "language": "python",
   "name": "python3"
  },
  "language_info": {
   "codemirror_mode": {
    "name": "ipython",
    "version": 3
   },
   "file_extension": ".py",
   "mimetype": "text/x-python",
   "name": "python",
   "nbconvert_exporter": "python",
   "pygments_lexer": "ipython3",
   "version": "3.12.2"
  }
 },
 "nbformat": 4,
 "nbformat_minor": 5
}
