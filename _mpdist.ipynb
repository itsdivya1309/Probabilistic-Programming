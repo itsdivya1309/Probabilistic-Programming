{
 "cells": [
  {
   "cell_type": "code",
   "execution_count": 1,
   "id": "1e06e8b0-97e4-4dcc-ad5b-e4df0c0797ed",
   "metadata": {},
   "outputs": [],
   "source": [
    "import numpy as np"
   ]
  },
  {
   "cell_type": "code",
   "execution_count": 2,
   "id": "2f054ca3-aa93-48a1-8e41-02350b26fa23",
   "metadata": {},
   "outputs": [],
   "source": [
    "def mpdist(\n",
    "    x: np.ndarray,\n",
    "    y: np.ndarray,\n",
    "    m: int = 0\n",
    ") -> float:\n",
    "    \"\"\"\n",
    "    Matrix Profile Distance\n",
    "    \n",
    "    Parameters\n",
    "    ----------\n",
    "    x : np.ndarray\n",
    "        First time series, univariate, shape ``(n_timepoints,)``\n",
    "    y : np.ndarray\n",
    "        Second time series, univariate, shape ``(n_timepoints,)``\n",
    "    m : int (default = 0)\n",
    "        Length of the subsequence\n",
    "\n",
    "    Returns\n",
    "    -------\n",
    "    float\n",
    "        Matrix Profile distance between x and y\n",
    "\n",
    "    Raises\n",
    "    ------\n",
    "    ValueError\n",
    "        If x and y are not 1D arrays\n",
    "    \"\"\"\n",
    "    if x.ndim != 1 or y.ndim != 1:\n",
    "        raise ValueError(\"x and y must be a 1D array of shape (n_timepoints,)\")\n",
    "\n",
    "    return _mpdist(x,y,m)\n",
    "    \n",
    "\n",
    "def stomp_ab(\n",
    "    x: np.ndarray,\n",
    "    y: np.ndarray,\n",
    "    m: int = 0\n",
    ") -> (np.array, np.array):\n",
    "    \"\"\"\n",
    "    STOMP implementation for AB similarity join.\n",
    "    \n",
    "    Parameters\n",
    "    ----------\n",
    "    x : np.ndarray\n",
    "        First time series, univariate, shape ``(n_timepoints,)``\n",
    "    y : np.ndarray\n",
    "        Second time series, univariate, shape ``(n_timepoints,)``\n",
    "    m : int (default = 0)\n",
    "        Length of the subsequence\n",
    "\n",
    "    Output\n",
    "    ------\n",
    "        mp: np.ndarray\n",
    "            Array with the distance between every subsequence from x\n",
    "            to the nearest subsequence with same length from y.\n",
    "        ip: np.ndaaray\n",
    "            Array with the index of the nearest neighbor of x in y.\n",
    "    \"\"\"\n",
    "    if x.ndim != 1 or y.ndim != 1:\n",
    "        raise ValueError(\"x and y must be a 1D array of shape (n_timepoints,)\")\n",
    "\n",
    "    return _stomp_ab(x,y,m)\n"
   ]
  },
  {
   "cell_type": "code",
   "execution_count": 3,
   "id": "38759d18-9ef4-46e5-b9d1-37aebe569462",
   "metadata": {},
   "outputs": [],
   "source": [
    "def _sliding_dot_products(\n",
    "    q: np.ndarray,\n",
    "    t: np.ndarray\n",
    ")-> np.ndarray:\n",
    "    \"\"\"\n",
    "    Compute the sliding dot products between a query and a time series.\n",
    "\n",
    "    Parameters\n",
    "    ----------\n",
    "        q: numpy.array\n",
    "            Query.\n",
    "        t: numpy.array\n",
    "            Time series.\n",
    "\n",
    "    Output\n",
    "    ------\n",
    "        dot_prod: numpy.array\n",
    "            Sliding dot products between q and t.\n",
    "    \"\"\"\n",
    "    q_len = len(q)\n",
    "    t_len = len(t)\n",
    "\n",
    "    # Reversing query and padding both query and time series\n",
    "    t_padded = np.pad(t, (0, t_len))\n",
    "    q_reversed = np.flipud(q)\n",
    "    q_reversed_padded = np.pad(q_reversed, (0, 2 * t_len - q_len))\n",
    "    \n",
    "    # Applying FFT to both query and time series\n",
    "    t_fft = np.fft.fft(t_padded)\n",
    "    q_fft = np.fft.fft(q_reversed_padded)  # Flip the query and FFT it\n",
    "\n",
    "    # Applying inverse FFT to obtain the convolution of the time series by\n",
    "    # the query\n",
    "    element_wise_mult = np.multiply(t_fft, q_fft)\n",
    "    inverse_fft = np.fft.ifft(element_wise_mult)\n",
    "\n",
    "    # Returns only the valid dot products from inverse_fft\n",
    "    dot_prod = inverse_fft[q_len - 1 : t_len].real\n",
    "\n",
    "    return dot_prod"
   ]
  },
  {
   "cell_type": "code",
   "execution_count": null,
   "id": "4461127b-b126-4a7a-a72c-4becb53cc6ec",
   "metadata": {},
   "outputs": [],
   "source": [
    "# To be done\n",
    "\n",
    "def _mpdist(x,y,m):\n",
    "    threshold = 0.05\n",
    "\n",
    "    # Compute the AB matrix profile\n",
    "    mp_ab, ip_ab = _stomp_ab(x,y,m)\n",
    "\n",
    "    # Compute the BA matrix profile\n",
    "    mp_ba, ip_ba = _stomp_ab(y,x,m)"
   ]
  },
  {
   "cell_type": "code",
   "execution_count": null,
   "id": "ed8a3c75-0e97-4d5b-86a5-64de098a7275",
   "metadata": {},
   "outputs": [],
   "source": [
    "# To be continues\n",
    "\n",
    "def _stomp_ab(x,y,m):\n",
    "    if m == 0:\n",
    "        if len(x) > len(y):\n",
    "            m = int(len(x)/4)\n",
    "        else:\n",
    "            m = int(len(y)/4)\n",
    "\n",
    "    # Number of subsequences\n",
    "    n_x_subs = len(x) - m + 1\n",
    "    n_y_subs = len(y) - m + 1\n",
    "\n",
    "    # Compute the mean and standard deviation\n",
    "    x_mean = []\n",
    "    x_std = []\n",
    "    y_mean = []\n",
    "    y_std = []\n",
    "\n",
    "    for i in range(0, n_x_subs):\n",
    "        x_subset = x[i:i+m]    \n",
    "        x_mean.append(np.mean(x_subset))\n",
    "        x_std.append(np.std(x_subset))\n",
    "\n",
    "    for i in range(0, n_y_subs):\n",
    "        y_subset = y[i:i+m]\n",
    "        y_mean.append(np.mean(y_subset))\n",
    "        y_std.append(np.std(y_subset))\n",
    "\n",
    "    # Compute the dot products between the first y subsequence and every x subsequence\n",
    "    dot_prod = _sliding_dot_products(y[0:m], x)\n",
    "    first_dot_prod = np.copy(dot_prod)"
   ]
  },
  {
   "cell_type": "markdown",
   "id": "28cd3481-8fc8-40a9-ba7f-20aa82e9d05a",
   "metadata": {},
   "source": [
    "### Fourier Transform"
   ]
  },
  {
   "cell_type": "code",
   "execution_count": 1,
   "id": "c74e449f-e98a-4b78-86f4-b2cdb5684985",
   "metadata": {},
   "outputs": [
    {
     "name": "stdout",
     "output_type": "stream",
     "text": [
      "[25.        +0.j          1.11803399+1.08981379j -1.11803399+4.61652531j\n",
      " -1.11803399-4.61652531j  1.11803399-1.08981379j]\n"
     ]
    }
   ],
   "source": [
    "import numpy as np\n",
    "\n",
    "a = np.array([5, 4, 6, 3, 7]) \n",
    "# using np.fft() method \n",
    "fourier_a = np.fft.fft(a) \n",
    "  \n",
    "print(fourier_a)"
   ]
  },
  {
   "cell_type": "code",
   "execution_count": 5,
   "id": "592a93c0-b693-4585-ba69-bc306dcac701",
   "metadata": {},
   "outputs": [
    {
     "name": "stdout",
     "output_type": "stream",
     "text": [
      "[5.+0.j 4.+0.j 6.+0.j 3.+0.j 7.+0.j]\n"
     ]
    }
   ],
   "source": [
    "ifourier_a = np.fft.ifft(fourier_a)\n",
    "print(ifourier_a)"
   ]
  },
  {
   "cell_type": "code",
   "execution_count": null,
   "id": "5b0b9461-4962-41b2-ad2f-e3fe1b22f7d0",
   "metadata": {},
   "outputs": [],
   "source": []
  }
 ],
 "metadata": {
  "kernelspec": {
   "display_name": "Python 3 (ipykernel)",
   "language": "python",
   "name": "python3"
  },
  "language_info": {
   "codemirror_mode": {
    "name": "ipython",
    "version": 3
   },
   "file_extension": ".py",
   "mimetype": "text/x-python",
   "name": "python",
   "nbconvert_exporter": "python",
   "pygments_lexer": "ipython3",
   "version": "3.12.2"
  }
 },
 "nbformat": 4,
 "nbformat_minor": 5
}
