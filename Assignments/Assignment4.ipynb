{
 "cells": [
  {
   "cell_type": "code",
   "execution_count": 1,
   "id": "b915fbd3-59b5-4024-9f43-4d53517cdf0a",
   "metadata": {},
   "outputs": [
    {
     "name": "stdout",
     "output_type": "stream",
     "text": [
      "Initial Class Variable: Original Value\n",
      "Instance 1 Variable: Instance 1\n",
      "Instance 2 Variable: Instance 2\n",
      "\n",
      "Updated Class Variable: New Value\n",
      "Instance 1 Variable: Instance 1\n",
      "Instance 2 Variable: Instance 2\n",
      "\n",
      "Empty class instance: <__main__.EmptyClass object at 0x00000218AC667260>\n"
     ]
    }
   ],
   "source": [
    "class MyClass:\n",
    "    class_variable = \"Original Value\"\n",
    "\n",
    "    def __init__(self, instance_variable):\n",
    "        self.instance_variable = instance_variable\n",
    "\n",
    "    @classmethod\n",
    "    def change_class_variable(cls, new_value):\n",
    "        cls.class_variable = new_value\n",
    "\n",
    "# Create an empty class\n",
    "class EmptyClass:\n",
    "    pass\n",
    "\n",
    "# Create instances of MyClass\n",
    "obj1 = MyClass(\"Instance 1\")\n",
    "obj2 = MyClass(\"Instance 2\")\n",
    "\n",
    "# Display initial values of class and instance variables\n",
    "print(\"Initial Class Variable:\", MyClass.class_variable)\n",
    "print(\"Instance 1 Variable:\", obj1.instance_variable)\n",
    "print(\"Instance 2 Variable:\", obj2.instance_variable)\n",
    "\n",
    "# Change class variable\n",
    "MyClass.change_class_variable(\"New Value\")\n",
    "\n",
    "# Display updated values of class and instance variables\n",
    "print(\"\\nUpdated Class Variable:\", MyClass.class_variable)\n",
    "print(\"Instance 1 Variable:\", obj1.instance_variable)\n",
    "print(\"Instance 2 Variable:\", obj2.instance_variable)\n",
    "\n",
    "# Creating an instance of the empty class\n",
    "empty_obj = EmptyClass()\n",
    "print(\"\\nEmpty class instance:\", empty_obj)\n"
   ]
  },
  {
   "cell_type": "code",
   "execution_count": 2,
   "id": "574f1c37-69e6-4f59-aca7-4f343ab593fd",
   "metadata": {},
   "outputs": [
    {
     "name": "stdout",
     "output_type": "stream",
     "text": [
      "Input Hexadecimal: C77\n",
      "Output Decimal: 3191\n"
     ]
    }
   ],
   "source": [
    "class HexToDecimalConverter:\n",
    "    def __init__(self, hex_number):\n",
    "        self.hex_number = hex_number\n",
    "\n",
    "    def convert_to_decimal(self):\n",
    "        decimal_number = int(self.hex_number, 16)\n",
    "        return decimal_number\n",
    "\n",
    "# Input hexadecimal number\n",
    "hex_input = \"C77\"\n",
    "\n",
    "# Create an instance of HexToDecimalConverter class\n",
    "converter = HexToDecimalConverter(hex_input)\n",
    "\n",
    "# Convert hexadecimal to decimal\n",
    "decimal_output = converter.convert_to_decimal()\n",
    "\n",
    "# Output the result\n",
    "print(f\"Input Hexadecimal: {hex_input}\")\n",
    "print(f\"Output Decimal: {decimal_output}\")\n"
   ]
  },
  {
   "cell_type": "code",
   "execution_count": 3,
   "id": "810feb7f-2838-4f6d-bd82-c951e61b3e6e",
   "metadata": {},
   "outputs": [
    {
     "name": "stdout",
     "output_type": "stream",
     "text": [
      "ChildClass is a subclass of ParentClass: True\n",
      "AnotherClass is a subclass of ParentClass: False\n"
     ]
    }
   ],
   "source": [
    "class SubclassChecker:\n",
    "    def __init__(self, child_class, parent_class):\n",
    "        self.child_class = child_class\n",
    "        self.parent_class = parent_class\n",
    "\n",
    "    def is_subclass(self):\n",
    "        return issubclass(self.child_class, self.parent_class)\n",
    "\n",
    "# Define some classes for demonstration\n",
    "class ParentClass:\n",
    "    pass\n",
    "\n",
    "class ChildClass(ParentClass):\n",
    "    pass\n",
    "\n",
    "class AnotherClass:\n",
    "    pass\n",
    "\n",
    "# Create an instance of SubclassChecker class\n",
    "checker = SubclassChecker(ChildClass, ParentClass)\n",
    "\n",
    "# Check if ChildClass is a subclass of ParentClass\n",
    "print(\"ChildClass is a subclass of ParentClass:\", checker.is_subclass())\n",
    "\n",
    "# Check if AnotherClass is a subclass of ParentClass\n",
    "checker = SubclassChecker(AnotherClass, ParentClass)\n",
    "print(\"AnotherClass is a subclass of ParentClass:\", checker.is_subclass())\n"
   ]
  },
  {
   "cell_type": "code",
   "execution_count": 4,
   "id": "d48321a0-7577-4939-ace1-5e38b0291701",
   "metadata": {},
   "outputs": [
    {
     "name": "stdout",
     "output_type": "stream",
     "text": [
      "Area of the rectangle: 24\n"
     ]
    }
   ],
   "source": [
    "class Rectangle:\n",
    "    def __init__(self, length, width):\n",
    "        self.length = length\n",
    "        self.width = width\n",
    "\n",
    "    def area(self):\n",
    "        return self.length * self.width\n",
    "\n",
    "# Create an instance of Rectangle with length 4 and width 6\n",
    "rectangle = Rectangle(4, 6)\n",
    "# Calculate and print the area of the rectangle\n",
    "print(\"Area of the rectangle:\", rectangle.area())\n"
   ]
  },
  {
   "cell_type": "code",
   "execution_count": 8,
   "id": "eef582fb-d92a-4c6e-8f09-9d7ce41675aa",
   "metadata": {},
   "outputs": [
    {
     "name": "stdin",
     "output_type": "stream",
     "text": [
      "Enter the string:  hello\n"
     ]
    },
    {
     "name": "stdout",
     "output_type": "stream",
     "text": [
      "Input string: hello\n",
      "Output string: hello\n"
     ]
    }
   ],
   "source": [
    "class StringReverser:\n",
    "    def __init__(self, input_string):\n",
    "        self.input_string = input_string\n",
    "\n",
    "    def reverse_words(self):\n",
    "        # Split the input string into words\n",
    "        words = self.input_string.split()\n",
    "        # Reverse the order of the words\n",
    "        reversed_words = words[::-1]\n",
    "        # Join the reversed words back together\n",
    "        reversed_string = ' '.join(reversed_words)\n",
    "        return reversed_string\n",
    "\n",
    "# Example usage:\n",
    "# Create an instance of StringReverser with input string \"hello\"\n",
    "in_string = input('Enter the string: ')\n",
    "reverser = StringReverser(in_string)\n",
    "\n",
    "# Reverse the string word by word\n",
    "reversed_string = reverser.reverse_words()\n",
    "\n",
    "# Print the reversed string\n",
    "print(\"Input string:\", reverser.input_string)\n",
    "print(\"Output string:\", reversed_string)\n"
   ]
  },
  {
   "cell_type": "code",
   "execution_count": 13,
   "id": "f1532ad2-2627-41bc-a3bc-2197248b60e3",
   "metadata": {},
   "outputs": [
    {
     "name": "stdin",
     "output_type": "stream",
     "text": [
      "Enter the string:  hello\n"
     ]
    },
    {
     "name": "stdout",
     "output_type": "stream",
     "text": [
      "Input string: hello\n",
      "Output string: olleh\n"
     ]
    }
   ],
   "source": [
    "class StringReverser:\n",
    "    def __init__(self, input_string):\n",
    "        self.input_string = input_string\n",
    "\n",
    "    def reverse_words(self):\n",
    "        # Split the input string into words\n",
    "        words = self.input_string\n",
    "        # Reverse the order of the words\n",
    "        reversed_words = words[::-1]\n",
    "        # Join the reversed words back together\n",
    "        reversed_string = ''.join(reversed_words)\n",
    "        return reversed_string\n",
    "\n",
    "# Prompt the user to enter a string\n",
    "in_string = input('Enter the string: ')\n",
    "\n",
    "# Create an instance of StringReverser with the input string\n",
    "reverser = StringReverser(in_string)\n",
    "\n",
    "# Reverse the string word by word\n",
    "reversed_string = reverser.reverse_words()\n",
    "\n",
    "# Print the reversed string\n",
    "print(\"Input string:\", reverser.input_string)\n",
    "print(\"Output string:\", reversed_string)\n"
   ]
  },
  {
   "cell_type": "code",
   "execution_count": 14,
   "id": "b55a6ceb-7425-4237-89f1-fb58ef3fe1a2",
   "metadata": {},
   "outputs": [
    {
     "name": "stdin",
     "output_type": "stream",
     "text": [
      "Enter an array of real numbers separated by spaces:  -25 -10 -7 -3 2 4 8 10\n"
     ]
    },
    {
     "name": "stdout",
     "output_type": "stream",
     "text": [
      "Triplets that sum to zero: [[-10, 2, 8], [-7, -3, 10]]\n"
     ]
    }
   ],
   "source": [
    "class ThreeSumFinder:\n",
    "    def __init__(self, nums):\n",
    "        self.nums = nums\n",
    "\n",
    "    def find_three_sum(self):\n",
    "        triplets = []\n",
    "        nums = sorted(self.nums)  # Sort the input array\n",
    "        n = len(nums)\n",
    "        for i in range(n-2):\n",
    "            if i > 0 and nums[i] == nums[i-1]:  # Skip duplicates\n",
    "                continue\n",
    "            left, right = i+1, n-1\n",
    "            while left < right:\n",
    "                total = nums[i] + nums[left] + nums[right]\n",
    "                if total == 0:\n",
    "                    triplets.append([nums[i], nums[left], nums[right]])\n",
    "                    while left < right and nums[left] == nums[left+1]:  # Skip duplicates\n",
    "                        left += 1\n",
    "                    while left < right and nums[right] == nums[right-1]:  # Skip duplicates\n",
    "                        right -= 1\n",
    "                    left += 1\n",
    "                    right -= 1\n",
    "                elif total < 0:\n",
    "                    left += 1\n",
    "                else:\n",
    "                    right -= 1\n",
    "        return triplets\n",
    "\n",
    "# Prompt the user to enter an array of real numbers\n",
    "input_nums = input(\"Enter an array of real numbers separated by spaces: \").split()\n",
    "nums = [int(num) for num in input_nums]  # Convert input to a list of integers\n",
    "# Create an instance of ThreeSumFinder with the input array\n",
    "finder = ThreeSumFinder(nums)\n",
    "# Find and print the triplets that sum to zero\n",
    "result = finder.find_three_sum()\n",
    "print(\"Triplets that sum to zero:\", result)\n"
   ]
  },
  {
   "cell_type": "code",
   "execution_count": 16,
   "id": "54205029-6023-4943-9062-e2d94d8e58f2",
   "metadata": {},
   "outputs": [
    {
     "name": "stdin",
     "output_type": "stream",
     "text": [
      "Enter an array of numbers separated by spaces:  10 20 10 40 50 60 70\n",
      "Enter the target number:  50\n"
     ]
    },
    {
     "name": "stdout",
     "output_type": "stream",
     "text": [
      "Indices of the two numbers: [2, 3]\n"
     ]
    }
   ],
   "source": [
    "class TwoSumFinder:\n",
    "    def __init__(self, nums, target):\n",
    "        self.nums = nums\n",
    "        self.target = target\n",
    "\n",
    "    def find_two_sum(self):\n",
    "        num_index_map = {}  # Dictionary to store numbers and their indices\n",
    "        for i, num in enumerate(self.nums):\n",
    "            complement = self.target - num\n",
    "            if complement in num_index_map:\n",
    "                return [num_index_map[complement], i]\n",
    "            num_index_map[num] = i\n",
    "        return None\n",
    "\n",
    "# Prompt the user to enter an array of numbers and a target number\n",
    "input_nums = input(\"Enter an array of numbers separated by spaces: \").split()\n",
    "nums = [int(num) for num in input_nums]  # Convert input to a list of integers\n",
    "target = int(input(\"Enter the target number: \"))\n",
    "\n",
    "# Create an instance of TwoSumFinder with the input array and target number\n",
    "finder = TwoSumFinder(nums, target)\n",
    "\n",
    "# Find and print the indices of the two numbers that sum to the target\n",
    "result = finder.find_two_sum()\n",
    "if result is not None:\n",
    "    print(\"Indices of the two numbers:\", result)\n",
    "else:\n",
    "    print(\"No pair found.\")\n"
   ]
  },
  {
   "cell_type": "code",
   "execution_count": 18,
   "id": "418788de-92f7-4dc4-a2a7-0df3115bb04a",
   "metadata": {},
   "outputs": [
    {
     "name": "stdout",
     "output_type": "stream",
     "text": [
      "Original array:\n",
      "[[10 40]\n",
      " [30 20]]\n",
      "Sort the array along the first axis:\n",
      "[[10 20]\n",
      " [30 40]]\n",
      "Sort the array along the last axis:\n",
      "[[10 40]\n",
      " [20 30]]\n",
      "Sort the flattened array:\n",
      "[10 20 30 40]\n"
     ]
    }
   ],
   "source": [
    "import numpy as np\n",
    "\n",
    "# Define the original array\n",
    "arr = np.array([[10, 40], [30, 20]])\n",
    "# Print the original array\n",
    "print(\"Original array:\")\n",
    "print(arr)\n",
    "\n",
    "# Sort the array along the first axis (rows)\n",
    "sorted_first_axis = np.sort(arr, axis=0)\n",
    "# Sort the array along the last axis (columns)\n",
    "sorted_last_axis = np.sort(arr, axis=1)\n",
    "# Sort the flattened array\n",
    "sorted_flattened = np.sort(arr.flatten())\n",
    "\n",
    "# Print the sorted arrays\n",
    "print(\"Sort the array along the first axis:\")\n",
    "print(sorted_first_axis)\n",
    "print(\"Sort the array along the last axis:\")\n",
    "print(sorted_last_axis)\n",
    "print(\"Sort the flattened array:\")\n",
    "print(sorted_flattened)\n"
   ]
  },
  {
   "cell_type": "code",
   "execution_count": 19,
   "id": "b06b958b-2d3a-43a6-b1d4-00cd8c58551a",
   "metadata": {},
   "outputs": [
    {
     "name": "stdout",
     "output_type": "stream",
     "text": [
      "sine: array of angles given in degrees\n",
      "[0.         0.5        0.70710678 0.8660254  1.        ]\n",
      "\n",
      "cosine: array of angles given in degrees\n",
      "[1.00000000e+00 8.66025404e-01 7.07106781e-01 5.00000000e-01\n",
      " 6.12323400e-17]\n",
      "\n",
      "tangent: array of angles given in degrees\n",
      "[0.00000000e+00 5.77350269e-01 1.00000000e+00 1.73205081e+00\n",
      " 1.63312394e+16]\n"
     ]
    }
   ],
   "source": [
    "import numpy as np\n",
    "\n",
    "# Define the angles in degrees\n",
    "angles_degrees = np.array([0, 30, 45, 60, 90])\n",
    "# Convert angles from degrees to radians\n",
    "angles_radians = np.radians(angles_degrees)\n",
    "# Compute sine, cosine, and tangent of the angles\n",
    "sine = np.sin(angles_radians)\n",
    "cosine = np.cos(angles_radians)\n",
    "tangent = np.tan(angles_radians)\n",
    "# Print the results\n",
    "print(\"sine: array of angles given in degrees\")\n",
    "print(sine)\n",
    "print(\"\\ncosine: array of angles given in degrees\")\n",
    "print(cosine)\n",
    "print(\"\\ntangent: array of angles given in degrees\")\n",
    "print(tangent)\n"
   ]
  },
  {
   "cell_type": "code",
   "execution_count": 21,
   "id": "32aadb52-9b7a-4db0-b455-eca5c3ecef81",
   "metadata": {},
   "outputs": [
    {
     "name": "stdout",
     "output_type": "stream",
     "text": [
      "Original matrix:\n",
      "[[0 1 2]\n",
      " [3 4 5]]\n",
      "Diagonal sum: 4\n"
     ]
    }
   ],
   "source": [
    "import numpy as np\n",
    "\n",
    "# Define the original matrix\n",
    "matrix = np.array([[0, 1, 2],\n",
    "                   [3, 4, 5]])\n",
    "\n",
    "# Compute the sum of the diagonal elements\n",
    "diagonal_sum = np.trace(matrix)\n",
    "\n",
    "# Print the result\n",
    "print(\"Original matrix:\")\n",
    "print(matrix)\n",
    "print(\"Diagonal sum:\", diagonal_sum)\n"
   ]
  },
  {
   "cell_type": "code",
   "execution_count": 23,
   "id": "f87b3cea-483b-4559-b43b-3066c861abc6",
   "metadata": {},
   "outputs": [
    {
     "name": "stdout",
     "output_type": "stream",
     "text": [
      "Original array:\n",
      "[[1. 1. 1. 1. 1.]\n",
      " [1. 0. 0. 0. 1.]\n",
      " [1. 0. 0. 0. 1.]\n",
      " [1. 0. 0. 0. 1.]\n",
      " [1. 1. 1. 1. 1.]]\n",
      "1 on the border and 0 inside in the array:\n",
      "[[1. 1. 1. 1. 1.]\n",
      " [1. 0. 0. 0. 1.]\n",
      " [1. 0. 0. 0. 1.]\n",
      " [1. 0. 0. 0. 1.]\n",
      " [1. 1. 1. 1. 1.]]\n"
     ]
    }
   ],
   "source": [
    "import numpy as np\n",
    "\n",
    "# Define the dimensions of the 2D array\n",
    "rows, cols = 5, 5\n",
    "# Create a 2D array with 1 on the border\n",
    "array = np.ones((rows, cols))\n",
    "\n",
    "# Set the inner elements to 0\n",
    "array[1:-1, 1:-1] = 0\n",
    "\n",
    "# Print the original array\n",
    "print(\"Original array:\")\n",
    "print(array)\n",
    "# Print the modified array with 1 on the border and 0 inside\n",
    "print(\"1 on the border and 0 inside in the array:\")\n",
    "print(array)\n"
   ]
  },
  {
   "cell_type": "code",
   "execution_count": 28,
   "id": "79acffc6-55f8-45ae-a545-70291d3e1916",
   "metadata": {},
   "outputs": [
    {
     "name": "stdin",
     "output_type": "stream",
     "text": [
      "Enter an array of numbers separated by spaces:  1 2 3\n"
     ]
    },
    {
     "name": "stdout",
     "output_type": "stream",
     "text": [
      "Array: [1 2 3]\n",
      "Size of the array: 3\n",
      "Length of one array element in bytes: 4\n",
      "Total bytes consumed by the elements of the array: 12\n"
     ]
    }
   ],
   "source": [
    "import numpy as np\n",
    "\n",
    "# Define the array\n",
    "input_nums = input(\"Enter an array of numbers separated by spaces: \").split()\n",
    "array = np.array([int(num) for num in input_nums])  # Convert input to numpy array\n",
    "\n",
    "# Find the size of the array\n",
    "size_of_array = np.size(array)\n",
    "# Find the length of one array element in bytes\n",
    "element_length_bytes = array.itemsize\n",
    "# Find the total bytes consumed by the elements of the array\n",
    "total_bytes_consumed = array.nbytes\n",
    "\n",
    "# Print the results\n",
    "print(\"Array:\", array)\n",
    "print(\"Size of the array:\", size_of_array)\n",
    "print(\"Length of one array element in bytes:\", element_length_bytes)\n",
    "print(\"Total bytes consumed by the elements of the array:\", total_bytes_consumed)\n"
   ]
  },
  {
   "cell_type": "code",
   "execution_count": 29,
   "id": "33ac1698-dc7c-46b8-9400-1ea21be678b7",
   "metadata": {},
   "outputs": [
    {
     "name": "stdout",
     "output_type": "stream",
     "text": [
      "(1, 'Red', 12.2)\n",
      "(2, 'Green', 15.)\n",
      "(3, 'White', 20.)\n",
      "(4, 'Orange', 40.)\n"
     ]
    }
   ],
   "source": [
    "import numpy as np\n",
    "\n",
    "# Define the arrays\n",
    "array1 = np.array([1, 2, 3, 4])\n",
    "array2 = np.array(['Red', 'Green', 'White', 'Orange'])\n",
    "array3 = np.array([12.20, 15, 20, 40])\n",
    "\n",
    "# Create a record array from the arrays\n",
    "record_array = np.rec.fromarrays([array1, array2, array3])\n",
    "\n",
    "# Print the record array\n",
    "for record in record_array:\n",
    "    print(record)\n"
   ]
  },
  {
   "cell_type": "code",
   "execution_count": 30,
   "id": "88fbfd71-332c-4ef8-9ff2-b57ed9a3dbc1",
   "metadata": {},
   "outputs": [
    {
     "name": "stdin",
     "output_type": "stream",
     "text": [
      "Enter values for the source array separated by spaces:  10 10 20 30\n",
      "Enter values for the destination array separated by spaces:  10 10\n"
     ]
    },
    {
     "ename": "IndexError",
     "evalue": "index 4 is out of bounds for axis 0 with size 2",
     "output_type": "error",
     "traceback": [
      "\u001b[1;31m---------------------------------------------------------------------------\u001b[0m",
      "\u001b[1;31mIndexError\u001b[0m                                Traceback (most recent call last)",
      "Cell \u001b[1;32mIn[30], line 15\u001b[0m\n\u001b[0;32m     12\u001b[0m values \u001b[38;5;241m=\u001b[39m [\u001b[38;5;241m0\u001b[39m, \u001b[38;5;241m40\u001b[39m]  \u001b[38;5;66;03m# Values to be put at the specified indices\u001b[39;00m\n\u001b[0;32m     14\u001b[0m \u001b[38;5;66;03m# Put the values at the specified indices in the destination array\u001b[39;00m\n\u001b[1;32m---> 15\u001b[0m np\u001b[38;5;241m.\u001b[39mput(destination_values, indices, values)\n\u001b[0;32m     17\u001b[0m \u001b[38;5;66;03m# Print the modified destination array\u001b[39;00m\n\u001b[0;32m     18\u001b[0m \u001b[38;5;28mprint\u001b[39m(\u001b[38;5;124m\"\u001b[39m\u001b[38;5;124mArray x after put two values:\u001b[39m\u001b[38;5;124m\"\u001b[39m, destination_values)\n",
      "File \u001b[1;32m~\\anaconda3\\envs\\aeon-env\\Lib\\site-packages\\numpy\\core\\fromnumeric.py:530\u001b[0m, in \u001b[0;36mput\u001b[1;34m(a, ind, v, mode)\u001b[0m\n\u001b[0;32m    526\u001b[0m \u001b[38;5;28;01mexcept\u001b[39;00m \u001b[38;5;167;01mAttributeError\u001b[39;00m \u001b[38;5;28;01mas\u001b[39;00m e:\n\u001b[0;32m    527\u001b[0m     \u001b[38;5;28;01mraise\u001b[39;00m \u001b[38;5;167;01mTypeError\u001b[39;00m(\u001b[38;5;124m\"\u001b[39m\u001b[38;5;124margument 1 must be numpy.ndarray, \u001b[39m\u001b[38;5;124m\"\u001b[39m\n\u001b[0;32m    528\u001b[0m                     \u001b[38;5;124m\"\u001b[39m\u001b[38;5;124mnot \u001b[39m\u001b[38;5;132;01m{name}\u001b[39;00m\u001b[38;5;124m\"\u001b[39m\u001b[38;5;241m.\u001b[39mformat(name\u001b[38;5;241m=\u001b[39m\u001b[38;5;28mtype\u001b[39m(a)\u001b[38;5;241m.\u001b[39m\u001b[38;5;18m__name__\u001b[39m)) \u001b[38;5;28;01mfrom\u001b[39;00m \u001b[38;5;21;01me\u001b[39;00m\n\u001b[1;32m--> 530\u001b[0m \u001b[38;5;28;01mreturn\u001b[39;00m put(ind, v, mode\u001b[38;5;241m=\u001b[39mmode)\n",
      "\u001b[1;31mIndexError\u001b[0m: index 4 is out of bounds for axis 0 with size 2"
     ]
    }
   ],
   "source": [
    "import numpy as np\n",
    "\n",
    "# Take input from the user for the source and destination arrays\n",
    "source_input = input(\"Enter values for the source array separated by spaces: \")\n",
    "source_values = np.array([float(x) for x in source_input.split()])\n",
    "\n",
    "destination_input = input(\"Enter values for the destination array separated by spaces: \")\n",
    "destination_values = np.array([float(x) for x in destination_input.split()])\n",
    "\n",
    "# Specify the indices and values to be put in the destination array\n",
    "indices = [0, 4]  # Indices where the values will be put\n",
    "values = [0, 40]  # Values to be put at the specified indices\n",
    "\n",
    "# Put the values at the specified indices in the destination array\n",
    "np.put(destination_values, indices, values)\n",
    "\n",
    "# Print the modified destination array\n",
    "print(\"Array x after put two values:\", destination_values)\n"
   ]
  },
  {
   "cell_type": "code",
   "execution_count": 33,
   "id": "1352cdcf-6d23-409a-9fdb-3e2932cfe6ab",
   "metadata": {},
   "outputs": [
    {
     "name": "stdout",
     "output_type": "stream",
     "text": [
      "Original array:\n",
      " [10. 10. 20. 30. 30.]\n",
      "Array after put two values:\n",
      " [ 0. 10. 20. 30. 40.]\n"
     ]
    }
   ],
   "source": [
    "import numpy as np\n",
    "\n",
    "# Define the source array and the indices\n",
    "source_array = np.array([10., 10., 20., 30., 30.])\n",
    "indices = [0, 4]  # Indices to put values at\n",
    "\n",
    "# Define the values to put at the specified indices\n",
    "values = np.array([0, 40])\n",
    "\n",
    "# Create a copy of the source array to avoid modifying it\n",
    "result_array = source_array.copy()\n",
    "\n",
    "# Put the values at the specified indices\n",
    "result_array[indices] = values\n",
    "\n",
    "# Print the result array\n",
    "print(\"Original array:\\n\",source_array)\n",
    "print(\"Array after put two values:\\n\",result_array)\n",
    "\n"
   ]
  },
  {
   "cell_type": "code",
   "execution_count": 36,
   "id": "2830714c-36a9-4074-8eee-16f932c39fc5",
   "metadata": {},
   "outputs": [
    {
     "name": "stdout",
     "output_type": "stream",
     "text": [
      "add: [ 3  7 11 15 19]\n",
      "subtract: [1 1 1 1 1]\n",
      "multiply: [ 2 12 30 56 90]\n",
      "divide: [2.         1.33333333 1.2        1.14285714 1.11111111]\n"
     ]
    }
   ],
   "source": [
    "import pandas as pd\n",
    "\n",
    "# Define the input series\n",
    "series1 = pd.Series([2, 4, 6, 8, 10])\n",
    "series2 = pd.Series([1, 3, 5, 7, 9])\n",
    "\n",
    "# Perform arithmetic operations\n",
    "addition = series1 + series2\n",
    "subtraction = series1 - series2\n",
    "multiplication = series1 * series2\n",
    "division = series1 / series2\n",
    "\n",
    "# Print the results\n",
    "print(\"add:\", addition.values)\n",
    "print(\"subtract:\", subtraction.values)\n",
    "print(\"multiply:\", multiplication.values)\n",
    "print(\"divide:\", division.values)\n"
   ]
  },
  {
   "cell_type": "code",
   "execution_count": 37,
   "id": "bd51499a-1ba7-4e81-ac99-faaa491c9585",
   "metadata": {},
   "outputs": [
    {
     "name": "stdout",
     "output_type": "stream",
     "text": [
      "Converted Pandas series:\n",
      "0    10\n",
      "1    20\n",
      "2    30\n",
      "3    40\n",
      "4    50\n",
      "dtype: int32\n"
     ]
    }
   ],
   "source": [
    "import numpy as np\n",
    "import pandas as pd\n",
    "\n",
    "# Define the NumPy array\n",
    "numpy_array = np.array([10, 20, 30, 40, 50])\n",
    "\n",
    "# Convert the NumPy array to a pandas Series\n",
    "pandas_series = pd.Series(numpy_array)\n",
    "\n",
    "# Print the converted pandas Series\n",
    "print(\"Converted Pandas series:\")\n",
    "print(pandas_series)\n"
   ]
  },
  {
   "cell_type": "code",
   "execution_count": 38,
   "id": "deb6baa1-43c8-4c60-bc0d-bc054d08ae2f",
   "metadata": {},
   "outputs": [
    {
     "name": "stdout",
     "output_type": "stream",
     "text": [
      "      X     Y     Z\n",
      "0  6084  7056  7396\n",
      "1  7225  8836  9409\n",
      "2  9216  7921  9216\n",
      "3  6400  6889  5184\n",
      "4  7396  7396  6889\n"
     ]
    }
   ],
   "source": [
    "import pandas as pd\n",
    "\n",
    "# Create a DataFrame with sample data\n",
    "data = {'X': [78, 85, 96, 80, 86], \n",
    "        'Y': [84, 94, 89, 83, 86],\n",
    "        'Z': [86, 97, 96, 72, 83]}\n",
    "df = pd.DataFrame(data)\n",
    "\n",
    "# Get the powers of array values element-wise\n",
    "result = df.apply(lambda x: x**2)\n",
    "\n",
    "# Print the expected output\n",
    "print(result)\n"
   ]
  },
  {
   "cell_type": "code",
   "execution_count": 39,
   "id": "fcf58ad4-e2ea-47e2-a7fe-18d58de9f553",
   "metadata": {},
   "outputs": [
    {
     "name": "stdout",
     "output_type": "stream",
     "text": [
      "Sample DataFrame:\n",
      "        name  score  attempts qualify\n",
      "a  Anastasia   12.5         1     yes\n",
      "b       Dima    9.0         3      no\n",
      "c  Katherine   16.5         2     yes\n",
      "d      James    NaN         3      no\n",
      "e      Emily    9.0         2      no\n",
      "f    Michael   20.0         3     yes\n",
      "g    Matthew   14.5         1     yes\n",
      "h      Laura    NaN         1      no\n",
      "i      Kevin    8.0         2      no\n",
      "j      Jonas   19.0         1     yes\n",
      "\n",
      "First three rows of the data frame:\n",
      "        name  score  attempts qualify\n",
      "a  Anastasia   12.5         1     yes\n",
      "b       Dima    9.0         3      no\n",
      "c  Katherine   16.5         2     yes\n",
      "\n",
      "Rows where score is missing:\n",
      "    name  score  attempts qualify\n",
      "d  James    NaN         3      no\n",
      "h  Laura    NaN         1      no\n",
      "\n",
      "Rows where score between 15 and 20 (inclusive):\n",
      "        name  score  attempts qualify\n",
      "c  Katherine   16.5         2     yes\n",
      "f    Michael   20.0         3     yes\n",
      "j      Jonas   19.0         1     yes\n"
     ]
    }
   ],
   "source": [
    "import numpy as np\n",
    "import pandas as pd\n",
    "\n",
    "# Create the DataFrame from the specified dictionary data\n",
    "exam_data = {'name': ['Anastasia', 'Dima', 'Katherine', 'James', 'Emily', 'Michael', 'Matthew', 'Laura', 'Kevin', 'Jonas'],\n",
    "             'score': [12.5, 9, 16.5, np.nan, 9, 20, 14.5, np.nan, 8, 19],\n",
    "             'attempts': [1, 3, 2, 3, 2, 3, 1, 1, 2, 1],\n",
    "             'qualify': ['yes', 'no', 'yes', 'no', 'no', 'yes', 'yes', 'no', 'no', 'yes']}\n",
    "labels = ['a', 'b', 'c', 'd', 'e', 'f', 'g', 'h', 'i', 'j']\n",
    "df = pd.DataFrame(exam_data, index=labels)\n",
    "\n",
    "# Display the DataFrame\n",
    "print(\"Sample DataFrame:\")\n",
    "print(df)\n",
    "\n",
    "# Get the first 3 rows of the DataFrame\n",
    "print(\"\\nFirst three rows of the data frame:\")\n",
    "print(df.head(3))\n",
    "\n",
    "# Select the rows where the score is missing (NaN)\n",
    "print(\"\\nRows where score is missing:\")\n",
    "print(df[df['score'].isnull()])\n",
    "\n",
    "# Select the rows where the score is between 15 and 20 (inclusive)\n",
    "print(\"\\nRows where score between 15 and 20 (inclusive):\")\n",
    "print(df[(df['score'] >= 15) & (df['score'] <= 20)])\n"
   ]
  },
  {
   "cell_type": "code",
   "execution_count": 44,
   "id": "b18b43d5-11f7-4233-881e-e50e3af5aab3",
   "metadata": {},
   "outputs": [
    {
     "name": "stdout",
     "output_type": "stream",
     "text": [
      "        name  score  attempts qualify\n",
      "a  Anastasia   12.5         1     yes\n",
      "b       Dima    9.0         3      no\n",
      "c  Katherine   16.5         2     yes\n"
     ]
    }
   ],
   "source": [
    "import numpy as np\n",
    "import pandas as pd\n",
    "\n",
    "exam_data = {'name': ['Anastasia', 'Dima', 'Katherine', 'James', 'Emily', 'Michael', 'Matthew', 'Laura',\n",
    "'Kevin', 'Jonas'],\n",
    "'score': [12.5, 9, 16.5, np.nan, 9, 20, 14.5, np.nan, 8, 19],\n",
    "'attempts': [1, 3, 2, 3, 2, 3, 1, 1, 2, 1],\n",
    "'qualify': ['yes', 'no', 'yes', 'no', 'no', 'yes', 'yes', 'no', 'no', 'yes']}\n",
    "labels = ['a', 'b', 'c', 'd', 'e', 'f', 'g', 'h', 'i', 'j']\n",
    "df = pd.DataFrame(exam_data, index=labels)\n",
    "print(df.head(3))"
   ]
  },
  {
   "cell_type": "code",
   "execution_count": 45,
   "id": "71572de6-22cd-48ef-97e4-eff050e46fa2",
   "metadata": {},
   "outputs": [
    {
     "name": "stdout",
     "output_type": "stream",
     "text": [
      "Rows where score is NaN:\n",
      "    name  score  attempts qualify\n",
      "d  James    NaN         3      no\n",
      "h  Laura    NaN         1      no\n"
     ]
    }
   ],
   "source": [
    "import numpy as np\n",
    "import pandas as pd\n",
    "\n",
    "# Create the DataFrame from the specified dictionary data\n",
    "exam_data = {'name': ['Anastasia', 'Dima', 'Katherine', 'James', 'Emily', 'Michael', 'Matthew', 'Laura', 'Kevin', 'Jonas'],\n",
    "             'score': [12.5, 9, 16.5, np.nan, 9, 20, 14.5, np.nan, 8, 19],\n",
    "             'attempts': [1, 3, 2, 3, 2, 3, 1, 1, 2, 1],\n",
    "             'qualify': ['yes', 'no', 'yes', 'no', 'no', 'yes', 'yes', 'no', 'no', 'yes']}\n",
    "labels = ['a', 'b', 'c', 'd', 'e', 'f', 'g', 'h', 'i', 'j']\n",
    "df = pd.DataFrame(exam_data, index=labels)\n",
    "\n",
    "# Select rows where the 'score' column contains NaN values\n",
    "rows_with_nan = df[df['score'].isna()]\n",
    "\n",
    "# Print the selected rows\n",
    "print(\"Rows where score is NaN:\")\n",
    "print(rows_with_nan)\n"
   ]
  },
  {
   "cell_type": "code",
   "execution_count": 50,
   "id": "dd187409-e70a-4389-a3f3-3c49bfb585d0",
   "metadata": {},
   "outputs": [
    {
     "name": "stdout",
     "output_type": "stream",
     "text": [
      "Rows where number of attempts is less than 2 and score is greater than 15:\n",
      "        name  score  attempts qualify\n",
      "c  Katherine   16.5         2     yes\n",
      "f    Michael   20.0         3     yes\n",
      "j      Jonas   19.0         1     yes\n"
     ]
    }
   ],
   "source": [
    "import numpy as np\n",
    "import pandas as pd\n",
    "\n",
    "# Create the DataFrame from the specified dictionary data\n",
    "exam_data = {'name': ['Anastasia', 'Dima', 'Katherine', 'James', 'Emily', 'Michael', 'Matthew', 'Laura', 'Kevin', 'Jonas'],\n",
    "             'score': [12.5, 9, 16.5, np.nan, 9, 20, 14.5, np.nan, 8, 19],\n",
    "             'attempts': [1, 3, 2, 3, 2, 3, 1, 1, 2, 1],\n",
    "             'qualify': ['yes', 'no', 'yes', 'no', 'no', 'yes', 'yes', 'no', 'no', 'yes']}\n",
    "labels = ['a', 'b', 'c', 'd', 'e', 'f', 'g', 'h', 'i', 'j']\n",
    "df = pd.DataFrame(exam_data, index=labels)\n",
    "\n",
    "# Select rows where number of attempts is less than 2 and score is greater than 15\n",
    "selected_rows = df[(df['score'] >= 15) & (df['score'] <= 20) ]\n",
    "\n",
    "# Print the selected rows\n",
    "print(\"Rows where number of attempts is less than 2 and score is greater than 15:\")\n",
    "print(selected_rows)\n"
   ]
  },
  {
   "cell_type": "code",
   "execution_count": 51,
   "id": "eab79511-fe1d-41e1-ac0a-47b2f1d37359",
   "metadata": {},
   "outputs": [
    {
     "name": "stdout",
     "output_type": "stream",
     "text": [
      "Rows where number of attempts is less than 2 and score is greater than 15:\n",
      "        name  score  attempts qualify\n",
      "c  Katherine   16.5         2     yes\n",
      "j      Jonas   19.0         1     yes\n"
     ]
    }
   ],
   "source": [
    "import numpy as np\n",
    "import pandas as pd\n",
    "\n",
    "# Create the DataFrame from the specified dictionary data\n",
    "exam_data = {'name': ['Anastasia', 'Dima', 'Katherine', 'James', 'Emily', 'Michael', 'Matthew', 'Laura', 'Kevin', 'Jonas'],\n",
    "             'score': [12.5, 9, 16.5, np.nan, 9, 20, 14.5, np.nan, 8, 19],\n",
    "             'attempts': [1, 3, 2, 3, 2, 3, 1, 1, 2, 1],\n",
    "             'qualify': ['yes', 'no', 'yes', 'no', 'no', 'yes', 'yes', 'no', 'no', 'yes']}\n",
    "labels = ['a', 'b', 'c', 'd', 'e', 'f', 'g', 'h', 'i', 'j']\n",
    "df = pd.DataFrame(exam_data, index=labels)\n",
    "\n",
    "# Select rows where number of attempts is less than 2 and score is greater than 15\n",
    "selected_rows = df[(df['score'] >= 15) & (df['attempts'] <= 2) ]\n",
    "\n",
    "# Print the selected rows\n",
    "print(\"Rows where number of attempts is less than 2 and score is greater than 15:\")\n",
    "print(selected_rows)\n"
   ]
  },
  {
   "cell_type": "code",
   "execution_count": 52,
   "id": "70224aed-8d5e-4a00-afc3-55a58e70cbe0",
   "metadata": {},
   "outputs": [
    {
     "data": {
      "image/png": "[encoded data removed]",
      "text/plain": [
       "<Figure size 800x600 with 1 Axes>"
      ]
     },
     "metadata": {},
     "output_type": "display_data"
    },
    {
     "data": {
      "image/png": "[encoded data removed]",
      "text/plain": [
       "<Figure size 800x600 with 1 Axes>"
      ]
     },
     "metadata": {},
     "output_type": "display_data"
    },
    {
     "data": {
      "image/png": "[encoded data removed]",
      "text/plain": [
       "<Figure size 800x600 with 1 Axes>"
      ]
     },
     "metadata": {},
     "output_type": "display_data"
    },
    {
     "data": {
      "image/png": "[encoded data removed]",
      "text/plain": [
       "<Figure size 800x600 with 1 Axes>"
      ]
     },
     "metadata": {},
     "output_type": "display_data"
    }
   ],
   "source": [
    "import numpy as np\n",
    "import pandas as pd\n",
    "import matplotlib.pyplot as plt\n",
    "\n",
    "# Create the DataFrame from the specified dictionary data\n",
    "exam_data = {'name': ['Anastasia', 'Dima', 'Katherine', 'James', 'Emily', 'Michael', 'Matthew', 'Laura', 'Kevin', 'Jonas'],\n",
    "             'score': [12.5, 9, 16.5, np.nan, 9, 20, 14.5, np.nan, 8, 19],\n",
    "             'attempts': [1, 3, 2, 3, 2, 3, 1, 1, 2, 1],\n",
    "             'qualify': ['yes', 'no', 'yes', 'no', 'no', 'yes', 'yes', 'no', 'no', 'yes']}\n",
    "labels = ['a', 'b', 'c', 'd', 'e', 'f', 'g', 'h', 'i', 'j']\n",
    "df = pd.DataFrame(exam_data, index=labels)\n",
    "\n",
    "# Plot histogram\n",
    "plt.figure(figsize=(8, 6))\n",
    "plt.hist(df['score'].dropna(), bins=10, color='skyblue', edgecolor='black')\n",
    "plt.title('Histogram of Scores')\n",
    "plt.xlabel('Score')\n",
    "plt.ylabel('Frequency')\n",
    "plt.grid(True)\n",
    "plt.show()\n",
    "\n",
    "# Plot bar chart\n",
    "plt.figure(figsize=(8, 6))\n",
    "plt.bar(df['name'], df['score'].fillna(0), color='green')\n",
    "plt.title('Bar Chart of Scores')\n",
    "plt.xlabel('Name')\n",
    "plt.ylabel('Score')\n",
    "plt.xticks(rotation=45)\n",
    "plt.grid(True)\n",
    "plt.show()\n",
    "\n",
    "# Plot line graph\n",
    "plt.figure(figsize=(8, 6))\n",
    "plt.plot(df['name'], df['score'].fillna(0), marker='o', color='blue', linestyle='-', linewidth=2, markersize=8)\n",
    "plt.title('Line Graph of Scores')\n",
    "plt.xlabel('Name')\n",
    "plt.ylabel('Score')\n",
    "plt.xticks(rotation=45)\n",
    "plt.grid(True)\n",
    "plt.show()\n",
    "\n",
    "# Plot scatter graph\n",
    "plt.figure(figsize=(8, 6))\n",
    "plt.scatter(df['attempts'], df['score'].fillna(0), color='red')\n",
    "plt.title('Scatter Plot of Scores vs Attempts')\n",
    "plt.xlabel('Attempts')\n",
    "plt.ylabel('Score')\n",
    "plt.grid(True)\n",
    "plt.show()\n"
   ]
  },
  {
   "cell_type": "code",
   "execution_count": 54,
   "id": "ad6567aa-cefd-4ec4-9bfa-a17ea23446ec",
   "metadata": {},
   "outputs": [
    {
     "name": "stdin",
     "output_type": "stream",
     "text": [
      "Enter the value of 'a':  12\n",
      "Enter the value of 'b':  12\n"
     ]
    },
    {
     "name": "stdout",
     "output_type": "stream",
     "text": [
      "Error: Division by zero is not allowed.\n",
      "Finally block executed.\n"
     ]
    }
   ],
   "source": [
    "def calculate_expression(a, b):\n",
    "    try:\n",
    "        result = (a + b) / (a - b)\n",
    "    except ZeroDivisionError:\n",
    "        print(\"Error: Division by zero is not allowed.\")\n",
    "    except TypeError:\n",
    "        print(\"Error: Please provide valid numeric inputs.\")\n",
    "    except Exception as e:\n",
    "        print(\"An unexpected error occurred:\", e)\n",
    "        raise\n",
    "    else:\n",
    "        print(\"Calculation successful. Result:\", result)\n",
    "    finally:\n",
    "        print(\"Finally block executed.\")\n",
    "\n",
    "# Example usage:\n",
    "try:\n",
    "    a = int(input(\"Enter the value of 'a': \"))\n",
    "    b = int(input(\"Enter the value of 'b': \"))\n",
    "    calculate_expression(a, b)\n",
    "except ValueError:\n",
    "    print(\"Error: Please enter valid integer inputs.\")\n"
   ]
  },
  {
   "cell_type": "code",
   "execution_count": null,
   "id": "08fd0f0d-60ed-465e-ad88-81e52271389b",
   "metadata": {},
   "outputs": [],
   "source": []
  }
 ],
 "metadata": {
  "kernelspec": {
   "display_name": "Python 3 (ipykernel)",
   "language": "python",
   "name": "python3"
  },
  "language_info": {
   "codemirror_mode": {
    "name": "ipython",
    "version": 3
   },
   "file_extension": ".py",
   "mimetype": "text/x-python",
   "name": "python",
   "nbconvert_exporter": "python",
   "pygments_lexer": "ipython3",
   "version": "3.12.2"
  }
 },
 "nbformat": 4,
 "nbformat_minor": 5
}
