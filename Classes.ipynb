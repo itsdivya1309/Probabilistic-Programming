{
 "cells": [
  {
   "cell_type": "markdown",
   "id": "dabb3ac2",
   "metadata": {},
   "source": [
    "## Defining a Class"
   ]
  },
  {
   "cell_type": "code",
   "execution_count": 1,
   "id": "0dce0460",
   "metadata": {},
   "outputs": [],
   "source": [
    "# A Circle class to model different circles in a drawing application\n",
    "\n",
    "import math\n",
    "\n",
    "class Circle:\n",
    "    \n",
    "    def __init__(self, radius):    # Object initializer\n",
    "        self.radius = radius\n",
    "        \n",
    "    def calculate_area(self):\n",
    "        return round(math.pi * self.radius**2, 3)"
   ]
  },
  {
   "cell_type": "code",
   "execution_count": 2,
   "id": "51f63f7d",
   "metadata": {},
   "outputs": [],
   "source": [
    "circle_1 = Circle(3)\n",
    "circle_2 = Circle(7)"
   ]
  },
  {
   "cell_type": "code",
   "execution_count": 3,
   "id": "6cae5911",
   "metadata": {},
   "outputs": [
    {
     "data": {
      "text/plain": [
       "<__main__.Circle at 0x17a17013880>"
      ]
     },
     "execution_count": 3,
     "metadata": {},
     "output_type": "execute_result"
    }
   ],
   "source": [
    "circle_1"
   ]
  },
  {
   "cell_type": "code",
   "execution_count": 4,
   "id": "494c1617",
   "metadata": {},
   "outputs": [
    {
     "data": {
      "text/plain": [
       "<__main__.Circle at 0x17a16fe3760>"
      ]
     },
     "execution_count": 4,
     "metadata": {},
     "output_type": "execute_result"
    }
   ],
   "source": [
    "circle_2"
   ]
  },
  {
   "cell_type": "code",
   "execution_count": 5,
   "id": "70e4c2e2",
   "metadata": {},
   "outputs": [
    {
     "data": {
      "text/plain": [
       "3"
      ]
     },
     "execution_count": 5,
     "metadata": {},
     "output_type": "execute_result"
    }
   ],
   "source": [
    "circle_1.radius"
   ]
  },
  {
   "cell_type": "code",
   "execution_count": 6,
   "id": "840a842a",
   "metadata": {},
   "outputs": [
    {
     "data": {
      "text/plain": [
       "28.274"
      ]
     },
     "execution_count": 6,
     "metadata": {},
     "output_type": "execute_result"
    }
   ],
   "source": [
    "circle_1.calculate_area()"
   ]
  },
  {
   "cell_type": "code",
   "execution_count": 7,
   "id": "5f117109",
   "metadata": {},
   "outputs": [
    {
     "data": {
      "text/plain": [
       "31415.927"
      ]
     },
     "execution_count": 7,
     "metadata": {},
     "output_type": "execute_result"
    }
   ],
   "source": [
    "circle_1.radius = 100\n",
    "circle_1.calculate_area()"
   ]
  },
  {
   "cell_type": "code",
   "execution_count": null,
   "id": "c8ad72ac",
   "metadata": {},
   "outputs": [],
   "source": []
  }
 ],
 "metadata": {
  "kernelspec": {
   "display_name": "Python 3 (ipykernel)",
   "language": "python",
   "name": "python3"
  },
  "language_info": {
   "codemirror_mode": {
    "name": "ipython",
    "version": 3
   },
   "file_extension": ".py",
   "mimetype": "text/x-python",
   "name": "python",
   "nbconvert_exporter": "python",
   "pygments_lexer": "ipython3",
   "version": "3.10.12"
  }
 },
 "nbformat": 4,
 "nbformat_minor": 5
}
